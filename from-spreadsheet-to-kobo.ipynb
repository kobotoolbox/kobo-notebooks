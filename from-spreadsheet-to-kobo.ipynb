{
 "cells": [
  {
   "cell_type": "markdown",
   "metadata": {},
   "source": [
    "# From spreadsheet to Kobo\n",
    "---\n",
    "\n",
    "![](https://media.giphy.com/media/xUNd9KMFMPtn5reCiI/giphy.gif)\n",
    "\n",
    "Sometimes you might want to import data from a spreadsheet into the Kobo database. Maybe you've exported your original data into a spreadsheet, done some data-cleaning and now you want it back. If that's the case, you may want to checkout the [bulk updating feature](https://support.kobotoolbox.org/howto_edit_multiple_submissions.html) now included in the UI. Whatever the case, perhaps the following tutorial may help — or at least guide you in a right direction.\n",
    "\n",
    "## Get things setup\n",
    "---\n",
    "\n",
    "You may need to `pip install` some necessary packages to perform some functions depending on your local setup. I'm currently using the [`jupyter/datascience-notebook`](https://registry.hub.docker.com/r/jupyter/datascience-notebook/#!) Docker image. If you have Docker installed locally, you can do the same by running the following command and pasting the generated URL into your browser:\n",
    "\n",
    "```bash\n",
    "docker run -p 8888:8888 -v ~/notebooks:/home/jovyan jupyter/datascience-notebook\n",
    "```\n",
    "\n",
    "Once that's out the way, let's go ahead and import all that we need."
   ]
  },
  {
   "cell_type": "markdown",
   "metadata": {},
   "source": [
    "### Install any necessary packages ⬇️"
   ]
  },
  {
   "cell_type": "code",
   "execution_count": 1,
   "metadata": {
    "collapsed": true
   },
   "outputs": [
    {
     "name": "stdout",
     "output_type": "stream",
     "text": [
      "Requirement already satisfied: openpyxl in /opt/conda/lib/python3.8/site-packages (3.0.7)\r\n",
      "Requirement already satisfied: et-xmlfile in /opt/conda/lib/python3.8/site-packages (from openpyxl) (1.0.1)\r\n"
     ]
    }
   ],
   "source": [
    "!pip install openpyxl"
   ]
  },
  {
   "cell_type": "markdown",
   "metadata": {},
   "source": [
    "### Import whatever you need 👇"
   ]
  },
  {
   "cell_type": "code",
   "execution_count": 2,
   "metadata": {},
   "outputs": [],
   "source": [
    "import io\n",
    "import requests\n",
    "import uuid\n",
    "from datetime import datetime\n",
    "from random import choice, randint, sample\n",
    "from time import sleep\n",
    "from xml.etree import ElementTree as ET\n",
    "\n",
    "import pandas as pd\n",
    "import pytz"
   ]
  },
  {
   "cell_type": "markdown",
   "metadata": {},
   "source": [
    "### Set up some helpful constants that we'll use below 🤘"
   ]
  },
  {
   "cell_type": "code",
   "execution_count": 21,
   "metadata": {},
   "outputs": [],
   "source": [
    "# You can find this by navigating to https://kc.kobotoolbox.org/token\n",
    "TOKEN = '<TOKEN>'"
   ]
  },
  {
   "cell_type": "code",
   "execution_count": 4,
   "metadata": {},
   "outputs": [],
   "source": [
    "KC_URL = 'https://kc.kobotoolbox.org'\n",
    "KF_URL = 'https://kf.kobotoolbox.org'\n",
    "\n",
    "ASSET_UID = 'aLmmfWSAUNamKwiSTcVSis'\n",
    "\n",
    "DATA_URL = f'{KF_URL}/api/v2/assets/{ASSET_UID}/data'\n",
    "XML_URL = f'{DATA_URL}.xml'\n",
    "SUMISSION_URL = f'{KC_URL}/api/v1/submissions'\n",
    "\n",
    "HEADERS = {\n",
    "    'Authorization': f'Token {TOKEN}'\n",
    "}\n",
    "PARAMS = {\n",
    "    'format': 'json'\n",
    "}"
   ]
  },
  {
   "cell_type": "markdown",
   "metadata": {},
   "source": [
    "## Let's create some random submission data 🎉\n",
    "\n",
    "![](https://media.giphy.com/media/xT9C25UNTwfZuk85WP/giphy.gif)\n",
    "\n",
    "For the purposes of demonstration, let's generate a list of submissions with random names and random choices from the available list of pizza toppings: cheese, pepperoni and saussage.\n",
    "\n",
    "Those submissions will then be exported into an Excel file so that we have what we need to continue with the walkthrough of submitting data from an Excel spreadsheet."
   ]
  },
  {
   "cell_type": "code",
   "execution_count": 5,
   "metadata": {},
   "outputs": [],
   "source": [
    "names_url = 'https://raw.githubusercontent.com/dominictarr/random-name/master/first-names.txt'\n",
    "names = requests.get(names_url).content.decode().split()\n",
    "topings = ['cheese', 'pepperoni', 'sausage']"
   ]
  },
  {
   "cell_type": "code",
   "execution_count": 6,
   "metadata": {},
   "outputs": [],
   "source": [
    "NUBER_OF_SUBMISSIONS = 20\n",
    "submissions = []\n",
    "for _ in range(NUBER_OF_SUBMISSIONS):\n",
    "    submissions.append(\n",
    "        {\n",
    "            'name': choice(names),\n",
    "            'favorite_toppings': ' '.join(sample(topings, randint(1, 3)))\n",
    "        }\n",
    "    )"
   ]
  },
  {
   "cell_type": "code",
   "execution_count": 7,
   "metadata": {},
   "outputs": [
    {
     "data": {
      "text/plain": [
       "[{'name': 'Bunni', 'favorite_toppings': 'sausage'},\n",
       " {'name': 'Letisha', 'favorite_toppings': 'sausage pepperoni'},\n",
       " {'name': 'Sara', 'favorite_toppings': 'sausage'},\n",
       " {'name': 'Michelina', 'favorite_toppings': 'sausage'},\n",
       " {'name': 'Rachelle', 'favorite_toppings': 'pepperoni sausage cheese'},\n",
       " {'name': 'Louella', 'favorite_toppings': 'sausage pepperoni'},\n",
       " {'name': 'Gus', 'favorite_toppings': 'pepperoni cheese sausage'},\n",
       " {'name': 'Cacilia', 'favorite_toppings': 'pepperoni cheese sausage'},\n",
       " {'name': 'Mae', 'favorite_toppings': 'pepperoni'},\n",
       " {'name': 'Margit', 'favorite_toppings': 'cheese pepperoni'}]"
      ]
     },
     "execution_count": 7,
     "metadata": {},
     "output_type": "execute_result"
    }
   ],
   "source": [
    "submissions[:10]"
   ]
  },
  {
   "cell_type": "code",
   "execution_count": 8,
   "metadata": {},
   "outputs": [],
   "source": [
    "subs = pd.DataFrame(submissions)"
   ]
  },
  {
   "cell_type": "code",
   "execution_count": 9,
   "metadata": {},
   "outputs": [
    {
     "data": {
      "text/html": [
       "<div>\n",
       "<style scoped>\n",
       "    .dataframe tbody tr th:only-of-type {\n",
       "        vertical-align: middle;\n",
       "    }\n",
       "\n",
       "    .dataframe tbody tr th {\n",
       "        vertical-align: top;\n",
       "    }\n",
       "\n",
       "    .dataframe thead th {\n",
       "        text-align: right;\n",
       "    }\n",
       "</style>\n",
       "<table border=\"1\" class=\"dataframe\">\n",
       "  <thead>\n",
       "    <tr style=\"text-align: right;\">\n",
       "      <th></th>\n",
       "      <th>name</th>\n",
       "      <th>favorite_toppings</th>\n",
       "    </tr>\n",
       "  </thead>\n",
       "  <tbody>\n",
       "    <tr>\n",
       "      <th>0</th>\n",
       "      <td>Bunni</td>\n",
       "      <td>sausage</td>\n",
       "    </tr>\n",
       "    <tr>\n",
       "      <th>1</th>\n",
       "      <td>Letisha</td>\n",
       "      <td>sausage pepperoni</td>\n",
       "    </tr>\n",
       "    <tr>\n",
       "      <th>2</th>\n",
       "      <td>Sara</td>\n",
       "      <td>sausage</td>\n",
       "    </tr>\n",
       "    <tr>\n",
       "      <th>3</th>\n",
       "      <td>Michelina</td>\n",
       "      <td>sausage</td>\n",
       "    </tr>\n",
       "    <tr>\n",
       "      <th>4</th>\n",
       "      <td>Rachelle</td>\n",
       "      <td>pepperoni sausage cheese</td>\n",
       "    </tr>\n",
       "  </tbody>\n",
       "</table>\n",
       "</div>"
      ],
      "text/plain": [
       "        name         favorite_toppings\n",
       "0      Bunni                   sausage\n",
       "1    Letisha         sausage pepperoni\n",
       "2       Sara                   sausage\n",
       "3  Michelina                   sausage\n",
       "4   Rachelle  pepperoni sausage cheese"
      ]
     },
     "execution_count": 9,
     "metadata": {},
     "output_type": "execute_result"
    }
   ],
   "source": [
    "subs.head()"
   ]
  },
  {
   "cell_type": "markdown",
   "metadata": {},
   "source": [
    "Export that data into a spreadsheet!"
   ]
  },
  {
   "cell_type": "code",
   "execution_count": 10,
   "metadata": {},
   "outputs": [],
   "source": [
    "subs.to_excel('submissions.xlsx', index=False)"
   ]
  },
  {
   "cell_type": "markdown",
   "metadata": {},
   "source": [
    "## Moving on 🚶‍♂️\n",
    "---\n",
    "\n",
    "Now that we've got some submission data in an Excel spreadsheet, we can move on with the how to submit it.\n",
    "\n",
    "![](https://media.giphy.com/media/Y0arChV1qGnQ3NWX9C/giphy.gif)"
   ]
  },
  {
   "cell_type": "code",
   "execution_count": 11,
   "metadata": {},
   "outputs": [],
   "source": [
    "subs = pd.read_excel('submissions.xlsx')"
   ]
  },
  {
   "cell_type": "code",
   "execution_count": 12,
   "metadata": {},
   "outputs": [
    {
     "data": {
      "text/html": [
       "<div>\n",
       "<style scoped>\n",
       "    .dataframe tbody tr th:only-of-type {\n",
       "        vertical-align: middle;\n",
       "    }\n",
       "\n",
       "    .dataframe tbody tr th {\n",
       "        vertical-align: top;\n",
       "    }\n",
       "\n",
       "    .dataframe thead th {\n",
       "        text-align: right;\n",
       "    }\n",
       "</style>\n",
       "<table border=\"1\" class=\"dataframe\">\n",
       "  <thead>\n",
       "    <tr style=\"text-align: right;\">\n",
       "      <th></th>\n",
       "      <th>name</th>\n",
       "      <th>favorite_toppings</th>\n",
       "    </tr>\n",
       "  </thead>\n",
       "  <tbody>\n",
       "    <tr>\n",
       "      <th>0</th>\n",
       "      <td>Bunni</td>\n",
       "      <td>sausage</td>\n",
       "    </tr>\n",
       "    <tr>\n",
       "      <th>1</th>\n",
       "      <td>Letisha</td>\n",
       "      <td>sausage pepperoni</td>\n",
       "    </tr>\n",
       "    <tr>\n",
       "      <th>2</th>\n",
       "      <td>Sara</td>\n",
       "      <td>sausage</td>\n",
       "    </tr>\n",
       "    <tr>\n",
       "      <th>3</th>\n",
       "      <td>Michelina</td>\n",
       "      <td>sausage</td>\n",
       "    </tr>\n",
       "    <tr>\n",
       "      <th>4</th>\n",
       "      <td>Rachelle</td>\n",
       "      <td>pepperoni sausage cheese</td>\n",
       "    </tr>\n",
       "  </tbody>\n",
       "</table>\n",
       "</div>"
      ],
      "text/plain": [
       "        name         favorite_toppings\n",
       "0      Bunni                   sausage\n",
       "1    Letisha         sausage pepperoni\n",
       "2       Sara                   sausage\n",
       "3  Michelina                   sausage\n",
       "4   Rachelle  pepperoni sausage cheese"
      ]
     },
     "execution_count": 12,
     "metadata": {},
     "output_type": "execute_result"
    }
   ],
   "source": [
    "subs.head()"
   ]
  },
  {
   "cell_type": "markdown",
   "metadata": {},
   "source": [
    "### Now the fun begins 🕺\n",
    "\n",
    "![](https://media.giphy.com/media/3oEjHKiDeYrKnjwGFq/giphy.gif)\n",
    "\n",
    "There are several ways we can go about constructing the XML for each submission, but what may be the simplist is to pull the XML structure of an existing submission (if you don't have one yet, just create a submission through Enketo) and then use that as a template.\n",
    "\n",
    "So, assuming there is at least one submission already, let's continue:"
   ]
  },
  {
   "cell_type": "code",
   "execution_count": 13,
   "metadata": {},
   "outputs": [],
   "source": [
    "res = requests.get(url=XML_URL, headers=HEADERS, params=PARAMS)"
   ]
  },
  {
   "cell_type": "code",
   "execution_count": 14,
   "metadata": {},
   "outputs": [
    {
     "data": {
      "text/plain": [
       "200"
      ]
     },
     "execution_count": 14,
     "metadata": {},
     "output_type": "execute_result"
    }
   ],
   "source": [
    "res.status_code"
   ]
  },
  {
   "cell_type": "markdown",
   "metadata": {},
   "source": [
    "If you take a look at the XML structure, the submissions are nested within `results` and use the `ASSET_UID` as their root."
   ]
  },
  {
   "cell_type": "code",
   "execution_count": 15,
   "metadata": {},
   "outputs": [],
   "source": [
    "parsed_xml = ET.fromstring(res.text)\n",
    "e = parsed_xml.find(f'results/{ASSET_UID}')\n",
    "template = ET.tostring(e)"
   ]
  },
  {
   "cell_type": "code",
   "execution_count": 16,
   "metadata": {},
   "outputs": [
    {
     "name": "stdout",
     "output_type": "stream",
     "text": [
      "<aLmmfWSAUNamKwiSTcVSis id=\"aLmmfWSAUNamKwiSTcVSis\" version=\"1 (2021-03-25 21:50:30)\">\n",
      "          <formhub>\n",
      "            <uuid>8d4cc6d68c004f399af90084baefa99d</uuid>\n",
      "          </formhub>\n",
      "          <name>Josh</name>\n",
      "          <favorite_toppings>cheese pepperoni sausage</favorite_toppings>\n",
      "          <__version__>vA6sVYHjMET6Dpet8PLqks</__version__>\n",
      "          <meta>\n",
      "            <instanceID>uuid:1341837c-fbd3-4400-af87-738e5b93a5eb</instanceID>\n",
      "          </meta>\n",
      "        </aLmmfWSAUNamKwiSTcVSis>\n"
     ]
    }
   ],
   "source": [
    "print(template.decode())"
   ]
  },
  {
   "cell_type": "markdown",
   "metadata": {},
   "source": [
    "### Time for some hacking 💻\n",
    "\n",
    "![](https://media.giphy.com/media/wpoLqr5FT1sY0/giphy.gif)\n",
    "\n",
    "Now that we've got a template, let's go ahead and create some helpful methods to parse and update that template with the data in the Excel spreadsheet.\n",
    "\n",
    "(If you're interested, most of the process below is adapted from the code in KPI that interfaces with Kobocat [here](https://github.com/kobotoolbox/kpi/blob/d56621b6daced1891bc9fe2661c2aafe9e9a92a4/kpi/deployment_backends/kobocat_backend.py#L641-L722).)"
   ]
  },
  {
   "cell_type": "code",
   "execution_count": 17,
   "metadata": {},
   "outputs": [],
   "source": [
    "def submit_data(xml_sub: bytes, _uuid: str) -> str:\n",
    "    \"\"\"\n",
    "    Send the XML to kobo!\n",
    "    \"\"\"\n",
    "    file_tuple = (_uuid, io.BytesIO(xml_sub))\n",
    "    files = {'xml_submission_file': file_tuple}\n",
    "    res = requests.Request(\n",
    "        method='POST', url=SUMISSION_URL, files=files, headers=HEADERS\n",
    "    )\n",
    "    session = requests.Session()\n",
    "    res = session.send(res.prepare())\n",
    "    return res.status_code\n",
    "\n",
    "def format_openrosa_datetime() -> str:\n",
    "    \"\"\"\n",
    "    This is required to get the correct datetime formatting\n",
    "    \"\"\"\n",
    "    return datetime.now(tz=pytz.UTC).isoformat('T', 'milliseconds')\n",
    "\n",
    "def update_element_value(e: ET.Element, name: str, value: str) -> None:\n",
    "    \"\"\"\n",
    "    Get or create a node and give it a value\n",
    "    \"\"\"\n",
    "    el = e.find(name)\n",
    "    if el is None:\n",
    "        el = ET.SubElement(e, name)\n",
    "    el.text = value\n",
    "\n",
    "def create_submissions(data: pd.DataFrame) -> list:\n",
    "    \"\"\"\n",
    "    Take a bunch of submissions and send them off\n",
    "    \"\"\"\n",
    "    all_subs = []\n",
    "    parsed_xml = ET.fromstring(template)\n",
    "    for i, row in data.iterrows():\n",
    "        _now = format_openrosa_datetime()\n",
    "        _uuid = str(uuid.uuid4())\n",
    "        \n",
    "        for item in data.columns:\n",
    "            update_element_value(parsed_xml, item, row[item])\n",
    "        \n",
    "        # We have to update the instanceID, otherwise there'll be issues\n",
    "        update_element_value(parsed_xml, 'meta/instanceID', f'uuid:{_uuid}')\n",
    "        \n",
    "        # Updating the `start` and `end` times is not really necessary, but \n",
    "        # probably something you'd want to do\n",
    "        update_element_value(parsed_xml, 'start', _now)\n",
    "        update_element_value(parsed_xml, 'end', _now)\n",
    "        \n",
    "        all_subs.append(submit_data(ET.tostring(parsed_xml), _uuid))\n",
    "        \n",
    "        # If you are submitting a large amount of data, please be mindful that it can\n",
    "        # overwhelm the servers if sent in a short span of time. Letting it sleep for\n",
    "        # for a short stint between each upload will be much appreciated\n",
    "        sleep(0.2)\n",
    "        \n",
    "    return all_subs"
   ]
  },
  {
   "cell_type": "code",
   "execution_count": 18,
   "metadata": {},
   "outputs": [],
   "source": [
    "responses = create_submissions(subs)"
   ]
  },
  {
   "cell_type": "markdown",
   "metadata": {},
   "source": [
    "Let's do a quick check to see if all the responses were successful:"
   ]
  },
  {
   "cell_type": "code",
   "execution_count": 19,
   "metadata": {},
   "outputs": [
    {
     "data": {
      "text/plain": [
       "True"
      ]
     },
     "execution_count": 19,
     "metadata": {},
     "output_type": "execute_result"
    }
   ],
   "source": [
    "all(res == 201 for res in responses)"
   ]
  },
  {
   "cell_type": "markdown",
   "metadata": {},
   "source": [
    "If there were a few unsuccessful, let's see how many..."
   ]
  },
  {
   "cell_type": "code",
   "execution_count": 20,
   "metadata": {},
   "outputs": [
    {
     "data": {
      "text/plain": [
       "201    20\n",
       "dtype: int64"
      ]
     },
     "execution_count": 20,
     "metadata": {},
     "output_type": "execute_result"
    }
   ],
   "source": [
    "pd.Series(responses).value_counts()"
   ]
  },
  {
   "cell_type": "markdown",
   "metadata": {},
   "source": [
    "## All done 🔥\n",
    "\n",
    "Check the data table in the Kobo UI and ensure that your data has been successfully submitted.\n",
    "\n",
    "![](https://media.giphy.com/media/lD76yTC5zxZPG/giphy.gif)"
   ]
  }
 ],
 "metadata": {
  "kernelspec": {
   "display_name": "Python 3",
   "language": "python",
   "name": "python3"
  },
  "language_info": {
   "codemirror_mode": {
    "name": "ipython",
    "version": 3
   },
   "file_extension": ".py",
   "mimetype": "text/x-python",
   "name": "python",
   "nbconvert_exporter": "python",
   "pygments_lexer": "ipython3",
   "version": "3.8.6"
  }
 },
 "nbformat": 4,
 "nbformat_minor": 4
}
