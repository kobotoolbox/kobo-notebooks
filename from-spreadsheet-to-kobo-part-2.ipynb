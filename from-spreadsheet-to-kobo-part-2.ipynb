{
 "cells": [
  {
   "cell_type": "markdown",
   "metadata": {},
   "source": [
    "# From spreadsheet to Kobo — Part 2 (maybe 3?)\n",
    "---"
   ]
  },
  {
   "cell_type": "markdown",
   "metadata": {},
   "source": [
    "### Import whatever you need 👇"
   ]
  },
  {
   "cell_type": "code",
   "execution_count": 208,
   "metadata": {},
   "outputs": [],
   "source": [
    "import io\n",
    "import os\n",
    "import copy\n",
    "import requests\n",
    "import uuid\n",
    "from datetime import datetime\n",
    "from time import sleep\n",
    "from xml.etree import ElementTree as ET\n",
    "\n",
    "import pandas as pd\n",
    "import pytz"
   ]
  },
  {
   "cell_type": "markdown",
   "metadata": {},
   "source": [
    "### Set up some helpful constants that we'll use below 🤘"
   ]
  },
  {
   "cell_type": "code",
   "execution_count": 4,
   "metadata": {},
   "outputs": [],
   "source": [
    "# You can find this by navigating to https://kc.kobotoolbox.org/token\n",
    "TOKEN = os.environ.get('KOBO_TOKEN')"
   ]
  },
  {
   "cell_type": "code",
   "execution_count": 257,
   "metadata": {},
   "outputs": [],
   "source": [
    "KC_URL = 'https://kc.kobotoolbox.org'\n",
    "KF_URL = 'https://kf.kobotoolbox.org'\n",
    "\n",
    "ASSET_UID = 'aBebWB9QVH7hzW4PqzDJum'\n",
    "\n",
    "ASSETS_URL = f'{KF_URL}/api/v2/assets/'\n",
    "DATA_URL = f'{ASSETS_URL}{ASSET_UID}/data'\n",
    "DEPLOYMENT_URL = '{}{}/deployment/'\n",
    "XML_URL = f'{DATA_URL}.xml'\n",
    "SUMISSION_URL = f'{KC_URL}/api/v1/submissions'\n",
    "FORMS_URL = f'{KC_URL}/api/v1/forms'\n",
    "\n",
    "HEADERS = {\n",
    "    'Authorization': f'Token {TOKEN}'\n",
    "}\n",
    "PARAMS = {\n",
    "    'format': 'json'\n",
    "}\n",
    "\n",
    "FILENAME = 'repeat_groups_export_2.xlsx'\n",
    "REPEAT_GROUP_NAME = 'group_gp3qf47'\n",
    "\n",
    "def _get_deployment_url(asset_uid):\n",
    "    return DEPLOYMENT_URL.format(ASSETS_URL, asset_uid)"
   ]
  },
  {
   "cell_type": "code",
   "execution_count": 258,
   "metadata": {
    "scrolled": true
   },
   "outputs": [
    {
     "data": {
      "text/html": [
       "<div>\n",
       "<style scoped>\n",
       "    .dataframe tbody tr th:only-of-type {\n",
       "        vertical-align: middle;\n",
       "    }\n",
       "\n",
       "    .dataframe tbody tr th {\n",
       "        vertical-align: top;\n",
       "    }\n",
       "\n",
       "    .dataframe thead th {\n",
       "        text-align: right;\n",
       "    }\n",
       "</style>\n",
       "<table border=\"1\" class=\"dataframe\">\n",
       "  <thead>\n",
       "    <tr style=\"text-align: right;\">\n",
       "      <th></th>\n",
       "      <th>start</th>\n",
       "      <th>end</th>\n",
       "      <th>What_is_your_name</th>\n",
       "      <th>_id</th>\n",
       "      <th>_uuid</th>\n",
       "      <th>_submission_time</th>\n",
       "      <th>_validation_status</th>\n",
       "      <th>_notes</th>\n",
       "      <th>_status</th>\n",
       "      <th>_submitted_by</th>\n",
       "      <th>_tags</th>\n",
       "      <th>_index</th>\n",
       "    </tr>\n",
       "  </thead>\n",
       "  <tbody>\n",
       "    <tr>\n",
       "      <th>0</th>\n",
       "      <td>2021-03-31T12:15:42.060-07:00</td>\n",
       "      <td>2021-03-31T12:16:16.806-07:00</td>\n",
       "      <td>josh</td>\n",
       "      <td>90824294</td>\n",
       "      <td>62541aa7-3c76-4acd-817d-aea9c5df705b</td>\n",
       "      <td>2021-03-31T19:16:27</td>\n",
       "      <td>NaN</td>\n",
       "      <td>[]</td>\n",
       "      <td>submitted_via_web</td>\n",
       "      <td>NaN</td>\n",
       "      <td>NaN</td>\n",
       "      <td>1</td>\n",
       "    </tr>\n",
       "    <tr>\n",
       "      <th>1</th>\n",
       "      <td>2021-03-31T12:16:16.829-07:00</td>\n",
       "      <td>2021-03-31T12:16:39.500-07:00</td>\n",
       "      <td>Naomi</td>\n",
       "      <td>90824366</td>\n",
       "      <td>4c23486d-9a76-4c4f-843f-2c00653e3048</td>\n",
       "      <td>2021-03-31T19:16:50</td>\n",
       "      <td>NaN</td>\n",
       "      <td>[]</td>\n",
       "      <td>submitted_via_web</td>\n",
       "      <td>NaN</td>\n",
       "      <td>NaN</td>\n",
       "      <td>2</td>\n",
       "    </tr>\n",
       "    <tr>\n",
       "      <th>2</th>\n",
       "      <td>2021-03-31T12:16:39.513-07:00</td>\n",
       "      <td>2021-03-31T12:17:06.095-07:00</td>\n",
       "      <td>David</td>\n",
       "      <td>90824395</td>\n",
       "      <td>a68e72e8-b6b6-4929-9c1d-d61d50d400ba</td>\n",
       "      <td>2021-03-31T19:17:10</td>\n",
       "      <td>NaN</td>\n",
       "      <td>[]</td>\n",
       "      <td>submitted_via_web</td>\n",
       "      <td>NaN</td>\n",
       "      <td>NaN</td>\n",
       "      <td>3</td>\n",
       "    </tr>\n",
       "  </tbody>\n",
       "</table>\n",
       "</div>"
      ],
      "text/plain": [
       "                           start                            end  \\\n",
       "0  2021-03-31T12:15:42.060-07:00  2021-03-31T12:16:16.806-07:00   \n",
       "1  2021-03-31T12:16:16.829-07:00  2021-03-31T12:16:39.500-07:00   \n",
       "2  2021-03-31T12:16:39.513-07:00  2021-03-31T12:17:06.095-07:00   \n",
       "\n",
       "  What_is_your_name       _id                                 _uuid  \\\n",
       "0              josh  90824294  62541aa7-3c76-4acd-817d-aea9c5df705b   \n",
       "1             Naomi  90824366  4c23486d-9a76-4c4f-843f-2c00653e3048   \n",
       "2             David  90824395  a68e72e8-b6b6-4929-9c1d-d61d50d400ba   \n",
       "\n",
       "      _submission_time  _validation_status _notes            _status  \\\n",
       "0  2021-03-31T19:16:27                 NaN     []  submitted_via_web   \n",
       "1  2021-03-31T19:16:50                 NaN     []  submitted_via_web   \n",
       "2  2021-03-31T19:17:10                 NaN     []  submitted_via_web   \n",
       "\n",
       "   _submitted_by  _tags  _index  \n",
       "0            NaN    NaN       1  \n",
       "1            NaN    NaN       2  \n",
       "2            NaN    NaN       3  "
      ]
     },
     "execution_count": 258,
     "metadata": {},
     "output_type": "execute_result"
    }
   ],
   "source": [
    "subs = pd.read_excel(FILENAME)\n",
    "subs.head()"
   ]
  },
  {
   "cell_type": "code",
   "execution_count": 259,
   "metadata": {},
   "outputs": [
    {
     "data": {
      "text/plain": [
       "['start',\n",
       " 'end',\n",
       " 'What_is_your_name',\n",
       " '_id',\n",
       " '_uuid',\n",
       " '_submission_time',\n",
       " '_validation_status',\n",
       " '_notes',\n",
       " '_status',\n",
       " '_submitted_by',\n",
       " '_tags',\n",
       " '_index']"
      ]
     },
     "execution_count": 259,
     "metadata": {},
     "output_type": "execute_result"
    }
   ],
   "source": [
    "subs.columns.to_list()"
   ]
  },
  {
   "cell_type": "code",
   "execution_count": 260,
   "metadata": {},
   "outputs": [
    {
     "data": {
      "text/html": [
       "<div>\n",
       "<style scoped>\n",
       "    .dataframe tbody tr th:only-of-type {\n",
       "        vertical-align: middle;\n",
       "    }\n",
       "\n",
       "    .dataframe tbody tr th {\n",
       "        vertical-align: top;\n",
       "    }\n",
       "\n",
       "    .dataframe thead th {\n",
       "        text-align: right;\n",
       "    }\n",
       "</style>\n",
       "<table border=\"1\" class=\"dataframe\">\n",
       "  <thead>\n",
       "    <tr style=\"text-align: right;\">\n",
       "      <th></th>\n",
       "      <th>What_is_your_name</th>\n",
       "      <th>_uuid</th>\n",
       "    </tr>\n",
       "  </thead>\n",
       "  <tbody>\n",
       "    <tr>\n",
       "      <th>0</th>\n",
       "      <td>josh</td>\n",
       "      <td>62541aa7-3c76-4acd-817d-aea9c5df705b</td>\n",
       "    </tr>\n",
       "    <tr>\n",
       "      <th>1</th>\n",
       "      <td>Naomi</td>\n",
       "      <td>4c23486d-9a76-4c4f-843f-2c00653e3048</td>\n",
       "    </tr>\n",
       "    <tr>\n",
       "      <th>2</th>\n",
       "      <td>David</td>\n",
       "      <td>a68e72e8-b6b6-4929-9c1d-d61d50d400ba</td>\n",
       "    </tr>\n",
       "  </tbody>\n",
       "</table>\n",
       "</div>"
      ],
      "text/plain": [
       "  What_is_your_name                                 _uuid\n",
       "0              josh  62541aa7-3c76-4acd-817d-aea9c5df705b\n",
       "1             Naomi  4c23486d-9a76-4c4f-843f-2c00653e3048\n",
       "2             David  a68e72e8-b6b6-4929-9c1d-d61d50d400ba"
      ]
     },
     "execution_count": 260,
     "metadata": {},
     "output_type": "execute_result"
    }
   ],
   "source": [
    "subs_cols = ['What_is_your_name', '_uuid']\n",
    "subs_filtered = subs[subs_cols]\n",
    "subs_filtered.head()"
   ]
  },
  {
   "cell_type": "code",
   "execution_count": 261,
   "metadata": {},
   "outputs": [
    {
     "data": {
      "text/html": [
       "<div>\n",
       "<style scoped>\n",
       "    .dataframe tbody tr th:only-of-type {\n",
       "        vertical-align: middle;\n",
       "    }\n",
       "\n",
       "    .dataframe tbody tr th {\n",
       "        vertical-align: top;\n",
       "    }\n",
       "\n",
       "    .dataframe thead th {\n",
       "        text-align: right;\n",
       "    }\n",
       "</style>\n",
       "<table border=\"1\" class=\"dataframe\">\n",
       "  <thead>\n",
       "    <tr style=\"text-align: right;\">\n",
       "      <th></th>\n",
       "      <th>A_pizza_place_you_like</th>\n",
       "      <th>Your_favourite_toppings_there</th>\n",
       "      <th>Your_favourite_toppings_there/cheese</th>\n",
       "      <th>Your_favourite_toppings_there/pepperoni</th>\n",
       "      <th>Your_favourite_toppings_there/avo</th>\n",
       "      <th>_index</th>\n",
       "      <th>_parent_table_name</th>\n",
       "      <th>_parent_index</th>\n",
       "      <th>_submission__id</th>\n",
       "      <th>_submission__uuid</th>\n",
       "      <th>_submission__submission_time</th>\n",
       "      <th>_submission__validation_status</th>\n",
       "      <th>_submission__notes</th>\n",
       "      <th>_submission__status</th>\n",
       "      <th>_submission__submitted_by</th>\n",
       "      <th>_submission__tags</th>\n",
       "    </tr>\n",
       "  </thead>\n",
       "  <tbody>\n",
       "    <tr>\n",
       "      <th>0</th>\n",
       "      <td>Place 1</td>\n",
       "      <td>cheese pepperoni avo</td>\n",
       "      <td>1</td>\n",
       "      <td>1</td>\n",
       "      <td>1</td>\n",
       "      <td>1</td>\n",
       "      <td>Repeat groups 2</td>\n",
       "      <td>1</td>\n",
       "      <td>90824294</td>\n",
       "      <td>62541aa7-3c76-4acd-817d-aea9c5df705b</td>\n",
       "      <td>2021-03-31T19:16:27</td>\n",
       "      <td>NaN</td>\n",
       "      <td>[]</td>\n",
       "      <td>submitted_via_web</td>\n",
       "      <td>NaN</td>\n",
       "      <td>[]</td>\n",
       "    </tr>\n",
       "    <tr>\n",
       "      <th>1</th>\n",
       "      <td>Place 2</td>\n",
       "      <td>avo</td>\n",
       "      <td>0</td>\n",
       "      <td>0</td>\n",
       "      <td>1</td>\n",
       "      <td>2</td>\n",
       "      <td>Repeat groups 2</td>\n",
       "      <td>1</td>\n",
       "      <td>90824294</td>\n",
       "      <td>62541aa7-3c76-4acd-817d-aea9c5df705b</td>\n",
       "      <td>2021-03-31T19:16:27</td>\n",
       "      <td>NaN</td>\n",
       "      <td>[]</td>\n",
       "      <td>submitted_via_web</td>\n",
       "      <td>NaN</td>\n",
       "      <td>[]</td>\n",
       "    </tr>\n",
       "    <tr>\n",
       "      <th>2</th>\n",
       "      <td>Place 1</td>\n",
       "      <td>pepperoni avo</td>\n",
       "      <td>0</td>\n",
       "      <td>1</td>\n",
       "      <td>1</td>\n",
       "      <td>3</td>\n",
       "      <td>Repeat groups 2</td>\n",
       "      <td>2</td>\n",
       "      <td>90824366</td>\n",
       "      <td>4c23486d-9a76-4c4f-843f-2c00653e3048</td>\n",
       "      <td>2021-03-31T19:16:50</td>\n",
       "      <td>NaN</td>\n",
       "      <td>[]</td>\n",
       "      <td>submitted_via_web</td>\n",
       "      <td>NaN</td>\n",
       "      <td>[]</td>\n",
       "    </tr>\n",
       "    <tr>\n",
       "      <th>3</th>\n",
       "      <td>Place 3</td>\n",
       "      <td>cheese pepperoni avo</td>\n",
       "      <td>1</td>\n",
       "      <td>1</td>\n",
       "      <td>1</td>\n",
       "      <td>4</td>\n",
       "      <td>Repeat groups 2</td>\n",
       "      <td>2</td>\n",
       "      <td>90824366</td>\n",
       "      <td>4c23486d-9a76-4c4f-843f-2c00653e3048</td>\n",
       "      <td>2021-03-31T19:16:50</td>\n",
       "      <td>NaN</td>\n",
       "      <td>[]</td>\n",
       "      <td>submitted_via_web</td>\n",
       "      <td>NaN</td>\n",
       "      <td>[]</td>\n",
       "    </tr>\n",
       "    <tr>\n",
       "      <th>4</th>\n",
       "      <td>Place 1</td>\n",
       "      <td>cheese pepperoni avo</td>\n",
       "      <td>1</td>\n",
       "      <td>1</td>\n",
       "      <td>1</td>\n",
       "      <td>5</td>\n",
       "      <td>Repeat groups 2</td>\n",
       "      <td>3</td>\n",
       "      <td>90824395</td>\n",
       "      <td>a68e72e8-b6b6-4929-9c1d-d61d50d400ba</td>\n",
       "      <td>2021-03-31T19:17:10</td>\n",
       "      <td>NaN</td>\n",
       "      <td>[]</td>\n",
       "      <td>submitted_via_web</td>\n",
       "      <td>NaN</td>\n",
       "      <td>[]</td>\n",
       "    </tr>\n",
       "  </tbody>\n",
       "</table>\n",
       "</div>"
      ],
      "text/plain": [
       "  A_pizza_place_you_like Your_favourite_toppings_there  \\\n",
       "0                Place 1          cheese pepperoni avo   \n",
       "1                Place 2                           avo   \n",
       "2                Place 1                 pepperoni avo   \n",
       "3                Place 3          cheese pepperoni avo   \n",
       "4                Place 1          cheese pepperoni avo   \n",
       "\n",
       "   Your_favourite_toppings_there/cheese  \\\n",
       "0                                     1   \n",
       "1                                     0   \n",
       "2                                     0   \n",
       "3                                     1   \n",
       "4                                     1   \n",
       "\n",
       "   Your_favourite_toppings_there/pepperoni  Your_favourite_toppings_there/avo  \\\n",
       "0                                        1                                  1   \n",
       "1                                        0                                  1   \n",
       "2                                        1                                  1   \n",
       "3                                        1                                  1   \n",
       "4                                        1                                  1   \n",
       "\n",
       "   _index _parent_table_name  _parent_index  _submission__id  \\\n",
       "0       1    Repeat groups 2              1         90824294   \n",
       "1       2    Repeat groups 2              1         90824294   \n",
       "2       3    Repeat groups 2              2         90824366   \n",
       "3       4    Repeat groups 2              2         90824366   \n",
       "4       5    Repeat groups 2              3         90824395   \n",
       "\n",
       "                      _submission__uuid _submission__submission_time  \\\n",
       "0  62541aa7-3c76-4acd-817d-aea9c5df705b          2021-03-31T19:16:27   \n",
       "1  62541aa7-3c76-4acd-817d-aea9c5df705b          2021-03-31T19:16:27   \n",
       "2  4c23486d-9a76-4c4f-843f-2c00653e3048          2021-03-31T19:16:50   \n",
       "3  4c23486d-9a76-4c4f-843f-2c00653e3048          2021-03-31T19:16:50   \n",
       "4  a68e72e8-b6b6-4929-9c1d-d61d50d400ba          2021-03-31T19:17:10   \n",
       "\n",
       "   _submission__validation_status _submission__notes _submission__status  \\\n",
       "0                             NaN                 []   submitted_via_web   \n",
       "1                             NaN                 []   submitted_via_web   \n",
       "2                             NaN                 []   submitted_via_web   \n",
       "3                             NaN                 []   submitted_via_web   \n",
       "4                             NaN                 []   submitted_via_web   \n",
       "\n",
       "   _submission__submitted_by _submission__tags  \n",
       "0                        NaN                []  \n",
       "1                        NaN                []  \n",
       "2                        NaN                []  \n",
       "3                        NaN                []  \n",
       "4                        NaN                []  "
      ]
     },
     "execution_count": 261,
     "metadata": {},
     "output_type": "execute_result"
    }
   ],
   "source": [
    "repeat_subs = pd.read_excel(FILENAME, sheet_name=REPEAT_GROUP_NAME)\n",
    "repeat_subs.head()"
   ]
  },
  {
   "cell_type": "markdown",
   "metadata": {},
   "source": [
    "# Data cleaning"
   ]
  },
  {
   "cell_type": "code",
   "execution_count": 262,
   "metadata": {
    "scrolled": true
   },
   "outputs": [
    {
     "data": {
      "text/html": [
       "<div>\n",
       "<style scoped>\n",
       "    .dataframe tbody tr th:only-of-type {\n",
       "        vertical-align: middle;\n",
       "    }\n",
       "\n",
       "    .dataframe tbody tr th {\n",
       "        vertical-align: top;\n",
       "    }\n",
       "\n",
       "    .dataframe thead th {\n",
       "        text-align: right;\n",
       "    }\n",
       "</style>\n",
       "<table border=\"1\" class=\"dataframe\">\n",
       "  <thead>\n",
       "    <tr style=\"text-align: right;\">\n",
       "      <th></th>\n",
       "      <th>A_pizza_place_you_like</th>\n",
       "      <th>Your_favourite_toppings_there</th>\n",
       "      <th>_submission__uuid</th>\n",
       "    </tr>\n",
       "  </thead>\n",
       "  <tbody>\n",
       "    <tr>\n",
       "      <th>0</th>\n",
       "      <td>Place 1</td>\n",
       "      <td>cheese pepperoni avo</td>\n",
       "      <td>62541aa7-3c76-4acd-817d-aea9c5df705b</td>\n",
       "    </tr>\n",
       "    <tr>\n",
       "      <th>1</th>\n",
       "      <td>Place 2</td>\n",
       "      <td>avo</td>\n",
       "      <td>62541aa7-3c76-4acd-817d-aea9c5df705b</td>\n",
       "    </tr>\n",
       "    <tr>\n",
       "      <th>2</th>\n",
       "      <td>Place 1</td>\n",
       "      <td>pepperoni avo</td>\n",
       "      <td>4c23486d-9a76-4c4f-843f-2c00653e3048</td>\n",
       "    </tr>\n",
       "    <tr>\n",
       "      <th>3</th>\n",
       "      <td>Place 3</td>\n",
       "      <td>cheese pepperoni avo</td>\n",
       "      <td>4c23486d-9a76-4c4f-843f-2c00653e3048</td>\n",
       "    </tr>\n",
       "    <tr>\n",
       "      <th>4</th>\n",
       "      <td>Place 1</td>\n",
       "      <td>cheese pepperoni avo</td>\n",
       "      <td>a68e72e8-b6b6-4929-9c1d-d61d50d400ba</td>\n",
       "    </tr>\n",
       "  </tbody>\n",
       "</table>\n",
       "</div>"
      ],
      "text/plain": [
       "  A_pizza_place_you_like Your_favourite_toppings_there  \\\n",
       "0                Place 1          cheese pepperoni avo   \n",
       "1                Place 2                           avo   \n",
       "2                Place 1                 pepperoni avo   \n",
       "3                Place 3          cheese pepperoni avo   \n",
       "4                Place 1          cheese pepperoni avo   \n",
       "\n",
       "                      _submission__uuid  \n",
       "0  62541aa7-3c76-4acd-817d-aea9c5df705b  \n",
       "1  62541aa7-3c76-4acd-817d-aea9c5df705b  \n",
       "2  4c23486d-9a76-4c4f-843f-2c00653e3048  \n",
       "3  4c23486d-9a76-4c4f-843f-2c00653e3048  \n",
       "4  a68e72e8-b6b6-4929-9c1d-d61d50d400ba  "
      ]
     },
     "execution_count": 262,
     "metadata": {},
     "output_type": "execute_result"
    }
   ],
   "source": [
    "repeat_subs_cols = ['A_pizza_place_you_like', 'Your_favourite_toppings_there', '_submission__uuid']\n",
    "repeat_subs_filtered = repeat_subs[repeat_subs_cols]\n",
    "repeat_subs_filtered.head()"
   ]
  },
  {
   "cell_type": "code",
   "execution_count": 264,
   "metadata": {},
   "outputs": [
    {
     "data": {
      "text/plain": [
       "'62541aa7-3c76-4acd-817d-aea9c5df705b'"
      ]
     },
     "execution_count": 264,
     "metadata": {},
     "output_type": "execute_result"
    }
   ],
   "source": [
    "USER = 'josh'\n",
    "user_uid = subs_filtered[subs_filtered['What_is_your_name'] == USER]['_uuid'].values[0]\n",
    "user_uid"
   ]
  },
  {
   "cell_type": "code",
   "execution_count": 265,
   "metadata": {},
   "outputs": [
    {
     "data": {
      "text/html": [
       "<div>\n",
       "<style scoped>\n",
       "    .dataframe tbody tr th:only-of-type {\n",
       "        vertical-align: middle;\n",
       "    }\n",
       "\n",
       "    .dataframe tbody tr th {\n",
       "        vertical-align: top;\n",
       "    }\n",
       "\n",
       "    .dataframe thead th {\n",
       "        text-align: right;\n",
       "    }\n",
       "</style>\n",
       "<table border=\"1\" class=\"dataframe\">\n",
       "  <thead>\n",
       "    <tr style=\"text-align: right;\">\n",
       "      <th></th>\n",
       "      <th>A_pizza_place_you_like</th>\n",
       "      <th>Your_favourite_toppings_there</th>\n",
       "      <th>_submission__uuid</th>\n",
       "    </tr>\n",
       "  </thead>\n",
       "  <tbody>\n",
       "    <tr>\n",
       "      <th>0</th>\n",
       "      <td>Place 1</td>\n",
       "      <td>cheese pepperoni avo</td>\n",
       "      <td>62541aa7-3c76-4acd-817d-aea9c5df705b</td>\n",
       "    </tr>\n",
       "    <tr>\n",
       "      <th>1</th>\n",
       "      <td>Place 2</td>\n",
       "      <td>avo</td>\n",
       "      <td>62541aa7-3c76-4acd-817d-aea9c5df705b</td>\n",
       "    </tr>\n",
       "  </tbody>\n",
       "</table>\n",
       "</div>"
      ],
      "text/plain": [
       "  A_pizza_place_you_like Your_favourite_toppings_there  \\\n",
       "0                Place 1          cheese pepperoni avo   \n",
       "1                Place 2                           avo   \n",
       "\n",
       "                      _submission__uuid  \n",
       "0  62541aa7-3c76-4acd-817d-aea9c5df705b  \n",
       "1  62541aa7-3c76-4acd-817d-aea9c5df705b  "
      ]
     },
     "execution_count": 265,
     "metadata": {},
     "output_type": "execute_result"
    }
   ],
   "source": [
    "repeat_subs_for_user = repeat_subs_filtered[repeat_subs_filtered['_submission__uuid'] == user_uid]\n",
    "repeat_subs_for_user"
   ]
  },
  {
   "cell_type": "code",
   "execution_count": 266,
   "metadata": {},
   "outputs": [],
   "source": [
    "def remove_choice(string_choices, choice):\n",
    "    return ' '.join([c for c in string_choices.split() if c != choice])"
   ]
  },
  {
   "cell_type": "code",
   "execution_count": 267,
   "metadata": {},
   "outputs": [],
   "source": [
    "def map_place_names(place):\n",
    "    places = {\n",
    "        'Place 1': 'Limoncello',\n",
    "        'Place 2': 'The Backyard',\n",
    "        'Place 3': 'Basilico'\n",
    "    }\n",
    "    new_place = places.get(place)\n",
    "    return new_place if new_place is not None else place"
   ]
  },
  {
   "cell_type": "code",
   "execution_count": 272,
   "metadata": {},
   "outputs": [],
   "source": [
    "uuids_for_updating = [\n",
    "    '62541aa7-3c76-4acd-817d-aea9c5df705b', \n",
    "    '4c23486d-9a76-4c4f-843f-2c00653e3048',\n",
    "    'a68e72e8-b6b6-4929-9c1d-d61d50d400ba'\n",
    "]"
   ]
  },
  {
   "cell_type": "code",
   "execution_count": 273,
   "metadata": {},
   "outputs": [],
   "source": [
    "for i, row in repeat_subs_filtered.iterrows():\n",
    "    if row['_submission__uuid'] in uuids_for_updating:\n",
    "        row['Your_favourite_toppings_there'] = remove_choice(row['Your_favourite_toppings_there'], 'pepperoni')\n",
    "    row['A_pizza_place_you_like'] = map_place_names(row['A_pizza_place_you_like'])"
   ]
  },
  {
   "cell_type": "code",
   "execution_count": 274,
   "metadata": {},
   "outputs": [
    {
     "data": {
      "text/html": [
       "<div>\n",
       "<style scoped>\n",
       "    .dataframe tbody tr th:only-of-type {\n",
       "        vertical-align: middle;\n",
       "    }\n",
       "\n",
       "    .dataframe tbody tr th {\n",
       "        vertical-align: top;\n",
       "    }\n",
       "\n",
       "    .dataframe thead th {\n",
       "        text-align: right;\n",
       "    }\n",
       "</style>\n",
       "<table border=\"1\" class=\"dataframe\">\n",
       "  <thead>\n",
       "    <tr style=\"text-align: right;\">\n",
       "      <th></th>\n",
       "      <th>A_pizza_place_you_like</th>\n",
       "      <th>Your_favourite_toppings_there</th>\n",
       "      <th>_submission__uuid</th>\n",
       "    </tr>\n",
       "  </thead>\n",
       "  <tbody>\n",
       "    <tr>\n",
       "      <th>0</th>\n",
       "      <td>Limoncello</td>\n",
       "      <td>cheese avo</td>\n",
       "      <td>62541aa7-3c76-4acd-817d-aea9c5df705b</td>\n",
       "    </tr>\n",
       "    <tr>\n",
       "      <th>1</th>\n",
       "      <td>The Backyard</td>\n",
       "      <td>avo</td>\n",
       "      <td>62541aa7-3c76-4acd-817d-aea9c5df705b</td>\n",
       "    </tr>\n",
       "    <tr>\n",
       "      <th>2</th>\n",
       "      <td>Limoncello</td>\n",
       "      <td>avo</td>\n",
       "      <td>4c23486d-9a76-4c4f-843f-2c00653e3048</td>\n",
       "    </tr>\n",
       "    <tr>\n",
       "      <th>3</th>\n",
       "      <td>Basilico</td>\n",
       "      <td>cheese avo</td>\n",
       "      <td>4c23486d-9a76-4c4f-843f-2c00653e3048</td>\n",
       "    </tr>\n",
       "    <tr>\n",
       "      <th>4</th>\n",
       "      <td>Limoncello</td>\n",
       "      <td>cheese avo</td>\n",
       "      <td>a68e72e8-b6b6-4929-9c1d-d61d50d400ba</td>\n",
       "    </tr>\n",
       "    <tr>\n",
       "      <th>5</th>\n",
       "      <td>The Backyard</td>\n",
       "      <td>cheese avo</td>\n",
       "      <td>a68e72e8-b6b6-4929-9c1d-d61d50d400ba</td>\n",
       "    </tr>\n",
       "    <tr>\n",
       "      <th>6</th>\n",
       "      <td>Basilico</td>\n",
       "      <td>avo</td>\n",
       "      <td>a68e72e8-b6b6-4929-9c1d-d61d50d400ba</td>\n",
       "    </tr>\n",
       "  </tbody>\n",
       "</table>\n",
       "</div>"
      ],
      "text/plain": [
       "  A_pizza_place_you_like Your_favourite_toppings_there  \\\n",
       "0             Limoncello                    cheese avo   \n",
       "1           The Backyard                           avo   \n",
       "2             Limoncello                           avo   \n",
       "3               Basilico                    cheese avo   \n",
       "4             Limoncello                    cheese avo   \n",
       "5           The Backyard                    cheese avo   \n",
       "6               Basilico                           avo   \n",
       "\n",
       "                      _submission__uuid  \n",
       "0  62541aa7-3c76-4acd-817d-aea9c5df705b  \n",
       "1  62541aa7-3c76-4acd-817d-aea9c5df705b  \n",
       "2  4c23486d-9a76-4c4f-843f-2c00653e3048  \n",
       "3  4c23486d-9a76-4c4f-843f-2c00653e3048  \n",
       "4  a68e72e8-b6b6-4929-9c1d-d61d50d400ba  \n",
       "5  a68e72e8-b6b6-4929-9c1d-d61d50d400ba  \n",
       "6  a68e72e8-b6b6-4929-9c1d-d61d50d400ba  "
      ]
     },
     "execution_count": 274,
     "metadata": {},
     "output_type": "execute_result"
    }
   ],
   "source": [
    "repeat_subs_filtered"
   ]
  },
  {
   "cell_type": "code",
   "execution_count": 275,
   "metadata": {},
   "outputs": [],
   "source": [
    "updated_subs = []\n",
    "for i, subs_row in subs_filtered.iterrows():\n",
    "    sub = {\n",
    "        'What_is_your_name': subs_row['What_is_your_name'],\n",
    "        '_uuid': subs_row['_uuid']\n",
    "    }\n",
    "    \n",
    "    df_repeats = repeat_subs_filtered[repeat_subs_filtered['_submission__uuid'] == sub['_uuid']]\n",
    "    repeat_group = []\n",
    "    for j, repeats_row in df_repeats.iterrows():\n",
    "        repeat_group.append({\n",
    "            'A_pizza_place_you_like': repeats_row['A_pizza_place_you_like'],\n",
    "            'Your_favourite_toppings_there': repeats_row['Your_favourite_toppings_there']\n",
    "        })\n",
    "    sub[REPEAT_GROUP_NAME] = repeat_group\n",
    "    updated_subs.append(sub)"
   ]
  },
  {
   "cell_type": "code",
   "execution_count": 276,
   "metadata": {},
   "outputs": [
    {
     "data": {
      "text/plain": [
       "[{'What_is_your_name': 'josh',\n",
       "  '_uuid': '62541aa7-3c76-4acd-817d-aea9c5df705b',\n",
       "  'group_gp3qf47': [{'A_pizza_place_you_like': 'Limoncello',\n",
       "    'Your_favourite_toppings_there': 'cheese avo'},\n",
       "   {'A_pizza_place_you_like': 'The Backyard',\n",
       "    'Your_favourite_toppings_there': 'avo'}]},\n",
       " {'What_is_your_name': 'Naomi',\n",
       "  '_uuid': '4c23486d-9a76-4c4f-843f-2c00653e3048',\n",
       "  'group_gp3qf47': [{'A_pizza_place_you_like': 'Limoncello',\n",
       "    'Your_favourite_toppings_there': 'avo'},\n",
       "   {'A_pizza_place_you_like': 'Basilico',\n",
       "    'Your_favourite_toppings_there': 'cheese avo'}]},\n",
       " {'What_is_your_name': 'David',\n",
       "  '_uuid': 'a68e72e8-b6b6-4929-9c1d-d61d50d400ba',\n",
       "  'group_gp3qf47': [{'A_pizza_place_you_like': 'Limoncello',\n",
       "    'Your_favourite_toppings_there': 'cheese avo'},\n",
       "   {'A_pizza_place_you_like': 'The Backyard',\n",
       "    'Your_favourite_toppings_there': 'cheese avo'},\n",
       "   {'A_pizza_place_you_like': 'Basilico',\n",
       "    'Your_favourite_toppings_there': 'avo'}]}]"
      ]
     },
     "execution_count": 276,
     "metadata": {},
     "output_type": "execute_result"
    }
   ],
   "source": [
    "updated_subs"
   ]
  },
  {
   "cell_type": "markdown",
   "metadata": {},
   "source": [
    "# Get submission XML"
   ]
  },
  {
   "cell_type": "code",
   "execution_count": 311,
   "metadata": {},
   "outputs": [],
   "source": [
    "res = requests.get(url=XML_URL, headers=HEADERS, params=PARAMS)"
   ]
  },
  {
   "cell_type": "code",
   "execution_count": 312,
   "metadata": {},
   "outputs": [
    {
     "data": {
      "text/plain": [
       "200"
      ]
     },
     "execution_count": 312,
     "metadata": {},
     "output_type": "execute_result"
    }
   ],
   "source": [
    "res.status_code"
   ]
  },
  {
   "cell_type": "code",
   "execution_count": 313,
   "metadata": {},
   "outputs": [
    {
     "name": "stdout",
     "output_type": "stream",
     "text": [
      "<aBebWB9QVH7hzW4PqzDJum id=\"aBebWB9QVH7hzW4PqzDJum\" version=\"1 (2021-03-31 19:14:56)\">\n",
      "          <formhub>\n",
      "            <uuid>68349f0819ab4847920631542c1f97ec</uuid>\n",
      "          </formhub>\n",
      "          <start>2021-03-31T12:15:42.060-07:00</start>\n",
      "          <end>2021-03-31T12:16:16.806-07:00</end>\n",
      "          <What_is_your_name>josh</What_is_your_name>\n",
      "          <group_gp3qf47>\n",
      "            <A_pizza_place_you_like>Place 1</A_pizza_place_you_like>\n",
      "            <Your_favourite_toppings_there>cheese pepperoni avo</Your_favourite_toppings_there>\n",
      "          </group_gp3qf47><group_gp3qf47>\n",
      "            <A_pizza_place_you_like>Place 2</A_pizza_place_you_like>\n",
      "            <Your_favourite_toppings_there>avo</Your_favourite_toppings_there>\n",
      "          </group_gp3qf47>\n",
      "          <__version__>vfZucefRu2xp4fShpCCrnC</__version__>\n",
      "          <meta>\n",
      "            <instanceID>uuid:62541aa7-3c76-4acd-817d-aea9c5df705b</instanceID>\n",
      "          </meta>\n",
      "        </aBebWB9QVH7hzW4PqzDJum>\n"
     ]
    }
   ],
   "source": [
    "parsed_xml = ET.fromstring(res.text)\n",
    "e = parsed_xml.find(f'results/{ASSET_UID}')\n",
    "print(ET.tostring(e).decode())"
   ]
  },
  {
   "cell_type": "code",
   "execution_count": 318,
   "metadata": {},
   "outputs": [
    {
     "data": {
      "text/plain": [
       "[<Element 'group_gp3qf47' at 0x7fedbbc5ad60>,\n",
       " <Element 'group_gp3qf47' at 0x7fedbbc5a430>]"
      ]
     },
     "execution_count": 318,
     "metadata": {},
     "output_type": "execute_result"
    }
   ],
   "source": [
    "e.findall('group_gp3qf47')"
   ]
  },
  {
   "cell_type": "code",
   "execution_count": 319,
   "metadata": {
    "scrolled": true
   },
   "outputs": [
    {
     "data": {
      "text/plain": [
       "[<Element 'aBebWB9QVH7hzW4PqzDJum' at 0x7fedbbc5aac0>,\n",
       " <Element 'aBebWB9QVH7hzW4PqzDJum' at 0x7fedbbc7b220>,\n",
       " <Element 'aBebWB9QVH7hzW4PqzDJum' at 0x7fedbbc7b7c0>]"
      ]
     },
     "execution_count": 319,
     "metadata": {},
     "output_type": "execute_result"
    }
   ],
   "source": [
    "all_xml_subs = parsed_xml.findall(f'results/{ASSET_UID}')\n",
    "all_xml_subs"
   ]
  },
  {
   "cell_type": "code",
   "execution_count": 320,
   "metadata": {},
   "outputs": [],
   "source": [
    "def get_xml_for_submission_uid(xml, submission_uid):\n",
    "    return [x for x in xml if x.find('meta/instanceID').text == f'uuid:{submission_uid}'][0]"
   ]
  },
  {
   "cell_type": "code",
   "execution_count": 321,
   "metadata": {
    "scrolled": true
   },
   "outputs": [
    {
     "data": {
      "text/plain": [
       "<Element 'aBebWB9QVH7hzW4PqzDJum' at 0x7fedbbc5aac0>"
      ]
     },
     "execution_count": 321,
     "metadata": {},
     "output_type": "execute_result"
    }
   ],
   "source": [
    "tmp_el = get_xml_for_submission_uid(all_xml_subs, '62541aa7-3c76-4acd-817d-aea9c5df705b')\n",
    "tmp_el"
   ]
  },
  {
   "cell_type": "code",
   "execution_count": 285,
   "metadata": {},
   "outputs": [
    {
     "data": {
      "text/plain": [
       "{'id': 'aBebWB9QVH7hzW4PqzDJum', 'version': '1 (2021-03-31 19:14:56)'}"
      ]
     },
     "execution_count": 285,
     "metadata": {},
     "output_type": "execute_result"
    }
   ],
   "source": [
    "tmp_el.attrib"
   ]
  },
  {
   "cell_type": "code",
   "execution_count": 286,
   "metadata": {},
   "outputs": [
    {
     "name": "stdout",
     "output_type": "stream",
     "text": [
      "<aBebWB9QVH7hzW4PqzDJum id=\"aBebWB9QVH7hzW4PqzDJum\" version=\"1 (2021-03-31 19:14:56)\">\n",
      "          <formhub>\n",
      "            <uuid>68349f0819ab4847920631542c1f97ec</uuid>\n",
      "          </formhub>\n",
      "          <start>2021-03-31T12:16:39.513-07:00</start>\n",
      "          <end>2021-03-31T12:17:06.095-07:00</end>\n",
      "          <What_is_your_name>David</What_is_your_name>\n",
      "          <group_gp3qf47>\n",
      "            <A_pizza_place_you_like>Place 1</A_pizza_place_you_like>\n",
      "            <Your_favourite_toppings_there>cheese pepperoni avo</Your_favourite_toppings_there>\n",
      "          </group_gp3qf47><group_gp3qf47>\n",
      "            <A_pizza_place_you_like>Place 2</A_pizza_place_you_like>\n",
      "            <Your_favourite_toppings_there>cheese pepperoni avo</Your_favourite_toppings_there>\n",
      "          </group_gp3qf47><group_gp3qf47>\n",
      "            <A_pizza_place_you_like>Place 3</A_pizza_place_you_like>\n",
      "            <Your_favourite_toppings_there>pepperoni avo</Your_favourite_toppings_there>\n",
      "          </group_gp3qf47>\n",
      "          <__version__>vfZucefRu2xp4fShpCCrnC</__version__>\n",
      "          <meta>\n",
      "            <instanceID>uuid:a68e72e8-b6b6-4929-9c1d-d61d50d400ba</instanceID>\n",
      "          </meta>\n",
      "        </aBebWB9QVH7hzW4PqzDJum>\n"
     ]
    }
   ],
   "source": [
    "print(ET.tostring(tmp_el).decode())"
   ]
  },
  {
   "cell_type": "code",
   "execution_count": 169,
   "metadata": {},
   "outputs": [],
   "source": [
    "def submit_data(xml_sub: bytes, _uuid: str) -> str:\n",
    "    \"\"\"\n",
    "    Send the XML to kobo!\n",
    "    \"\"\"\n",
    "    file_tuple = (_uuid, io.BytesIO(xml_sub))\n",
    "    files = {'xml_submission_file': file_tuple}\n",
    "    res = requests.Request(\n",
    "        method='POST', url=SUMISSION_URL, files=files, headers=HEADERS\n",
    "    )\n",
    "    session = requests.Session()\n",
    "    res = session.send(res.prepare())\n",
    "    return res.status_code\n",
    "\n",
    "def format_openrosa_datetime() -> str:\n",
    "    \"\"\"\n",
    "    This is required to get the correct datetime formatting\n",
    "    \"\"\"\n",
    "    return datetime.now(tz=pytz.UTC).isoformat('T', 'milliseconds')"
   ]
  },
  {
   "cell_type": "code",
   "execution_count": 287,
   "metadata": {},
   "outputs": [],
   "source": [
    "def update_element_value(e: ET.Element, name: str, value: str) -> None:\n",
    "    \"\"\"\n",
    "    Get or create a node and give it a value, even if nested within a group\n",
    "    \"\"\"\n",
    "    el = e.find(name)\n",
    "    if el is None:\n",
    "        # this only works for questions nested within a single group\n",
    "        # and will need to be extended to handle deeply nested groups\n",
    "        # refer here for how this is implimented in KPI:\n",
    "        # https://github.com/kobotoolbox/kpi/blob/27cff694f9a63fd091ba8b803ac925f77b8f513b/kpi/deployment_backends/kobocat_backend.py#L827-L857\n",
    "        if '/' in name:\n",
    "            root, node = name.split('/')\n",
    "            el = ET.SubElement(e.find(root), node)\n",
    "        else:\n",
    "            el = ET.SubElement(e, name)\n",
    "    el.text = value\n",
    "    \n",
    "def update_list_of_element_values(e: ET.Element, name: str, items: str) -> None:\n",
    "    \"\"\"\n",
    "    Update a list of nodes within a group -- will fail if the item doesn't exist\n",
    "    on the XML tree so extend appropriately\n",
    "    \"\"\"\n",
    "    els = e.findall(name)\n",
    "    for el, item in zip(els, items):\n",
    "        for k, v in item.items():\n",
    "            el.find(k).text = v\n",
    "            \n",
    "def update_root_element_tag_and_attrib(e: ET.Element, tag: str, attrib: dict) -> None:\n",
    "    e.tag = tag\n",
    "    e.attrib = attrib"
   ]
  },
  {
   "cell_type": "code",
   "execution_count": 316,
   "metadata": {},
   "outputs": [],
   "source": [
    "def create_submissions(subs: list, clone_data=None) -> list:\n",
    "    \"\"\"\n",
    "    Take a bunch of submissions and send them off\n",
    "    \n",
    "    If wanting to use a cloned project, the dict must contain the following data\n",
    "    clone_data = {\n",
    "        'clone_asset_uid': '123456',\n",
    "        'version': '1 (234567)',\n",
    "        '__version__': 'sgsgsgsdg',\n",
    "        'formhub_uuid': '123456ytfdfaw'\n",
    "    }\n",
    "    \n",
    "    \"\"\"\n",
    "    \n",
    "    all_subs = []\n",
    "    for sub in subs:\n",
    "        sub = copy.deepcopy(sub)\n",
    "        sub_uuid = sub.pop('_uuid')\n",
    "        parsed_xml = get_xml_for_submission_uid(all_xml_subs, sub_uuid)\n",
    "        \n",
    "        _now = format_openrosa_datetime()\n",
    "        _uuid = str(uuid.uuid4())\n",
    "        \n",
    "        for k, v in sub.items():\n",
    "            if isinstance(v, list):\n",
    "                update_list_of_element_values(parsed_xml, k, v)\n",
    "            else:\n",
    "                update_element_value(parsed_xml, k, v)\n",
    "        \n",
    "        # We have to create a meta/deprecatedID node with the value of the old instanceID and then \n",
    "        # update the instanceID for the submission to be updated correctly on the server -- ONLY IF \n",
    "        # NOT USING A CLONED FORM\n",
    "        if clone_data is None:\n",
    "            update_element_value(parsed_xml, 'meta/deprecatedID', parsed_xml.find('meta/instanceID').text)\n",
    "        update_element_value(parsed_xml, 'meta/instanceID', f'uuid:{_uuid}')\n",
    "        \n",
    "        # Updating the `start` and `end` times is not really necessary, but \n",
    "        # probably something you'd want to do\n",
    "        update_element_value(parsed_xml, 'start', _now)\n",
    "        update_element_value(parsed_xml, 'end', _now)\n",
    "        \n",
    "        if clone_data is not None:\n",
    "            new_attrib = {\n",
    "                'id': clone_data['clone_asset_uid'],\n",
    "                'version': clone_data['version']\n",
    "            }\n",
    "            update_root_element_tag_and_attrib(parsed_xml, clone_data['clone_asset_uid'], new_attrib)\n",
    "            update_element_value(parsed_xml, '__version__', clone_data['__version__'])\n",
    "            update_element_value(parsed_xml, 'formhub/uuid', clone_data['formhub_uuid'])\n",
    "        \n",
    "        all_subs.append(submit_data(ET.tostring(parsed_xml), _uuid))\n",
    "        \n",
    "        # If you are submitting a large amount of data, please be mindful that it can\n",
    "        # overwhelm the servers if sent in a short span of time. Letting it sleep for\n",
    "        # for a short stint between each upload will be much appreciated\n",
    "        sleep(0.2)\n",
    "        \n",
    "    return all_subs"
   ]
  },
  {
   "cell_type": "code",
   "execution_count": 314,
   "metadata": {},
   "outputs": [
    {
     "data": {
      "text/plain": [
       "[{'What_is_your_name': 'josh',\n",
       "  '_uuid': '62541aa7-3c76-4acd-817d-aea9c5df705b',\n",
       "  'group_gp3qf47': [{'A_pizza_place_you_like': 'Limoncello',\n",
       "    'Your_favourite_toppings_there': 'cheese avo'},\n",
       "   {'A_pizza_place_you_like': 'The Backyard',\n",
       "    'Your_favourite_toppings_there': 'avo'}]},\n",
       " {'What_is_your_name': 'Naomi',\n",
       "  '_uuid': '4c23486d-9a76-4c4f-843f-2c00653e3048',\n",
       "  'group_gp3qf47': [{'A_pizza_place_you_like': 'Limoncello',\n",
       "    'Your_favourite_toppings_there': 'avo'},\n",
       "   {'A_pizza_place_you_like': 'Basilico',\n",
       "    'Your_favourite_toppings_there': 'cheese avo'}]},\n",
       " {'What_is_your_name': 'David',\n",
       "  '_uuid': 'a68e72e8-b6b6-4929-9c1d-d61d50d400ba',\n",
       "  'group_gp3qf47': [{'A_pizza_place_you_like': 'Limoncello',\n",
       "    'Your_favourite_toppings_there': 'cheese avo'},\n",
       "   {'A_pizza_place_you_like': 'The Backyard',\n",
       "    'Your_favourite_toppings_there': 'cheese avo'},\n",
       "   {'A_pizza_place_you_like': 'Basilico',\n",
       "    'Your_favourite_toppings_there': 'avo'}]}]"
      ]
     },
     "execution_count": 314,
     "metadata": {},
     "output_type": "execute_result"
    }
   ],
   "source": [
    "updated_subs"
   ]
  },
  {
   "cell_type": "markdown",
   "metadata": {},
   "source": [
    "# Approach 1: Send modified data to cloned form\n",
    "\n",
    "Steps:\n",
    "- clone\n",
    "- deploy\n",
    "- get deployment data from kc and kpi\n",
    "- hack hack"
   ]
  },
  {
   "cell_type": "markdown",
   "metadata": {},
   "source": [
    "## Clone form"
   ]
  },
  {
   "cell_type": "code",
   "execution_count": 288,
   "metadata": {},
   "outputs": [],
   "source": [
    "data = {\n",
    "    'clone_from': ASSET_UID,\n",
    "    'name': f'Test clone of Repeat Groups 2from Jupyter {uuid.uuid4()}'\n",
    "}\n",
    "res = requests.post(url=ASSETS_URL, headers=HEADERS, params=PARAMS, data=data)"
   ]
  },
  {
   "cell_type": "code",
   "execution_count": 289,
   "metadata": {},
   "outputs": [
    {
     "data": {
      "text/plain": [
       "201"
      ]
     },
     "execution_count": 289,
     "metadata": {},
     "output_type": "execute_result"
    }
   ],
   "source": [
    "res.status_code"
   ]
  },
  {
   "cell_type": "code",
   "execution_count": 290,
   "metadata": {},
   "outputs": [],
   "source": [
    "cloned_survey = res.json()"
   ]
  },
  {
   "cell_type": "code",
   "execution_count": 291,
   "metadata": {},
   "outputs": [
    {
     "data": {
      "text/plain": [
       "'azNBzazvrjaqmmgF2H7gF5'"
      ]
     },
     "execution_count": 291,
     "metadata": {},
     "output_type": "execute_result"
    }
   ],
   "source": [
    "cloned_asset_uid = cloned_survey['uid']\n",
    "cloned_asset_uid"
   ]
  },
  {
   "cell_type": "markdown",
   "metadata": {},
   "source": [
    "## Deploy new form"
   ]
  },
  {
   "cell_type": "code",
   "execution_count": 292,
   "metadata": {},
   "outputs": [],
   "source": [
    "data = {\n",
    "    'active': 'true'\n",
    "}\n",
    "res = requests.post(url=_get_deployment_url(cloned_asset_uid), headers=HEADERS, params=PARAMS, data=data)"
   ]
  },
  {
   "cell_type": "code",
   "execution_count": 293,
   "metadata": {},
   "outputs": [
    {
     "data": {
      "text/plain": [
       "200"
      ]
     },
     "execution_count": 293,
     "metadata": {},
     "output_type": "execute_result"
    }
   ],
   "source": [
    "res.status_code"
   ]
  },
  {
   "cell_type": "markdown",
   "metadata": {},
   "source": [
    "## Get new from uuid"
   ]
  },
  {
   "cell_type": "code",
   "execution_count": 294,
   "metadata": {},
   "outputs": [],
   "source": [
    "res = requests.get(url=FORMS_URL, headers=HEADERS, params=PARAMS)"
   ]
  },
  {
   "cell_type": "code",
   "execution_count": 295,
   "metadata": {},
   "outputs": [
    {
     "data": {
      "text/plain": [
       "200"
      ]
     },
     "execution_count": 295,
     "metadata": {},
     "output_type": "execute_result"
    }
   ],
   "source": [
    "res.status_code"
   ]
  },
  {
   "cell_type": "code",
   "execution_count": 296,
   "metadata": {},
   "outputs": [],
   "source": [
    "all_forms = res.json()"
   ]
  },
  {
   "cell_type": "code",
   "execution_count": 297,
   "metadata": {},
   "outputs": [
    {
     "data": {
      "text/plain": [
       "{'url': 'https://kc.kobotoolbox.org/api/v1/forms/647717?format=json',\n",
       " 'formid': 647717,\n",
       " 'metadata': [],\n",
       " 'owner': 'joshuaberetta',\n",
       " 'public': False,\n",
       " 'public_data': False,\n",
       " 'require_auth': False,\n",
       " 'tags': [],\n",
       " 'title': 'Test clone of Repeat Groups 2from Jupyter 7c14d703-783a-4b4e-b1b7-49910f94275c',\n",
       " 'users': [{'user': 'joshuaberetta',\n",
       "   'permissions': ['add_datadictionary',\n",
       "    'add_xform',\n",
       "    'change_datadictionary',\n",
       "    'change_xform',\n",
       "    'delete_data_xform',\n",
       "    'delete_datadictionary',\n",
       "    'delete_xform',\n",
       "    'move_xform',\n",
       "    'report_xform',\n",
       "    'transfer_xform',\n",
       "    'validate_xform',\n",
       "    'view_xform']}],\n",
       " 'hash': 'md5:b5c6e7895279f7dd628a3248d0dc8c6e',\n",
       " 'has_kpi_hooks': False,\n",
       " 'description': 'Test clone of Repeat Groups 2from Jupyter 7c14d703-783a-4b4e-b1b7-49910f94275c',\n",
       " 'downloadable': True,\n",
       " 'allows_sms': False,\n",
       " 'encrypted': False,\n",
       " 'sms_id_string': 'azNBzazvrjaqmmgF2H7gF5',\n",
       " 'id_string': 'azNBzazvrjaqmmgF2H7gF5',\n",
       " 'date_created': '2021-03-31T19:22:13.827490Z',\n",
       " 'date_modified': '2021-03-31T19:22:13.903346Z',\n",
       " 'last_submission_time': None,\n",
       " 'uuid': '30f53e5a4bc0425fb5bb27819c14ba44',\n",
       " 'instances_with_geopoints': False,\n",
       " 'num_of_submissions': 0,\n",
       " 'kpi_asset_uid': 'azNBzazvrjaqmmgF2H7gF5'}"
      ]
     },
     "execution_count": 297,
     "metadata": {},
     "output_type": "execute_result"
    }
   ],
   "source": [
    "latest_form = [f for f in all_forms if f['id_string'] == cloned_asset_uid][0]\n",
    "latest_form"
   ]
  },
  {
   "cell_type": "code",
   "execution_count": 299,
   "metadata": {},
   "outputs": [
    {
     "data": {
      "text/plain": [
       "'30f53e5a4bc0425fb5bb27819c14ba44'"
      ]
     },
     "execution_count": 299,
     "metadata": {},
     "output_type": "execute_result"
    }
   ],
   "source": [
    "formhub_uuid = latest_form['uuid']\n",
    "formhub_uuid"
   ]
  },
  {
   "cell_type": "markdown",
   "metadata": {},
   "source": [
    "## Get deployent info\n",
    "\n",
    "There are a few things we need to update on each submission's XML:\n",
    "- The root `tag` and attributes of `id` and `version`\n",
    "- the value of `formhub/uuid` with the new uuid\n",
    "- value of `__version__`"
   ]
  },
  {
   "cell_type": "code",
   "execution_count": 300,
   "metadata": {},
   "outputs": [],
   "source": [
    "res = requests.get(f'{ASSETS_URL}{cloned_asset_uid}', headers=HEADERS, params=PARAMS)"
   ]
  },
  {
   "cell_type": "code",
   "execution_count": 301,
   "metadata": {},
   "outputs": [
    {
     "data": {
      "text/plain": [
       "200"
      ]
     },
     "execution_count": 301,
     "metadata": {},
     "output_type": "execute_result"
    }
   ],
   "source": [
    "res.status_code"
   ]
  },
  {
   "cell_type": "code",
   "execution_count": 302,
   "metadata": {},
   "outputs": [
    {
     "data": {
      "text/plain": [
       "{'count': 1,\n",
       " 'next': None,\n",
       " 'previous': None,\n",
       " 'results': [{'uid': 'vuoUnu6ZRrYwbxGz48QLSZ',\n",
       "   'url': 'https://kf.kobotoolbox.org/api/v2/assets/azNBzazvrjaqmmgF2H7gF5/versions/vuoUnu6ZRrYwbxGz48QLSZ/?format=json',\n",
       "   'content_hash': 'b47ac0203f253524aaada90e13575b5a0041ee7b',\n",
       "   'date_deployed': '2021-03-31T19:22:02.626863Z',\n",
       "   'date_modified': '2021-03-31 19:22:02.626863+00:00'}]}"
      ]
     },
     "execution_count": 302,
     "metadata": {},
     "output_type": "execute_result"
    }
   ],
   "source": [
    "deployed_versions = res.json()['deployed_versions']\n",
    "deployed_versions"
   ]
  },
  {
   "cell_type": "code",
   "execution_count": 303,
   "metadata": {},
   "outputs": [],
   "source": [
    "def format_date_string(date_str):\n",
    "    \"\"\"\n",
    "    goal: \"1 (2021-03-29 19:40:28)\"\n",
    "    \"\"\"\n",
    "    date, time = date_str.split('T')\n",
    "    return f\"{date} {time.split('.')[0]}\""
   ]
  },
  {
   "cell_type": "code",
   "execution_count": 304,
   "metadata": {},
   "outputs": [],
   "source": [
    "def get_info_from_deployed_versions(deployed_versions):\n",
    "    count = deployed_versions['count']\n",
    "    \n",
    "    latest_deployment = deployed_versions['results'][0]\n",
    "    date = latest_deployment['date_deployed']\n",
    "    version = latest_deployment['uid']\n",
    "    \n",
    "    return version, f'{count} ({format_date_string(date)})'"
   ]
  },
  {
   "cell_type": "code",
   "execution_count": 305,
   "metadata": {
    "scrolled": true
   },
   "outputs": [
    {
     "data": {
      "text/plain": [
       "('vuoUnu6ZRrYwbxGz48QLSZ', '1 (2021-03-31 19:22:02)')"
      ]
     },
     "execution_count": 305,
     "metadata": {},
     "output_type": "execute_result"
    }
   ],
   "source": [
    "get_info_from_deployed_versions(deployed_versions)"
   ]
  },
  {
   "cell_type": "code",
   "execution_count": 306,
   "metadata": {},
   "outputs": [],
   "source": [
    "_v_, v = get_info_from_deployed_versions(deployed_versions)\n",
    "clone_data = {\n",
    "        'clone_asset_uid': cloned_asset_uid,\n",
    "        'version': v,\n",
    "        '__version__': _v_,\n",
    "        'formhub_uuid': formhub_uuid\n",
    "    }"
   ]
  },
  {
   "cell_type": "code",
   "execution_count": 322,
   "metadata": {},
   "outputs": [
    {
     "name": "stdout",
     "output_type": "stream",
     "text": [
      "62541aa7-3c76-4acd-817d-aea9c5df705b\n",
      "4c23486d-9a76-4c4f-843f-2c00653e3048\n",
      "a68e72e8-b6b6-4929-9c1d-d61d50d400ba\n"
     ]
    }
   ],
   "source": [
    "responses = create_submissions(updated_subs, clone_data)"
   ]
  },
  {
   "cell_type": "code",
   "execution_count": 323,
   "metadata": {},
   "outputs": [
    {
     "data": {
      "text/plain": [
       "[201, 201, 201]"
      ]
     },
     "execution_count": 323,
     "metadata": {},
     "output_type": "execute_result"
    }
   ],
   "source": [
    "all(res == 201 for res in responses)"
   ]
  },
  {
   "cell_type": "code",
   "execution_count": null,
   "metadata": {},
   "outputs": [],
   "source": [
    "pd.Series(resonses).value_counts()"
   ]
  },
  {
   "cell_type": "markdown",
   "metadata": {},
   "source": [
    "# Approach 2: Send modified data back to existing form\n",
    "---\n",
    "\n",
    "### Word of caution: this will overwrite your existing submissions, so be very sure that you know what you're doing otherwise you will corrupt your data.\n",
    "\n",
    "- update the `start` and `end` dates\n",
    "- move `instanceID` to `deprecatedID`\n",
    "- create new `instanceID`\n",
    "- send off"
   ]
  },
  {
   "cell_type": "code",
   "execution_count": 157,
   "metadata": {},
   "outputs": [],
   "source": [
    "responses = create_submissions(updated_subs)"
   ]
  },
  {
   "cell_type": "code",
   "execution_count": 158,
   "metadata": {},
   "outputs": [
    {
     "data": {
      "text/plain": [
       "[201, 201, 201]"
      ]
     },
     "execution_count": 158,
     "metadata": {},
     "output_type": "execute_result"
    }
   ],
   "source": [
    "all(res == 201 for res in responses)"
   ]
  },
  {
   "cell_type": "code",
   "execution_count": 127,
   "metadata": {},
   "outputs": [
    {
     "name": "stdout",
     "output_type": "stream",
     "text": [
      "<aN7gj3BsHV9pNPhnDXrKE3 id=\"aN7gj3BsHV9pNPhnDXrKE3\" version=\"1 (2021-03-29 19:40:28)\">\n",
      "          <formhub>\n",
      "            <uuid>0b21fc06052142e4bd7594e20a1e39fb</uuid>\n",
      "          </formhub>\n",
      "          <start>2021-03-31T17:22:36.876+00:00</start>\n",
      "          <end>2021-03-31T17:22:36.876+00:00</end>\n",
      "          <What_is_your_name>Josh</What_is_your_name>\n",
      "          <group_gp3qf47>\n",
      "            <A_pizza_place_you_like>Limoncello</A_pizza_place_you_like>\n",
      "            <Your_favourite_toppings_there>cheese</Your_favourite_toppings_there>\n",
      "          </group_gp3qf47><group_gp3qf47>\n",
      "            <A_pizza_place_you_like>The Backyard</A_pizza_place_you_like>\n",
      "            <Your_favourite_toppings_there>avo</Your_favourite_toppings_there>\n",
      "          </group_gp3qf47><group_gp3qf47>\n",
      "            <A_pizza_place_you_like>Basilico</A_pizza_place_you_like>\n",
      "            <Your_favourite_toppings_there>cheese avo</Your_favourite_toppings_there>\n",
      "          </group_gp3qf47>\n",
      "          <__version__>vuYnF2nxowu7CQN8LEhTgW</__version__>\n",
      "          <meta>\n",
      "            <instanceID>uuid:d7a9f938-082c-462c-89b3-18806a50e398</instanceID>\n",
      "          <deprecatedID>uuid:cef09794-91b2-488e-87cc-76ef53057332</deprecatedID></meta>\n",
      "        </aN7gj3BsHV9pNPhnDXrKE3>\n"
     ]
    }
   ],
   "source": [
    "pd.Series(resonses).value_counts()"
   ]
  }
 ],
 "metadata": {
  "kernelspec": {
   "display_name": "Python 3",
   "language": "python",
   "name": "python3"
  },
  "language_info": {
   "codemirror_mode": {
    "name": "ipython",
    "version": 3
   },
   "file_extension": ".py",
   "mimetype": "text/x-python",
   "name": "python",
   "nbconvert_exporter": "python",
   "pygments_lexer": "ipython3",
   "version": "3.8.6"
  }
 },
 "nbformat": 4,
 "nbformat_minor": 4
}
