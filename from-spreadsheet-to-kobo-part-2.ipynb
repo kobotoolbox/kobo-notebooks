{
 "cells": [
  {
   "cell_type": "markdown",
   "metadata": {},
   "source": [
    "# From spreadsheet to Kobo — Part ✌️\n",
    "---\n",
    "\n",
    "In the following walk-through, we'll take a look at the more complex case of submitting data with repeat groups back to the Kobo server. The process will practically be the same for those without repeat groups, but some of the methods might require minor modifications.\n",
    "\n",
    "We'll do some simple data cleaning from an Excel export and then transform it to a structure that will be easier to update the submissions' XML trees.\n",
    "\n",
    "We will look at two approaches of submitting data to the server:\n",
    "1. [Approach 1](#Approach-1:-Send-modified-data-to-a-cloned-form) will look at how to clone, deploy and submit to the cloned asset\n",
    "2. [Approach 2](#Approach-2:-Send-modified-data-back-to-existing-form) will look at submitting data back to the original asset\n",
    "\n",
    "\n",
    "## Get things setup 👌\n",
    "\n",
    "![](https://media.giphy.com/media/l0MYQu0EH1TtRw8ko/giphy.gif)\n",
    "\n",
    "### Import whatever you need 👇"
   ]
  },
  {
   "cell_type": "code",
   "execution_count": 1,
   "metadata": {},
   "outputs": [],
   "source": [
    "import copy\n",
    "import io\n",
    "import os\n",
    "import requests\n",
    "import uuid\n",
    "from datetime import datetime\n",
    "from random import sample\n",
    "from time import sleep\n",
    "from typing import Tuple\n",
    "from xml.etree import ElementTree as ET\n",
    "\n",
    "import pandas as pd\n",
    "import pytz"
   ]
  },
  {
   "cell_type": "markdown",
   "metadata": {},
   "source": [
    "### Set up some helpful constants that we'll use below 🤘\n",
    "\n",
    "Note that if you are taking the Docker approach to running your notebook, you can do the following to include environment variables:\n",
    "\n",
    "```bash\n",
    "docker run -p 8888:8888 -v ~/notebooks:/home/jovyan -e KOBO_TOKEN='<TOKEN>' jupyter/datascience-notebook\n",
    "```"
   ]
  },
  {
   "cell_type": "code",
   "execution_count": 2,
   "metadata": {},
   "outputs": [],
   "source": [
    "TOKEN = os.environ.get('KOBO_TOKEN')"
   ]
  },
  {
   "cell_type": "code",
   "execution_count": 3,
   "metadata": {},
   "outputs": [],
   "source": [
    "KC_URL = 'https://kc.kobotoolbox.org'\n",
    "KF_URL = 'https://kf.kobotoolbox.org'\n",
    "\n",
    "ASSET_UID = 'abkTtAKoX7CK2pa6ToHyBV'\n",
    "\n",
    "ASSETS_URL = f'{KF_URL}/api/v2/assets/'\n",
    "DATA_URL = f'{ASSETS_URL}{ASSET_UID}/data'\n",
    "DEPLOYMENT_URL = '{}{}/deployment/' #url template used below\n",
    "XML_URL = f'{DATA_URL}.xml'\n",
    "SUMISSION_URL = f'{KC_URL}/api/v1/submissions'\n",
    "FORMS_URL = f'{KC_URL}/api/v1/forms'\n",
    "\n",
    "HEADERS = {\n",
    "    'Authorization': f'Token {TOKEN}'\n",
    "}\n",
    "PARAMS = {\n",
    "    'format': 'json'\n",
    "}\n",
    "\n",
    "FILENAME = 'repeat_groups_example.xlsx'\n",
    "\n",
    "ASSET_NAME = 'Repeat Groups Example'\n",
    "CLONED_ASSET_NAME = f'Clone of {ASSET_NAME}'\n",
    "REPEAT_GROUP_NAME = 'group_gp3qf47'\n",
    "\n",
    "def _get_deployment_url(asset_uid: str) -> str:\n",
    "    return DEPLOYMENT_URL.format(ASSETS_URL, asset_uid)"
   ]
  },
  {
   "cell_type": "markdown",
   "metadata": {},
   "source": [
    "# Data! 📊\n",
    "---\n",
    "\n",
    "## Let's take a peek into our data 👀\n",
    "\n",
    "![](https://media.giphy.com/media/Zvgb12U8GNjvq/giphy.gif)"
   ]
  },
  {
   "cell_type": "code",
   "execution_count": 4,
   "metadata": {
    "scrolled": true
   },
   "outputs": [
    {
     "data": {
      "text/html": [
       "<div>\n",
       "<style scoped>\n",
       "    .dataframe tbody tr th:only-of-type {\n",
       "        vertical-align: middle;\n",
       "    }\n",
       "\n",
       "    .dataframe tbody tr th {\n",
       "        vertical-align: top;\n",
       "    }\n",
       "\n",
       "    .dataframe thead th {\n",
       "        text-align: right;\n",
       "    }\n",
       "</style>\n",
       "<table border=\"1\" class=\"dataframe\">\n",
       "  <thead>\n",
       "    <tr style=\"text-align: right;\">\n",
       "      <th></th>\n",
       "      <th>start</th>\n",
       "      <th>end</th>\n",
       "      <th>What_is_your_name</th>\n",
       "      <th>_id</th>\n",
       "      <th>_uuid</th>\n",
       "      <th>_submission_time</th>\n",
       "      <th>_validation_status</th>\n",
       "      <th>_notes</th>\n",
       "      <th>_status</th>\n",
       "      <th>_submitted_by</th>\n",
       "      <th>_tags</th>\n",
       "      <th>_index</th>\n",
       "    </tr>\n",
       "  </thead>\n",
       "  <tbody>\n",
       "    <tr>\n",
       "      <th>0</th>\n",
       "      <td>2021-03-31T16:49:17.317-07:00</td>\n",
       "      <td>2021-03-31T16:49:44.237-07:00</td>\n",
       "      <td>Octavian</td>\n",
       "      <td>90848911</td>\n",
       "      <td>5377d1f8-f176-4a0f-8bd9-06bcc095c77a</td>\n",
       "      <td>2021-03-31T23:49:48</td>\n",
       "      <td>NaN</td>\n",
       "      <td>[]</td>\n",
       "      <td>submitted_via_web</td>\n",
       "      <td>NaN</td>\n",
       "      <td>NaN</td>\n",
       "      <td>1</td>\n",
       "    </tr>\n",
       "    <tr>\n",
       "      <th>1</th>\n",
       "      <td>2021-03-31T16:49:44.254-07:00</td>\n",
       "      <td>2021-03-31T16:50:08.340-07:00</td>\n",
       "      <td>Mark Antony</td>\n",
       "      <td>90848933</td>\n",
       "      <td>c10b537e-3caa-48be-825b-a94752564ab2</td>\n",
       "      <td>2021-03-31T23:50:19</td>\n",
       "      <td>NaN</td>\n",
       "      <td>[]</td>\n",
       "      <td>submitted_via_web</td>\n",
       "      <td>NaN</td>\n",
       "      <td>NaN</td>\n",
       "      <td>2</td>\n",
       "    </tr>\n",
       "    <tr>\n",
       "      <th>2</th>\n",
       "      <td>2021-03-31T16:50:08.355-07:00</td>\n",
       "      <td>2021-03-31T16:50:31.644-07:00</td>\n",
       "      <td>Lepidus</td>\n",
       "      <td>90848939</td>\n",
       "      <td>9ce27ce0-f5c5-4924-ab00-b0874b7f05c8</td>\n",
       "      <td>2021-03-31T23:50:35</td>\n",
       "      <td>NaN</td>\n",
       "      <td>[]</td>\n",
       "      <td>submitted_via_web</td>\n",
       "      <td>NaN</td>\n",
       "      <td>NaN</td>\n",
       "      <td>3</td>\n",
       "    </tr>\n",
       "  </tbody>\n",
       "</table>\n",
       "</div>"
      ],
      "text/plain": [
       "                           start                            end  \\\n",
       "0  2021-03-31T16:49:17.317-07:00  2021-03-31T16:49:44.237-07:00   \n",
       "1  2021-03-31T16:49:44.254-07:00  2021-03-31T16:50:08.340-07:00   \n",
       "2  2021-03-31T16:50:08.355-07:00  2021-03-31T16:50:31.644-07:00   \n",
       "\n",
       "  What_is_your_name       _id                                 _uuid  \\\n",
       "0          Octavian  90848911  5377d1f8-f176-4a0f-8bd9-06bcc095c77a   \n",
       "1       Mark Antony  90848933  c10b537e-3caa-48be-825b-a94752564ab2   \n",
       "2           Lepidus  90848939  9ce27ce0-f5c5-4924-ab00-b0874b7f05c8   \n",
       "\n",
       "      _submission_time  _validation_status _notes            _status  \\\n",
       "0  2021-03-31T23:49:48                 NaN     []  submitted_via_web   \n",
       "1  2021-03-31T23:50:19                 NaN     []  submitted_via_web   \n",
       "2  2021-03-31T23:50:35                 NaN     []  submitted_via_web   \n",
       "\n",
       "   _submitted_by  _tags  _index  \n",
       "0            NaN    NaN       1  \n",
       "1            NaN    NaN       2  \n",
       "2            NaN    NaN       3  "
      ]
     },
     "execution_count": 4,
     "metadata": {},
     "output_type": "execute_result"
    }
   ],
   "source": [
    "subs = pd.read_excel(FILENAME)\n",
    "subs.head()"
   ]
  },
  {
   "cell_type": "code",
   "execution_count": 5,
   "metadata": {},
   "outputs": [
    {
     "data": {
      "text/plain": [
       "['start',\n",
       " 'end',\n",
       " 'What_is_your_name',\n",
       " '_id',\n",
       " '_uuid',\n",
       " '_submission_time',\n",
       " '_validation_status',\n",
       " '_notes',\n",
       " '_status',\n",
       " '_submitted_by',\n",
       " '_tags',\n",
       " '_index']"
      ]
     },
     "execution_count": 5,
     "metadata": {},
     "output_type": "execute_result"
    }
   ],
   "source": [
    "subs.columns.to_list()"
   ]
  },
  {
   "cell_type": "code",
   "execution_count": 6,
   "metadata": {},
   "outputs": [
    {
     "data": {
      "text/html": [
       "<div>\n",
       "<style scoped>\n",
       "    .dataframe tbody tr th:only-of-type {\n",
       "        vertical-align: middle;\n",
       "    }\n",
       "\n",
       "    .dataframe tbody tr th {\n",
       "        vertical-align: top;\n",
       "    }\n",
       "\n",
       "    .dataframe thead th {\n",
       "        text-align: right;\n",
       "    }\n",
       "</style>\n",
       "<table border=\"1\" class=\"dataframe\">\n",
       "  <thead>\n",
       "    <tr style=\"text-align: right;\">\n",
       "      <th></th>\n",
       "      <th>What_is_your_name</th>\n",
       "      <th>_uuid</th>\n",
       "    </tr>\n",
       "  </thead>\n",
       "  <tbody>\n",
       "    <tr>\n",
       "      <th>0</th>\n",
       "      <td>Octavian</td>\n",
       "      <td>5377d1f8-f176-4a0f-8bd9-06bcc095c77a</td>\n",
       "    </tr>\n",
       "    <tr>\n",
       "      <th>1</th>\n",
       "      <td>Mark Antony</td>\n",
       "      <td>c10b537e-3caa-48be-825b-a94752564ab2</td>\n",
       "    </tr>\n",
       "    <tr>\n",
       "      <th>2</th>\n",
       "      <td>Lepidus</td>\n",
       "      <td>9ce27ce0-f5c5-4924-ab00-b0874b7f05c8</td>\n",
       "    </tr>\n",
       "  </tbody>\n",
       "</table>\n",
       "</div>"
      ],
      "text/plain": [
       "  What_is_your_name                                 _uuid\n",
       "0          Octavian  5377d1f8-f176-4a0f-8bd9-06bcc095c77a\n",
       "1       Mark Antony  c10b537e-3caa-48be-825b-a94752564ab2\n",
       "2           Lepidus  9ce27ce0-f5c5-4924-ab00-b0874b7f05c8"
      ]
     },
     "execution_count": 6,
     "metadata": {},
     "output_type": "execute_result"
    }
   ],
   "source": [
    "subs_cols = ['What_is_your_name', '_uuid']\n",
    "subs_filtered = subs[subs_cols]\n",
    "subs_filtered.head()"
   ]
  },
  {
   "cell_type": "code",
   "execution_count": 7,
   "metadata": {},
   "outputs": [
    {
     "data": {
      "text/html": [
       "<div>\n",
       "<style scoped>\n",
       "    .dataframe tbody tr th:only-of-type {\n",
       "        vertical-align: middle;\n",
       "    }\n",
       "\n",
       "    .dataframe tbody tr th {\n",
       "        vertical-align: top;\n",
       "    }\n",
       "\n",
       "    .dataframe thead th {\n",
       "        text-align: right;\n",
       "    }\n",
       "</style>\n",
       "<table border=\"1\" class=\"dataframe\">\n",
       "  <thead>\n",
       "    <tr style=\"text-align: right;\">\n",
       "      <th></th>\n",
       "      <th>A_pizza_place_you_like</th>\n",
       "      <th>Your_favourite_toppings_there</th>\n",
       "      <th>Your_favourite_toppings_there/cheese</th>\n",
       "      <th>Your_favourite_toppings_there/pepperoni</th>\n",
       "      <th>Your_favourite_toppings_there/avo</th>\n",
       "      <th>_index</th>\n",
       "      <th>_parent_table_name</th>\n",
       "      <th>_parent_index</th>\n",
       "      <th>_submission__id</th>\n",
       "      <th>_submission__uuid</th>\n",
       "      <th>_submission__submission_time</th>\n",
       "      <th>_submission__validation_status</th>\n",
       "      <th>_submission__notes</th>\n",
       "      <th>_submission__status</th>\n",
       "      <th>_submission__submitted_by</th>\n",
       "      <th>_submission__tags</th>\n",
       "    </tr>\n",
       "  </thead>\n",
       "  <tbody>\n",
       "    <tr>\n",
       "      <th>0</th>\n",
       "      <td>Place 1</td>\n",
       "      <td>cheese pepperoni avo</td>\n",
       "      <td>1</td>\n",
       "      <td>1</td>\n",
       "      <td>1</td>\n",
       "      <td>1</td>\n",
       "      <td>Repeat groups 4</td>\n",
       "      <td>1</td>\n",
       "      <td>90848911</td>\n",
       "      <td>5377d1f8-f176-4a0f-8bd9-06bcc095c77a</td>\n",
       "      <td>2021-03-31T23:49:48</td>\n",
       "      <td>NaN</td>\n",
       "      <td>[]</td>\n",
       "      <td>submitted_via_web</td>\n",
       "      <td>NaN</td>\n",
       "      <td>[]</td>\n",
       "    </tr>\n",
       "    <tr>\n",
       "      <th>1</th>\n",
       "      <td>Place 2</td>\n",
       "      <td>cheese pepperoni</td>\n",
       "      <td>1</td>\n",
       "      <td>1</td>\n",
       "      <td>0</td>\n",
       "      <td>2</td>\n",
       "      <td>Repeat groups 4</td>\n",
       "      <td>1</td>\n",
       "      <td>90848911</td>\n",
       "      <td>5377d1f8-f176-4a0f-8bd9-06bcc095c77a</td>\n",
       "      <td>2021-03-31T23:49:48</td>\n",
       "      <td>NaN</td>\n",
       "      <td>[]</td>\n",
       "      <td>submitted_via_web</td>\n",
       "      <td>NaN</td>\n",
       "      <td>[]</td>\n",
       "    </tr>\n",
       "    <tr>\n",
       "      <th>2</th>\n",
       "      <td>Place 3</td>\n",
       "      <td>cheese avo</td>\n",
       "      <td>1</td>\n",
       "      <td>0</td>\n",
       "      <td>1</td>\n",
       "      <td>3</td>\n",
       "      <td>Repeat groups 4</td>\n",
       "      <td>1</td>\n",
       "      <td>90848911</td>\n",
       "      <td>5377d1f8-f176-4a0f-8bd9-06bcc095c77a</td>\n",
       "      <td>2021-03-31T23:49:48</td>\n",
       "      <td>NaN</td>\n",
       "      <td>[]</td>\n",
       "      <td>submitted_via_web</td>\n",
       "      <td>NaN</td>\n",
       "      <td>[]</td>\n",
       "    </tr>\n",
       "    <tr>\n",
       "      <th>3</th>\n",
       "      <td>Place 1</td>\n",
       "      <td>cheese pepperoni avo</td>\n",
       "      <td>1</td>\n",
       "      <td>1</td>\n",
       "      <td>1</td>\n",
       "      <td>4</td>\n",
       "      <td>Repeat groups 4</td>\n",
       "      <td>2</td>\n",
       "      <td>90848933</td>\n",
       "      <td>c10b537e-3caa-48be-825b-a94752564ab2</td>\n",
       "      <td>2021-03-31T23:50:19</td>\n",
       "      <td>NaN</td>\n",
       "      <td>[]</td>\n",
       "      <td>submitted_via_web</td>\n",
       "      <td>NaN</td>\n",
       "      <td>[]</td>\n",
       "    </tr>\n",
       "    <tr>\n",
       "      <th>4</th>\n",
       "      <td>Place 3</td>\n",
       "      <td>pepperoni avo</td>\n",
       "      <td>0</td>\n",
       "      <td>1</td>\n",
       "      <td>1</td>\n",
       "      <td>5</td>\n",
       "      <td>Repeat groups 4</td>\n",
       "      <td>2</td>\n",
       "      <td>90848933</td>\n",
       "      <td>c10b537e-3caa-48be-825b-a94752564ab2</td>\n",
       "      <td>2021-03-31T23:50:19</td>\n",
       "      <td>NaN</td>\n",
       "      <td>[]</td>\n",
       "      <td>submitted_via_web</td>\n",
       "      <td>NaN</td>\n",
       "      <td>[]</td>\n",
       "    </tr>\n",
       "  </tbody>\n",
       "</table>\n",
       "</div>"
      ],
      "text/plain": [
       "  A_pizza_place_you_like Your_favourite_toppings_there  \\\n",
       "0                Place 1          cheese pepperoni avo   \n",
       "1                Place 2              cheese pepperoni   \n",
       "2                Place 3                    cheese avo   \n",
       "3                Place 1          cheese pepperoni avo   \n",
       "4                Place 3                 pepperoni avo   \n",
       "\n",
       "   Your_favourite_toppings_there/cheese  \\\n",
       "0                                     1   \n",
       "1                                     1   \n",
       "2                                     1   \n",
       "3                                     1   \n",
       "4                                     0   \n",
       "\n",
       "   Your_favourite_toppings_there/pepperoni  Your_favourite_toppings_there/avo  \\\n",
       "0                                        1                                  1   \n",
       "1                                        1                                  0   \n",
       "2                                        0                                  1   \n",
       "3                                        1                                  1   \n",
       "4                                        1                                  1   \n",
       "\n",
       "   _index _parent_table_name  _parent_index  _submission__id  \\\n",
       "0       1    Repeat groups 4              1         90848911   \n",
       "1       2    Repeat groups 4              1         90848911   \n",
       "2       3    Repeat groups 4              1         90848911   \n",
       "3       4    Repeat groups 4              2         90848933   \n",
       "4       5    Repeat groups 4              2         90848933   \n",
       "\n",
       "                      _submission__uuid _submission__submission_time  \\\n",
       "0  5377d1f8-f176-4a0f-8bd9-06bcc095c77a          2021-03-31T23:49:48   \n",
       "1  5377d1f8-f176-4a0f-8bd9-06bcc095c77a          2021-03-31T23:49:48   \n",
       "2  5377d1f8-f176-4a0f-8bd9-06bcc095c77a          2021-03-31T23:49:48   \n",
       "3  c10b537e-3caa-48be-825b-a94752564ab2          2021-03-31T23:50:19   \n",
       "4  c10b537e-3caa-48be-825b-a94752564ab2          2021-03-31T23:50:19   \n",
       "\n",
       "   _submission__validation_status _submission__notes _submission__status  \\\n",
       "0                             NaN                 []   submitted_via_web   \n",
       "1                             NaN                 []   submitted_via_web   \n",
       "2                             NaN                 []   submitted_via_web   \n",
       "3                             NaN                 []   submitted_via_web   \n",
       "4                             NaN                 []   submitted_via_web   \n",
       "\n",
       "   _submission__submitted_by _submission__tags  \n",
       "0                        NaN                []  \n",
       "1                        NaN                []  \n",
       "2                        NaN                []  \n",
       "3                        NaN                []  \n",
       "4                        NaN                []  "
      ]
     },
     "execution_count": 7,
     "metadata": {},
     "output_type": "execute_result"
    }
   ],
   "source": [
    "repeat_subs = pd.read_excel(FILENAME, sheet_name=REPEAT_GROUP_NAME)\n",
    "repeat_subs.head()"
   ]
  },
  {
   "cell_type": "markdown",
   "metadata": {},
   "source": [
    "## Let's do some data cleaning 🧹🧹🧹\n",
    "---\n",
    "\n",
    "![](https://media.giphy.com/media/3oKIPCSX4UHmuS41TG/giphy.gif)\n",
    "\n",
    "There's no right or wrong way to do this, but for the purposes of the tutorial, we'll just make some simple changes the submission data."
   ]
  },
  {
   "cell_type": "code",
   "execution_count": 8,
   "metadata": {
    "scrolled": true
   },
   "outputs": [
    {
     "data": {
      "text/html": [
       "<div>\n",
       "<style scoped>\n",
       "    .dataframe tbody tr th:only-of-type {\n",
       "        vertical-align: middle;\n",
       "    }\n",
       "\n",
       "    .dataframe tbody tr th {\n",
       "        vertical-align: top;\n",
       "    }\n",
       "\n",
       "    .dataframe thead th {\n",
       "        text-align: right;\n",
       "    }\n",
       "</style>\n",
       "<table border=\"1\" class=\"dataframe\">\n",
       "  <thead>\n",
       "    <tr style=\"text-align: right;\">\n",
       "      <th></th>\n",
       "      <th>A_pizza_place_you_like</th>\n",
       "      <th>Your_favourite_toppings_there</th>\n",
       "      <th>_submission__uuid</th>\n",
       "    </tr>\n",
       "  </thead>\n",
       "  <tbody>\n",
       "    <tr>\n",
       "      <th>0</th>\n",
       "      <td>Place 1</td>\n",
       "      <td>cheese pepperoni avo</td>\n",
       "      <td>5377d1f8-f176-4a0f-8bd9-06bcc095c77a</td>\n",
       "    </tr>\n",
       "    <tr>\n",
       "      <th>1</th>\n",
       "      <td>Place 2</td>\n",
       "      <td>cheese pepperoni</td>\n",
       "      <td>5377d1f8-f176-4a0f-8bd9-06bcc095c77a</td>\n",
       "    </tr>\n",
       "    <tr>\n",
       "      <th>2</th>\n",
       "      <td>Place 3</td>\n",
       "      <td>cheese avo</td>\n",
       "      <td>5377d1f8-f176-4a0f-8bd9-06bcc095c77a</td>\n",
       "    </tr>\n",
       "    <tr>\n",
       "      <th>3</th>\n",
       "      <td>Place 1</td>\n",
       "      <td>cheese pepperoni avo</td>\n",
       "      <td>c10b537e-3caa-48be-825b-a94752564ab2</td>\n",
       "    </tr>\n",
       "    <tr>\n",
       "      <th>4</th>\n",
       "      <td>Place 3</td>\n",
       "      <td>pepperoni avo</td>\n",
       "      <td>c10b537e-3caa-48be-825b-a94752564ab2</td>\n",
       "    </tr>\n",
       "  </tbody>\n",
       "</table>\n",
       "</div>"
      ],
      "text/plain": [
       "  A_pizza_place_you_like Your_favourite_toppings_there  \\\n",
       "0                Place 1          cheese pepperoni avo   \n",
       "1                Place 2              cheese pepperoni   \n",
       "2                Place 3                    cheese avo   \n",
       "3                Place 1          cheese pepperoni avo   \n",
       "4                Place 3                 pepperoni avo   \n",
       "\n",
       "                      _submission__uuid  \n",
       "0  5377d1f8-f176-4a0f-8bd9-06bcc095c77a  \n",
       "1  5377d1f8-f176-4a0f-8bd9-06bcc095c77a  \n",
       "2  5377d1f8-f176-4a0f-8bd9-06bcc095c77a  \n",
       "3  c10b537e-3caa-48be-825b-a94752564ab2  \n",
       "4  c10b537e-3caa-48be-825b-a94752564ab2  "
      ]
     },
     "execution_count": 8,
     "metadata": {},
     "output_type": "execute_result"
    }
   ],
   "source": [
    "repeat_subs_cols = ['A_pizza_place_you_like', 'Your_favourite_toppings_there', '_submission__uuid']\n",
    "repeat_subs_filtered = repeat_subs[repeat_subs_cols]\n",
    "repeat_subs_filtered.head()"
   ]
  },
  {
   "cell_type": "code",
   "execution_count": 9,
   "metadata": {},
   "outputs": [
    {
     "data": {
      "text/plain": [
       "'5377d1f8-f176-4a0f-8bd9-06bcc095c77a'"
      ]
     },
     "execution_count": 9,
     "metadata": {},
     "output_type": "execute_result"
    }
   ],
   "source": [
    "USER = 'Octavian'\n",
    "user_uid = subs_filtered[subs_filtered['What_is_your_name'] == USER]['_uuid'].values[0]\n",
    "user_uid"
   ]
  },
  {
   "cell_type": "code",
   "execution_count": 10,
   "metadata": {},
   "outputs": [
    {
     "data": {
      "text/html": [
       "<div>\n",
       "<style scoped>\n",
       "    .dataframe tbody tr th:only-of-type {\n",
       "        vertical-align: middle;\n",
       "    }\n",
       "\n",
       "    .dataframe tbody tr th {\n",
       "        vertical-align: top;\n",
       "    }\n",
       "\n",
       "    .dataframe thead th {\n",
       "        text-align: right;\n",
       "    }\n",
       "</style>\n",
       "<table border=\"1\" class=\"dataframe\">\n",
       "  <thead>\n",
       "    <tr style=\"text-align: right;\">\n",
       "      <th></th>\n",
       "      <th>A_pizza_place_you_like</th>\n",
       "      <th>Your_favourite_toppings_there</th>\n",
       "      <th>_submission__uuid</th>\n",
       "    </tr>\n",
       "  </thead>\n",
       "  <tbody>\n",
       "    <tr>\n",
       "      <th>0</th>\n",
       "      <td>Place 1</td>\n",
       "      <td>cheese pepperoni avo</td>\n",
       "      <td>5377d1f8-f176-4a0f-8bd9-06bcc095c77a</td>\n",
       "    </tr>\n",
       "    <tr>\n",
       "      <th>1</th>\n",
       "      <td>Place 2</td>\n",
       "      <td>cheese pepperoni</td>\n",
       "      <td>5377d1f8-f176-4a0f-8bd9-06bcc095c77a</td>\n",
       "    </tr>\n",
       "    <tr>\n",
       "      <th>2</th>\n",
       "      <td>Place 3</td>\n",
       "      <td>cheese avo</td>\n",
       "      <td>5377d1f8-f176-4a0f-8bd9-06bcc095c77a</td>\n",
       "    </tr>\n",
       "  </tbody>\n",
       "</table>\n",
       "</div>"
      ],
      "text/plain": [
       "  A_pizza_place_you_like Your_favourite_toppings_there  \\\n",
       "0                Place 1          cheese pepperoni avo   \n",
       "1                Place 2              cheese pepperoni   \n",
       "2                Place 3                    cheese avo   \n",
       "\n",
       "                      _submission__uuid  \n",
       "0  5377d1f8-f176-4a0f-8bd9-06bcc095c77a  \n",
       "1  5377d1f8-f176-4a0f-8bd9-06bcc095c77a  \n",
       "2  5377d1f8-f176-4a0f-8bd9-06bcc095c77a  "
      ]
     },
     "execution_count": 10,
     "metadata": {},
     "output_type": "execute_result"
    }
   ],
   "source": [
    "repeat_subs_for_user = repeat_subs_filtered[repeat_subs_filtered['_submission__uuid'] == user_uid]\n",
    "repeat_subs_for_user"
   ]
  },
  {
   "cell_type": "code",
   "execution_count": 11,
   "metadata": {},
   "outputs": [],
   "source": [
    "def remove_choice(string_choices: str, choice: str) -> str:\n",
    "    return ' '.join([c for c in string_choices.split() if c != choice])"
   ]
  },
  {
   "cell_type": "code",
   "execution_count": 12,
   "metadata": {},
   "outputs": [],
   "source": [
    "def map_place_names(place: str) -> str:\n",
    "    places = {\n",
    "        'Place 1': 'Limoncello',\n",
    "        'Place 2': 'The Backyard',\n",
    "        'Place 3': 'Basilico'\n",
    "    }\n",
    "    new_place = places.get(place)\n",
    "    return new_place if new_place is not None else place"
   ]
  },
  {
   "cell_type": "code",
   "execution_count": 13,
   "metadata": {},
   "outputs": [
    {
     "data": {
      "text/plain": [
       "['9ce27ce0-f5c5-4924-ab00-b0874b7f05c8',\n",
       " 'c10b537e-3caa-48be-825b-a94752564ab2']"
      ]
     },
     "execution_count": 13,
     "metadata": {},
     "output_type": "execute_result"
    }
   ],
   "source": [
    "all_uuids = subs_filtered['_uuid'].tolist()\n",
    "uuids_for_updating = sample(all_uuids, 2)\n",
    "uuids_for_updating"
   ]
  },
  {
   "cell_type": "code",
   "execution_count": 14,
   "metadata": {},
   "outputs": [],
   "source": [
    "for i, row in repeat_subs_filtered.iterrows():\n",
    "    if row['_submission__uuid'] in uuids_for_updating:\n",
    "        row['Your_favourite_toppings_there'] = remove_choice(row['Your_favourite_toppings_there'], 'pepperoni')\n",
    "    row['A_pizza_place_you_like'] = map_place_names(row['A_pizza_place_you_like'])"
   ]
  },
  {
   "cell_type": "code",
   "execution_count": 15,
   "metadata": {},
   "outputs": [
    {
     "data": {
      "text/html": [
       "<div>\n",
       "<style scoped>\n",
       "    .dataframe tbody tr th:only-of-type {\n",
       "        vertical-align: middle;\n",
       "    }\n",
       "\n",
       "    .dataframe tbody tr th {\n",
       "        vertical-align: top;\n",
       "    }\n",
       "\n",
       "    .dataframe thead th {\n",
       "        text-align: right;\n",
       "    }\n",
       "</style>\n",
       "<table border=\"1\" class=\"dataframe\">\n",
       "  <thead>\n",
       "    <tr style=\"text-align: right;\">\n",
       "      <th></th>\n",
       "      <th>A_pizza_place_you_like</th>\n",
       "      <th>Your_favourite_toppings_there</th>\n",
       "      <th>_submission__uuid</th>\n",
       "    </tr>\n",
       "  </thead>\n",
       "  <tbody>\n",
       "    <tr>\n",
       "      <th>0</th>\n",
       "      <td>Limoncello</td>\n",
       "      <td>cheese pepperoni avo</td>\n",
       "      <td>5377d1f8-f176-4a0f-8bd9-06bcc095c77a</td>\n",
       "    </tr>\n",
       "    <tr>\n",
       "      <th>1</th>\n",
       "      <td>The Backyard</td>\n",
       "      <td>cheese pepperoni</td>\n",
       "      <td>5377d1f8-f176-4a0f-8bd9-06bcc095c77a</td>\n",
       "    </tr>\n",
       "    <tr>\n",
       "      <th>2</th>\n",
       "      <td>Basilico</td>\n",
       "      <td>cheese avo</td>\n",
       "      <td>5377d1f8-f176-4a0f-8bd9-06bcc095c77a</td>\n",
       "    </tr>\n",
       "    <tr>\n",
       "      <th>3</th>\n",
       "      <td>Limoncello</td>\n",
       "      <td>cheese avo</td>\n",
       "      <td>c10b537e-3caa-48be-825b-a94752564ab2</td>\n",
       "    </tr>\n",
       "    <tr>\n",
       "      <th>4</th>\n",
       "      <td>Basilico</td>\n",
       "      <td>avo</td>\n",
       "      <td>c10b537e-3caa-48be-825b-a94752564ab2</td>\n",
       "    </tr>\n",
       "    <tr>\n",
       "      <th>5</th>\n",
       "      <td>The Backyard</td>\n",
       "      <td>cheese avo</td>\n",
       "      <td>9ce27ce0-f5c5-4924-ab00-b0874b7f05c8</td>\n",
       "    </tr>\n",
       "    <tr>\n",
       "      <th>6</th>\n",
       "      <td>Basilico</td>\n",
       "      <td>cheese avo</td>\n",
       "      <td>9ce27ce0-f5c5-4924-ab00-b0874b7f05c8</td>\n",
       "    </tr>\n",
       "  </tbody>\n",
       "</table>\n",
       "</div>"
      ],
      "text/plain": [
       "  A_pizza_place_you_like Your_favourite_toppings_there  \\\n",
       "0             Limoncello          cheese pepperoni avo   \n",
       "1           The Backyard              cheese pepperoni   \n",
       "2               Basilico                    cheese avo   \n",
       "3             Limoncello                    cheese avo   \n",
       "4               Basilico                           avo   \n",
       "5           The Backyard                    cheese avo   \n",
       "6               Basilico                    cheese avo   \n",
       "\n",
       "                      _submission__uuid  \n",
       "0  5377d1f8-f176-4a0f-8bd9-06bcc095c77a  \n",
       "1  5377d1f8-f176-4a0f-8bd9-06bcc095c77a  \n",
       "2  5377d1f8-f176-4a0f-8bd9-06bcc095c77a  \n",
       "3  c10b537e-3caa-48be-825b-a94752564ab2  \n",
       "4  c10b537e-3caa-48be-825b-a94752564ab2  \n",
       "5  9ce27ce0-f5c5-4924-ab00-b0874b7f05c8  \n",
       "6  9ce27ce0-f5c5-4924-ab00-b0874b7f05c8  "
      ]
     },
     "execution_count": 15,
     "metadata": {},
     "output_type": "execute_result"
    }
   ],
   "source": [
    "repeat_subs_filtered"
   ]
  },
  {
   "cell_type": "markdown",
   "metadata": {},
   "source": [
    "## Massage the data 💆‍♀️\n",
    "\n",
    "![](https://media.giphy.com/media/JgUNowqwNo5FK/giphy.gif)\n",
    "\n",
    "Let's massage that cleaned data back into a format that's more useful to work with.\n",
    "\n",
    "**Note that this will need to be adjusted to your particular needs**"
   ]
  },
  {
   "cell_type": "code",
   "execution_count": 16,
   "metadata": {},
   "outputs": [],
   "source": [
    "updated_subs = []\n",
    "for i, subs_row in subs_filtered.iterrows():\n",
    "    sub = {\n",
    "        'What_is_your_name': subs_row['What_is_your_name'],\n",
    "        '_uuid': subs_row['_uuid']\n",
    "    }\n",
    "    \n",
    "    df_repeats = repeat_subs_filtered[repeat_subs_filtered['_submission__uuid'] == sub['_uuid']]\n",
    "    repeat_group = []\n",
    "    for j, repeats_row in df_repeats.iterrows():\n",
    "        repeat_group.append({\n",
    "            'A_pizza_place_you_like': repeats_row['A_pizza_place_you_like'],\n",
    "            'Your_favourite_toppings_there': repeats_row['Your_favourite_toppings_there']\n",
    "        })\n",
    "    sub[REPEAT_GROUP_NAME] = repeat_group\n",
    "    updated_subs.append(sub)"
   ]
  },
  {
   "cell_type": "code",
   "execution_count": 17,
   "metadata": {},
   "outputs": [
    {
     "data": {
      "text/plain": [
       "[{'What_is_your_name': 'Octavian',\n",
       "  '_uuid': '5377d1f8-f176-4a0f-8bd9-06bcc095c77a',\n",
       "  'group_gp3qf47': [{'A_pizza_place_you_like': 'Limoncello',\n",
       "    'Your_favourite_toppings_there': 'cheese pepperoni avo'},\n",
       "   {'A_pizza_place_you_like': 'The Backyard',\n",
       "    'Your_favourite_toppings_there': 'cheese pepperoni'},\n",
       "   {'A_pizza_place_you_like': 'Basilico',\n",
       "    'Your_favourite_toppings_there': 'cheese avo'}]},\n",
       " {'What_is_your_name': 'Mark Antony',\n",
       "  '_uuid': 'c10b537e-3caa-48be-825b-a94752564ab2',\n",
       "  'group_gp3qf47': [{'A_pizza_place_you_like': 'Limoncello',\n",
       "    'Your_favourite_toppings_there': 'cheese avo'},\n",
       "   {'A_pizza_place_you_like': 'Basilico',\n",
       "    'Your_favourite_toppings_there': 'avo'}]},\n",
       " {'What_is_your_name': 'Lepidus',\n",
       "  '_uuid': '9ce27ce0-f5c5-4924-ab00-b0874b7f05c8',\n",
       "  'group_gp3qf47': [{'A_pizza_place_you_like': 'The Backyard',\n",
       "    'Your_favourite_toppings_there': 'cheese avo'},\n",
       "   {'A_pizza_place_you_like': 'Basilico',\n",
       "    'Your_favourite_toppings_there': 'cheese avo'}]}]"
      ]
     },
     "execution_count": 17,
     "metadata": {},
     "output_type": "execute_result"
    }
   ],
   "source": [
    "updated_subs"
   ]
  },
  {
   "cell_type": "markdown",
   "metadata": {},
   "source": [
    "## Grab all the submissions 🛒\n",
    "\n",
    "![](https://media.giphy.com/media/PjJ1XUXFkp6FRA2SrB/giphy.gif)\n",
    "\n",
    "Just as in Part 1, we need to grab the XML to update it with our newly cleaned data."
   ]
  },
  {
   "cell_type": "code",
   "execution_count": 18,
   "metadata": {},
   "outputs": [],
   "source": [
    "res = requests.get(url=XML_URL, headers=HEADERS, params=PARAMS)"
   ]
  },
  {
   "cell_type": "code",
   "execution_count": 19,
   "metadata": {
    "scrolled": true
   },
   "outputs": [
    {
     "data": {
      "text/plain": [
       "200"
      ]
     },
     "execution_count": 19,
     "metadata": {},
     "output_type": "execute_result"
    }
   ],
   "source": [
    "res.status_code"
   ]
  },
  {
   "cell_type": "code",
   "execution_count": 20,
   "metadata": {},
   "outputs": [],
   "source": [
    "xml_str = res.text"
   ]
  },
  {
   "cell_type": "code",
   "execution_count": 21,
   "metadata": {},
   "outputs": [],
   "source": [
    "parsed_xml = ET.fromstring(xml_str)"
   ]
  },
  {
   "cell_type": "markdown",
   "metadata": {},
   "source": [
    "Let's take look at what a single submission's XML looks like"
   ]
  },
  {
   "cell_type": "code",
   "execution_count": 22,
   "metadata": {},
   "outputs": [
    {
     "name": "stdout",
     "output_type": "stream",
     "text": [
      "<abkTtAKoX7CK2pa6ToHyBV id=\"abkTtAKoX7CK2pa6ToHyBV\" version=\"1 (2021-03-31 23:49:07)\">\n",
      "          <formhub>\n",
      "            <uuid>70b4c958db894e2d94620129fafdae51</uuid>\n",
      "          </formhub>\n",
      "          <start>2021-03-31T16:49:17.317-07:00</start>\n",
      "          <end>2021-03-31T16:49:44.237-07:00</end>\n",
      "          <What_is_your_name>Octavian</What_is_your_name>\n",
      "          <group_gp3qf47>\n",
      "            <A_pizza_place_you_like>Place 1</A_pizza_place_you_like>\n",
      "            <Your_favourite_toppings_there>cheese pepperoni avo</Your_favourite_toppings_there>\n",
      "          </group_gp3qf47><group_gp3qf47>\n",
      "            <A_pizza_place_you_like>Place 2</A_pizza_place_you_like>\n",
      "            <Your_favourite_toppings_there>cheese pepperoni</Your_favourite_toppings_there>\n",
      "          </group_gp3qf47><group_gp3qf47>\n",
      "            <A_pizza_place_you_like>Place 3</A_pizza_place_you_like>\n",
      "            <Your_favourite_toppings_there>cheese avo</Your_favourite_toppings_there>\n",
      "          </group_gp3qf47>\n",
      "          <__version__>vnGjnM3HciqbwBykGmHfe2</__version__>\n",
      "          <meta>\n",
      "            <instanceID>uuid:5377d1f8-f176-4a0f-8bd9-06bcc095c77a</instanceID>\n",
      "          </meta>\n",
      "        </abkTtAKoX7CK2pa6ToHyBV>\n"
     ]
    }
   ],
   "source": [
    "e = parsed_xml.find(f'results/{ASSET_UID}')\n",
    "print(ET.tostring(e).decode())"
   ]
  },
  {
   "cell_type": "code",
   "execution_count": 23,
   "metadata": {},
   "outputs": [
    {
     "data": {
      "text/plain": [
       "[<Element 'group_gp3qf47' at 0x7fd5bce796d0>,\n",
       " <Element 'group_gp3qf47' at 0x7fd5bce798b0>,\n",
       " <Element 'group_gp3qf47' at 0x7fd5bce799f0>]"
      ]
     },
     "execution_count": 23,
     "metadata": {},
     "output_type": "execute_result"
    }
   ],
   "source": [
    "e.findall('group_gp3qf47')"
   ]
  },
  {
   "cell_type": "markdown",
   "metadata": {},
   "source": [
    "Let's grab all the submissions contained in the `results` array"
   ]
  },
  {
   "cell_type": "code",
   "execution_count": 24,
   "metadata": {
    "scrolled": true
   },
   "outputs": [
    {
     "data": {
      "text/plain": [
       "[<Element 'abkTtAKoX7CK2pa6ToHyBV' at 0x7fd5bce790e0>,\n",
       " <Element 'abkTtAKoX7CK2pa6ToHyBV' at 0x7fd5bce79cc0>,\n",
       " <Element 'abkTtAKoX7CK2pa6ToHyBV' at 0x7fd5bce2d3b0>]"
      ]
     },
     "execution_count": 24,
     "metadata": {},
     "output_type": "execute_result"
    }
   ],
   "source": [
    "all_xml_subs = parsed_xml.findall(f'results/{ASSET_UID}')\n",
    "all_xml_subs"
   ]
  },
  {
   "cell_type": "markdown",
   "metadata": {},
   "source": [
    "A helpful method to filter the submissions based on `uuid` that we'll use later on"
   ]
  },
  {
   "cell_type": "code",
   "execution_count": 25,
   "metadata": {},
   "outputs": [],
   "source": [
    "def get_xml_for_submission_uid(xml: ET.Element, submission_uid: str) -> ET.Element:\n",
    "    return [x for x in xml if x.find('meta/instanceID').text == f'uuid:{submission_uid}'][0]"
   ]
  },
  {
   "cell_type": "code",
   "execution_count": 26,
   "metadata": {},
   "outputs": [
    {
     "data": {
      "text/plain": [
       "'5377d1f8-f176-4a0f-8bd9-06bcc095c77a'"
      ]
     },
     "execution_count": 26,
     "metadata": {},
     "output_type": "execute_result"
    }
   ],
   "source": [
    "sub_uuid = updated_subs[0]['_uuid']\n",
    "sub_uuid"
   ]
  },
  {
   "cell_type": "code",
   "execution_count": 27,
   "metadata": {
    "scrolled": true
   },
   "outputs": [
    {
     "data": {
      "text/plain": [
       "<Element 'abkTtAKoX7CK2pa6ToHyBV' at 0x7fd5bce790e0>"
      ]
     },
     "execution_count": 27,
     "metadata": {},
     "output_type": "execute_result"
    }
   ],
   "source": [
    "tmp_el = get_xml_for_submission_uid(all_xml_subs, sub_uuid)\n",
    "tmp_el"
   ]
  },
  {
   "cell_type": "code",
   "execution_count": 28,
   "metadata": {},
   "outputs": [
    {
     "data": {
      "text/plain": [
       "{'id': 'abkTtAKoX7CK2pa6ToHyBV', 'version': '1 (2021-03-31 23:49:07)'}"
      ]
     },
     "execution_count": 28,
     "metadata": {},
     "output_type": "execute_result"
    }
   ],
   "source": [
    "tmp_el.attrib"
   ]
  },
  {
   "cell_type": "code",
   "execution_count": 29,
   "metadata": {},
   "outputs": [
    {
     "name": "stdout",
     "output_type": "stream",
     "text": [
      "<abkTtAKoX7CK2pa6ToHyBV id=\"abkTtAKoX7CK2pa6ToHyBV\" version=\"1 (2021-03-31 23:49:07)\">\n",
      "          <formhub>\n",
      "            <uuid>70b4c958db894e2d94620129fafdae51</uuid>\n",
      "          </formhub>\n",
      "          <start>2021-03-31T16:49:17.317-07:00</start>\n",
      "          <end>2021-03-31T16:49:44.237-07:00</end>\n",
      "          <What_is_your_name>Octavian</What_is_your_name>\n",
      "          <group_gp3qf47>\n",
      "            <A_pizza_place_you_like>Place 1</A_pizza_place_you_like>\n",
      "            <Your_favourite_toppings_there>cheese pepperoni avo</Your_favourite_toppings_there>\n",
      "          </group_gp3qf47><group_gp3qf47>\n",
      "            <A_pizza_place_you_like>Place 2</A_pizza_place_you_like>\n",
      "            <Your_favourite_toppings_there>cheese pepperoni</Your_favourite_toppings_there>\n",
      "          </group_gp3qf47><group_gp3qf47>\n",
      "            <A_pizza_place_you_like>Place 3</A_pizza_place_you_like>\n",
      "            <Your_favourite_toppings_there>cheese avo</Your_favourite_toppings_there>\n",
      "          </group_gp3qf47>\n",
      "          <__version__>vnGjnM3HciqbwBykGmHfe2</__version__>\n",
      "          <meta>\n",
      "            <instanceID>uuid:5377d1f8-f176-4a0f-8bd9-06bcc095c77a</instanceID>\n",
      "          </meta>\n",
      "        </abkTtAKoX7CK2pa6ToHyBV>\n"
     ]
    }
   ],
   "source": [
    "print(ET.tostring(tmp_el).decode())"
   ]
  },
  {
   "cell_type": "markdown",
   "metadata": {},
   "source": [
    "# Hack together some methods 🔪\n",
    "---\n",
    "\n",
    "Some of these are just copied over from Part 1, some are extended and the rest are some minor additions."
   ]
  },
  {
   "cell_type": "code",
   "execution_count": 30,
   "metadata": {},
   "outputs": [],
   "source": [
    "def submit_data(xml_sub: bytes, _uuid: str) -> str:\n",
    "    \"\"\"\n",
    "    Send the XML to kobo!\n",
    "    \"\"\"\n",
    "    file_tuple = (_uuid, io.BytesIO(xml_sub))\n",
    "    files = {'xml_submission_file': file_tuple}\n",
    "    res = requests.Request(\n",
    "        method='POST', url=SUMISSION_URL, files=files, headers=HEADERS\n",
    "    )\n",
    "    session = requests.Session()\n",
    "    res = session.send(res.prepare())\n",
    "    return res.status_code\n",
    "\n",
    "def format_openrosa_datetime() -> str:\n",
    "    \"\"\"\n",
    "    This is required to get the correct datetime formatting\n",
    "    \"\"\"\n",
    "    return datetime.now(tz=pytz.UTC).isoformat('T', 'milliseconds')"
   ]
  },
  {
   "cell_type": "code",
   "execution_count": 31,
   "metadata": {},
   "outputs": [],
   "source": [
    "def update_element_value(e: ET.Element, name: str, value: str) -> None:\n",
    "    \"\"\"\n",
    "    Get or create a node and give it a value, even if nested within a group\n",
    "    \"\"\"\n",
    "    el = e.find(name)\n",
    "    if el is None:\n",
    "        # this only works for questions nested within a single group\n",
    "        # and will need to be extended to handle deeply nested groups\n",
    "        # refer here for how this is implemented in KPI:\n",
    "        # https://github.com/kobotoolbox/kpi/blob/27cff694f9a63fd091ba8b803ac925f77b8f513b/kpi/deployment_backends/kobocat_backend.py#L827-L857\n",
    "        if '/' in name:\n",
    "            root, node = name.split('/')\n",
    "            el = ET.SubElement(e.find(root), node)\n",
    "        else:\n",
    "            el = ET.SubElement(e, name)\n",
    "    el.text = value\n",
    "    \n",
    "def update_list_of_element_values(e: ET.Element, name: str, items: str) -> None:\n",
    "    \"\"\"\n",
    "    Update a list of nodes within a group -- will fail if the item doesn't exist\n",
    "    on the XML tree so extend appropriately.\n",
    "    \n",
    "    This takes care of updating the repeat group questions.\n",
    "    \"\"\"\n",
    "    els = e.findall(name)\n",
    "    for el, item in zip(els, items):\n",
    "        for k, v in item.items():\n",
    "            el.find(k).text = v\n",
    "            \n",
    "def update_root_element_tag_and_attrib(e: ET.Element, tag: str, attrib: dict) -> None:\n",
    "    \"\"\"\n",
    "    Update the root of each submission's XML tree when submitting to a cloned form\n",
    "    \"\"\"\n",
    "    e.tag = tag\n",
    "    e.attrib = attrib"
   ]
  },
  {
   "cell_type": "code",
   "execution_count": 32,
   "metadata": {},
   "outputs": [],
   "source": [
    "def create_submissions(xml: ET.Element, subs: list, clone_data=None) -> list:\n",
    "    \"\"\"\n",
    "    Take a bunch of submissions and send them off\n",
    "    \n",
    "    If you're wanting to use a cloned project, the dict must contain the following data:\n",
    "    \n",
    "    clone_data = {\n",
    "        'clone_asset_uid': 'azNBzazvrjaqmmgF2H7gF5',\n",
    "        'version': '1 (2021-03-29 19:40:28)',\n",
    "        '__version__': 'vuoUnu6ZRrYwbxGz48QLSZ',\n",
    "        'formhub_uuid': '30f53e5a4bc0425fb5bb27819c14ba44'\n",
    "    }\n",
    "    \n",
    "    \"\"\"\n",
    "    \n",
    "    all_subs = []\n",
    "    for sub in subs:\n",
    "        sub = copy.deepcopy(sub)\n",
    "        sub_uuid = sub.pop('_uuid')\n",
    "        parsed_xml = get_xml_for_submission_uid(xml, sub_uuid)\n",
    "        \n",
    "        _now = format_openrosa_datetime()\n",
    "        _uuid = str(uuid.uuid4())\n",
    "        \n",
    "        for k, v in sub.items():\n",
    "            if isinstance(v, list):\n",
    "                update_list_of_element_values(parsed_xml, k, v)\n",
    "            else:\n",
    "                update_element_value(parsed_xml, k, v)\n",
    "        \n",
    "        # We have to create a meta/deprecatedID node with the value of the old instanceID and then \n",
    "        # update the instanceID for the submission to be updated correctly on the server -- ONLY IF \n",
    "        # NOT USING A CLONED FORM\n",
    "        if clone_data is None:\n",
    "            update_element_value(parsed_xml, 'meta/deprecatedID', parsed_xml.find('meta/instanceID').text)\n",
    "        update_element_value(parsed_xml, 'meta/instanceID', f'uuid:{_uuid}')\n",
    "        \n",
    "        # Updating the `start` and `end` times is not really necessary, but \n",
    "        # probably something you'd want to do\n",
    "        update_element_value(parsed_xml, 'start', _now)\n",
    "        update_element_value(parsed_xml, 'end', _now)\n",
    "        \n",
    "        if clone_data is not None:\n",
    "            new_attrib = {\n",
    "                'id': clone_data['clone_asset_uid'],\n",
    "                'version': clone_data['version']\n",
    "            }\n",
    "            update_root_element_tag_and_attrib(parsed_xml, clone_data['clone_asset_uid'], new_attrib)\n",
    "            update_element_value(parsed_xml, '__version__', clone_data['__version__'])\n",
    "            update_element_value(parsed_xml, 'formhub/uuid', clone_data['formhub_uuid'])\n",
    "        \n",
    "        all_subs.append(submit_data(ET.tostring(parsed_xml), _uuid))\n",
    "        \n",
    "        # If you are submitting a large amount of data, please be mindful that it can\n",
    "        # overwhelm the servers if sent in a short span of time. Letting it sleep for\n",
    "        # for a short stint between each upload will be much appreciated\n",
    "        sleep(0.2)\n",
    "        \n",
    "    return all_subs"
   ]
  },
  {
   "cell_type": "markdown",
   "metadata": {},
   "source": [
    "# Approach 1: Send modified data to a cloned form\n",
    "\n",
    "To preserve the integrity of your original submission data, this would be the recommended approach. If you have made changes to the data and want it stored back on the Kobo servers, you want to be careful not to corrupt your survey data and rather have a clean slate to work from — without fear of data loss.\n",
    "\n",
    "We'll follow these steps:\n",
    "1. [Clone the form](#1.-Clone-form)\n",
    "2. [Deploy the cloned form](#2.-Deploy-the-cloned-form)\n",
    "3. [Get deployment data from KC and KPI](#3.-Get-deployment-data)\n",
    "4. [Send it off](#4.-Let's-send-that-data-off!)"
   ]
  },
  {
   "cell_type": "markdown",
   "metadata": {},
   "source": [
    "## 1. Clone your form 🐑 🐑\n",
    "\n",
    "![](https://media.giphy.com/media/TlK63EA6F1qRb7lll6M/giphy.gif)\n",
    "\n",
    "Let's clone the original form and give it new name. For this example, I've included a UUID with each name just to ensure that it's unique, but this isn't necessary."
   ]
  },
  {
   "cell_type": "code",
   "execution_count": 33,
   "metadata": {},
   "outputs": [],
   "source": [
    "data = {\n",
    "    'clone_from': ASSET_UID,\n",
    "    'name': f'{CLONED_ASSET_NAME} {uuid.uuid4()}'\n",
    "}\n",
    "res = requests.post(url=ASSETS_URL, headers=HEADERS, params=PARAMS, data=data)"
   ]
  },
  {
   "cell_type": "code",
   "execution_count": 34,
   "metadata": {},
   "outputs": [
    {
     "data": {
      "text/plain": [
       "201"
      ]
     },
     "execution_count": 34,
     "metadata": {},
     "output_type": "execute_result"
    }
   ],
   "source": [
    "res.status_code"
   ]
  },
  {
   "cell_type": "code",
   "execution_count": 35,
   "metadata": {},
   "outputs": [],
   "source": [
    "cloned_survey = res.json()"
   ]
  },
  {
   "cell_type": "code",
   "execution_count": 36,
   "metadata": {},
   "outputs": [
    {
     "data": {
      "text/plain": [
       "'aciDTwqQz6uf7FMUEjFE4v'"
      ]
     },
     "execution_count": 36,
     "metadata": {},
     "output_type": "execute_result"
    }
   ],
   "source": [
    "cloned_asset_uid = cloned_survey['uid']\n",
    "cloned_asset_uid"
   ]
  },
  {
   "cell_type": "markdown",
   "metadata": {},
   "source": [
    "## 2. Deploy the cloned form 🚀\n",
    "\n",
    "![](https://media.giphy.com/media/k57ESX08OH3syRZn0a/giphy.gif)"
   ]
  },
  {
   "cell_type": "code",
   "execution_count": 37,
   "metadata": {},
   "outputs": [],
   "source": [
    "data = {\n",
    "    'active': 'true'\n",
    "}\n",
    "res = requests.post(url=_get_deployment_url(cloned_asset_uid), headers=HEADERS, params=PARAMS, data=data)"
   ]
  },
  {
   "cell_type": "code",
   "execution_count": 38,
   "metadata": {},
   "outputs": [
    {
     "data": {
      "text/plain": [
       "200"
      ]
     },
     "execution_count": 38,
     "metadata": {},
     "output_type": "execute_result"
    }
   ],
   "source": [
    "res.status_code"
   ]
  },
  {
   "cell_type": "markdown",
   "metadata": {},
   "source": [
    "## 3. Get the deployment data 📖\n",
    "\n",
    "### 3.1 Let's start with getting data from KC"
   ]
  },
  {
   "cell_type": "code",
   "execution_count": 39,
   "metadata": {},
   "outputs": [],
   "source": [
    "res = requests.get(url=FORMS_URL, headers=HEADERS, params=PARAMS)"
   ]
  },
  {
   "cell_type": "code",
   "execution_count": 40,
   "metadata": {},
   "outputs": [
    {
     "data": {
      "text/plain": [
       "200"
      ]
     },
     "execution_count": 40,
     "metadata": {},
     "output_type": "execute_result"
    }
   ],
   "source": [
    "res.status_code"
   ]
  },
  {
   "cell_type": "code",
   "execution_count": 41,
   "metadata": {},
   "outputs": [],
   "source": [
    "all_forms = res.json()"
   ]
  },
  {
   "cell_type": "code",
   "execution_count": 42,
   "metadata": {},
   "outputs": [
    {
     "data": {
      "text/plain": [
       "{'url': 'https://kc.kobotoolbox.org/api/v1/forms/647820?format=json',\n",
       " 'formid': 647820,\n",
       " 'metadata': [],\n",
       " 'owner': 'joshuaberetta',\n",
       " 'public': False,\n",
       " 'public_data': False,\n",
       " 'require_auth': False,\n",
       " 'tags': [],\n",
       " 'title': 'Clone of Repeat Groups Example 892ebbd1-b2f0-469b-882b-fc3f8eaf4d65',\n",
       " 'users': [{'user': 'joshuaberetta',\n",
       "   'permissions': ['add_datadictionary',\n",
       "    'add_xform',\n",
       "    'change_datadictionary',\n",
       "    'change_xform',\n",
       "    'delete_data_xform',\n",
       "    'delete_datadictionary',\n",
       "    'delete_xform',\n",
       "    'move_xform',\n",
       "    'report_xform',\n",
       "    'transfer_xform',\n",
       "    'validate_xform',\n",
       "    'view_xform']}],\n",
       " 'hash': 'md5:0da1648fef7696adbf29dda7afd31333',\n",
       " 'has_kpi_hooks': False,\n",
       " 'description': 'Clone of Repeat Groups Example 892ebbd1-b2f0-469b-882b-fc3f8eaf4d65',\n",
       " 'downloadable': True,\n",
       " 'allows_sms': False,\n",
       " 'encrypted': False,\n",
       " 'sms_id_string': 'aciDTwqQz6uf7FMUEjFE4v',\n",
       " 'id_string': 'aciDTwqQz6uf7FMUEjFE4v',\n",
       " 'date_created': '2021-03-31T23:53:02.638969Z',\n",
       " 'date_modified': '2021-03-31T23:53:02.720884Z',\n",
       " 'last_submission_time': None,\n",
       " 'uuid': '2a99f72ac2eb409db1b0e030339f0da6',\n",
       " 'instances_with_geopoints': False,\n",
       " 'num_of_submissions': 0,\n",
       " 'kpi_asset_uid': 'aciDTwqQz6uf7FMUEjFE4v'}"
      ]
     },
     "execution_count": 42,
     "metadata": {},
     "output_type": "execute_result"
    }
   ],
   "source": [
    "latest_form = [f for f in all_forms if f['id_string'] == cloned_asset_uid][0]\n",
    "latest_form"
   ]
  },
  {
   "cell_type": "code",
   "execution_count": 43,
   "metadata": {},
   "outputs": [
    {
     "data": {
      "text/plain": [
       "'2a99f72ac2eb409db1b0e030339f0da6'"
      ]
     },
     "execution_count": 43,
     "metadata": {},
     "output_type": "execute_result"
    }
   ],
   "source": [
    "formhub_uuid = latest_form['uuid']\n",
    "formhub_uuid"
   ]
  },
  {
   "cell_type": "markdown",
   "metadata": {},
   "source": [
    "### 3.2 Now from KPI\n",
    "\n",
    "There are a few things we need to update on each submission's XML:\n",
    "- The root `tag` and attributes of `id` and `version`\n",
    "- the value of `formhub/uuid` with the new uuid\n",
    "- value of `__version__`"
   ]
  },
  {
   "cell_type": "code",
   "execution_count": 44,
   "metadata": {},
   "outputs": [],
   "source": [
    "res = requests.get(f'{ASSETS_URL}{cloned_asset_uid}', headers=HEADERS, params=PARAMS)"
   ]
  },
  {
   "cell_type": "code",
   "execution_count": 45,
   "metadata": {},
   "outputs": [
    {
     "data": {
      "text/plain": [
       "200"
      ]
     },
     "execution_count": 45,
     "metadata": {},
     "output_type": "execute_result"
    }
   ],
   "source": [
    "res.status_code"
   ]
  },
  {
   "cell_type": "code",
   "execution_count": 46,
   "metadata": {},
   "outputs": [
    {
     "data": {
      "text/plain": [
       "{'count': 1,\n",
       " 'next': None,\n",
       " 'previous': None,\n",
       " 'results': [{'uid': 'v8vByYsmaxTVbtF3S6hLHg',\n",
       "   'url': 'https://kf.kobotoolbox.org/api/v2/assets/aciDTwqQz6uf7FMUEjFE4v/versions/v8vByYsmaxTVbtF3S6hLHg/?format=json',\n",
       "   'content_hash': 'b47ac0203f253524aaada90e13575b5a0041ee7b',\n",
       "   'date_deployed': '2021-03-31T23:53:00.510740Z',\n",
       "   'date_modified': '2021-03-31 23:53:00.510740+00:00'}]}"
      ]
     },
     "execution_count": 46,
     "metadata": {},
     "output_type": "execute_result"
    }
   ],
   "source": [
    "deployed_versions = res.json()['deployed_versions']\n",
    "deployed_versions"
   ]
  },
  {
   "cell_type": "markdown",
   "metadata": {},
   "source": [
    "We'll need some helper functions to get what we want out of the API data:"
   ]
  },
  {
   "cell_type": "code",
   "execution_count": 47,
   "metadata": {},
   "outputs": [],
   "source": [
    "def format_date_string(date_str: str) -> str:\n",
    "    \"\"\"\n",
    "    Format goal: \"1 (2021-03-29 19:40:28)\"\n",
    "    \"\"\"\n",
    "    date, time = date_str.split('T')\n",
    "    return f\"{date} {time.split('.')[0]}\""
   ]
  },
  {
   "cell_type": "code",
   "execution_count": 48,
   "metadata": {},
   "outputs": [],
   "source": [
    "def get_info_from_deployed_versions(deployed_versions: dict) -> Tuple[str, str]:\n",
    "    \"\"\"\n",
    "    Get the version formats\n",
    "    \"\"\"\n",
    "    count = deployed_versions['count']\n",
    "    \n",
    "    latest_deployment = deployed_versions['results'][0]\n",
    "    date = latest_deployment['date_deployed']\n",
    "    version = latest_deployment['uid']\n",
    "    \n",
    "    return version, f'{count} ({format_date_string(date)})'"
   ]
  },
  {
   "cell_type": "code",
   "execution_count": 49,
   "metadata": {
    "scrolled": true
   },
   "outputs": [
    {
     "data": {
      "text/plain": [
       "('v8vByYsmaxTVbtF3S6hLHg', '1 (2021-03-31 23:53:00)')"
      ]
     },
     "execution_count": 49,
     "metadata": {},
     "output_type": "execute_result"
    }
   ],
   "source": [
    "get_info_from_deployed_versions(deployed_versions)"
   ]
  },
  {
   "cell_type": "markdown",
   "metadata": {},
   "source": [
    "Now let's construct the data we're going to use to update the submissions' XML before sending off to the newly created clone of the original asset."
   ]
  },
  {
   "cell_type": "code",
   "execution_count": 50,
   "metadata": {},
   "outputs": [],
   "source": [
    "_v_, v = get_info_from_deployed_versions(deployed_versions)\n",
    "clone_data = {\n",
    "        'clone_asset_uid': cloned_asset_uid,\n",
    "        'version': v,\n",
    "        '__version__': _v_,\n",
    "        'formhub_uuid': formhub_uuid\n",
    "    }"
   ]
  },
  {
   "cell_type": "markdown",
   "metadata": {},
   "source": [
    "# 4. Let's send that data off! 🌈\n",
    "\n",
    "![](https://media.giphy.com/media/qJuTECs2j8iX3TqNGv/giphy.gif)\n",
    "\n",
    "**Remember to include that `clone_data` dictionary we just created otherwise it will overwrite the existing data**"
   ]
  },
  {
   "cell_type": "code",
   "execution_count": 51,
   "metadata": {},
   "outputs": [],
   "source": [
    "parsed_xml = ET.fromstring(xml_str)\n",
    "all_xml_subs = parsed_xml.findall(f'results/{ASSET_UID}')"
   ]
  },
  {
   "cell_type": "code",
   "execution_count": 52,
   "metadata": {},
   "outputs": [],
   "source": [
    "responses = create_submissions(all_xml_subs, updated_subs, clone_data=clone_data)"
   ]
  },
  {
   "cell_type": "code",
   "execution_count": 53,
   "metadata": {},
   "outputs": [
    {
     "data": {
      "text/plain": [
       "True"
      ]
     },
     "execution_count": 53,
     "metadata": {},
     "output_type": "execute_result"
    }
   ],
   "source": [
    "all(res == 201 for res in responses)"
   ]
  },
  {
   "cell_type": "code",
   "execution_count": 54,
   "metadata": {},
   "outputs": [
    {
     "data": {
      "text/plain": [
       "201    3\n",
       "dtype: int64"
      ]
     },
     "execution_count": 54,
     "metadata": {},
     "output_type": "execute_result"
    }
   ],
   "source": [
    "pd.Series(responses).value_counts()"
   ]
  },
  {
   "cell_type": "markdown",
   "metadata": {},
   "source": [
    "### Success!! 🎉 (hopefully)\n",
    "\n",
    "![](https://media.giphy.com/media/mQG644PY8O7rG/giphy.gif)"
   ]
  },
  {
   "cell_type": "markdown",
   "metadata": {},
   "source": [
    "# Approach 2: Send modified data back to existing form\n",
    "---\n",
    "\n",
    "![](https://media.giphy.com/media/8cSRVVIa7QkNZmo939/giphy.gif)\n",
    "\n",
    "**Word of caution: this will overwrite your existing submissions, so be very sure that you know what you're doing otherwise you will corrupt your data.**\n",
    "\n",
    "The only difference in usage from [Approach 1](#Approach-1:-Send-modified-data-to-cloned-form) is that `clone_data` is not included in the function call."
   ]
  },
  {
   "cell_type": "code",
   "execution_count": 55,
   "metadata": {},
   "outputs": [],
   "source": [
    "parsed_xml = ET.fromstring(xml_str)\n",
    "all_xml_subs = parsed_xml.findall(f'results/{ASSET_UID}')"
   ]
  },
  {
   "cell_type": "code",
   "execution_count": 56,
   "metadata": {},
   "outputs": [],
   "source": [
    "responses = create_submissions(all_xml_subs, updated_subs)"
   ]
  },
  {
   "cell_type": "code",
   "execution_count": 57,
   "metadata": {},
   "outputs": [
    {
     "data": {
      "text/plain": [
       "True"
      ]
     },
     "execution_count": 57,
     "metadata": {},
     "output_type": "execute_result"
    }
   ],
   "source": [
    "all(res == 201 for res in responses)"
   ]
  },
  {
   "cell_type": "code",
   "execution_count": 58,
   "metadata": {},
   "outputs": [
    {
     "data": {
      "text/plain": [
       "201    3\n",
       "dtype: int64"
      ]
     },
     "execution_count": 58,
     "metadata": {},
     "output_type": "execute_result"
    }
   ],
   "source": [
    "pd.Series(responses).value_counts()"
   ]
  },
  {
   "cell_type": "markdown",
   "metadata": {},
   "source": [
    "## All done 🔥\n",
    "\n",
    "Check the data table in the Kobo UI and ensure that your data has been successfully submitted.\n",
    "\n",
    "![](https://media.giphy.com/media/lD76yTC5zxZPG/giphy.gif)"
   ]
  }
 ],
 "metadata": {
  "kernelspec": {
   "display_name": "Python 3",
   "language": "python",
   "name": "python3"
  },
  "language_info": {
   "codemirror_mode": {
    "name": "ipython",
    "version": 3
   },
   "file_extension": ".py",
   "mimetype": "text/x-python",
   "name": "python",
   "nbconvert_exporter": "python",
   "pygments_lexer": "ipython3",
   "version": "3.8.6"
  }
 },
 "nbformat": 4,
 "nbformat_minor": 4
}
