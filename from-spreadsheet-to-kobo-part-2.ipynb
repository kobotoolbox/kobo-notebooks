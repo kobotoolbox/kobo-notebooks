{
 "cells": [
  {
   "cell_type": "markdown",
   "metadata": {},
   "source": [
    "# From spreadsheet to Kobo — Part 2 (maybe 3?)\n",
    "---"
   ]
  },
  {
   "cell_type": "markdown",
   "metadata": {},
   "source": [
    "### Import whatever you need 👇"
   ]
  },
  {
   "cell_type": "code",
   "execution_count": 1,
   "metadata": {},
   "outputs": [],
   "source": [
    "import io\n",
    "import requests\n",
    "import uuid\n",
    "from datetime import datetime\n",
    "from random import choice, randint, sample\n",
    "from time import sleep\n",
    "from xml.etree import ElementTree as ET\n",
    "\n",
    "import pandas as pd\n",
    "import pytz"
   ]
  },
  {
   "cell_type": "markdown",
   "metadata": {},
   "source": [
    "### Set up some helpful constants that we'll use below 🤘"
   ]
  },
  {
   "cell_type": "code",
   "execution_count": 46,
   "metadata": {},
   "outputs": [],
   "source": [
    "# You can find this by navigating to https://kc.kobotoolbox.org/token\n",
    "TOKEN = '<TOKEN>'"
   ]
  },
  {
   "cell_type": "code",
   "execution_count": 3,
   "metadata": {},
   "outputs": [],
   "source": [
    "KC_URL = 'https://kc.kobotoolbox.org'\n",
    "KF_URL = 'https://kf.kobotoolbox.org'\n",
    "\n",
    "ASSET_UID = 'aN7gj3BsHV9pNPhnDXrKE3'\n",
    "\n",
    "ASSETS_URL = f'{KF_URL}/api/v2/assets/'\n",
    "DATA_URL = f'{ASSETS_URL}{ASSET_UID}/data'\n",
    "DEPLOYMENT_URL = '{}{}/deployment/'\n",
    "XML_URL = f'{DATA_URL}.xml'\n",
    "SUMISSION_URL = f'{KC_URL}/api/v1/submissions'\n",
    "FORMS_URL = f'{KC_URL}/api/v1/forms'\n",
    "\n",
    "HEADERS = {\n",
    "    'Authorization': f'Token {TOKEN}'\n",
    "}\n",
    "PARAMS = {\n",
    "    'format': 'json'\n",
    "}\n",
    "\n",
    "FILENAME = 'repeat_groups_export.xlsx'\n",
    "REPEAT_GROUP_NAME = 'group_gp3qf47'\n",
    "\n",
    "def _get_deployment_url(cloned_asset_uid):\n",
    "    return DEPLOYMENT_URL.format(ASSETS_URL, cloned_asset_uid)"
   ]
  },
  {
   "cell_type": "code",
   "execution_count": 4,
   "metadata": {
    "scrolled": true
   },
   "outputs": [
    {
     "data": {
      "text/html": [
       "<div>\n",
       "<style scoped>\n",
       "    .dataframe tbody tr th:only-of-type {\n",
       "        vertical-align: middle;\n",
       "    }\n",
       "\n",
       "    .dataframe tbody tr th {\n",
       "        vertical-align: top;\n",
       "    }\n",
       "\n",
       "    .dataframe thead th {\n",
       "        text-align: right;\n",
       "    }\n",
       "</style>\n",
       "<table border=\"1\" class=\"dataframe\">\n",
       "  <thead>\n",
       "    <tr style=\"text-align: right;\">\n",
       "      <th></th>\n",
       "      <th>start</th>\n",
       "      <th>end</th>\n",
       "      <th>What_is_your_name</th>\n",
       "      <th>_id</th>\n",
       "      <th>_uuid</th>\n",
       "      <th>_submission_time</th>\n",
       "      <th>_validation_status</th>\n",
       "      <th>_notes</th>\n",
       "      <th>_status</th>\n",
       "      <th>_submitted_by</th>\n",
       "      <th>_tags</th>\n",
       "      <th>_index</th>\n",
       "    </tr>\n",
       "  </thead>\n",
       "  <tbody>\n",
       "    <tr>\n",
       "      <th>0</th>\n",
       "      <td>2021-03-29T12:41:30.439-07:00</td>\n",
       "      <td>2021-03-29T12:51:46.944-07:00</td>\n",
       "      <td>David</td>\n",
       "      <td>90550160</td>\n",
       "      <td>c7c8433c-822e-48cd-9159-aa1e29b3ae45</td>\n",
       "      <td>2021-03-29T19:51:54</td>\n",
       "      <td>NaN</td>\n",
       "      <td>[]</td>\n",
       "      <td>submitted_via_web</td>\n",
       "      <td>NaN</td>\n",
       "      <td>NaN</td>\n",
       "      <td>1</td>\n",
       "    </tr>\n",
       "    <tr>\n",
       "      <th>1</th>\n",
       "      <td>2021-03-29T12:41:09.540-07:00</td>\n",
       "      <td>2021-03-29T12:41:30.426-07:00</td>\n",
       "      <td>Naomi</td>\n",
       "      <td>90549293</td>\n",
       "      <td>cfa60288-a8cc-4284-896d-daa1627c3b75</td>\n",
       "      <td>2021-03-29T19:41:37</td>\n",
       "      <td>NaN</td>\n",
       "      <td>[]</td>\n",
       "      <td>submitted_via_web</td>\n",
       "      <td>NaN</td>\n",
       "      <td>NaN</td>\n",
       "      <td>2</td>\n",
       "    </tr>\n",
       "    <tr>\n",
       "      <th>2</th>\n",
       "      <td>2021-03-29T12:40:41.303-07:00</td>\n",
       "      <td>2021-03-29T12:41:09.523-07:00</td>\n",
       "      <td>Josh</td>\n",
       "      <td>90549280</td>\n",
       "      <td>cef09794-91b2-488e-87cc-76ef53057332</td>\n",
       "      <td>2021-03-29T19:41:11</td>\n",
       "      <td>NaN</td>\n",
       "      <td>[]</td>\n",
       "      <td>submitted_via_web</td>\n",
       "      <td>NaN</td>\n",
       "      <td>NaN</td>\n",
       "      <td>3</td>\n",
       "    </tr>\n",
       "  </tbody>\n",
       "</table>\n",
       "</div>"
      ],
      "text/plain": [
       "                           start                            end  \\\n",
       "0  2021-03-29T12:41:30.439-07:00  2021-03-29T12:51:46.944-07:00   \n",
       "1  2021-03-29T12:41:09.540-07:00  2021-03-29T12:41:30.426-07:00   \n",
       "2  2021-03-29T12:40:41.303-07:00  2021-03-29T12:41:09.523-07:00   \n",
       "\n",
       "  What_is_your_name       _id                                 _uuid  \\\n",
       "0             David  90550160  c7c8433c-822e-48cd-9159-aa1e29b3ae45   \n",
       "1             Naomi  90549293  cfa60288-a8cc-4284-896d-daa1627c3b75   \n",
       "2              Josh  90549280  cef09794-91b2-488e-87cc-76ef53057332   \n",
       "\n",
       "      _submission_time  _validation_status _notes            _status  \\\n",
       "0  2021-03-29T19:51:54                 NaN     []  submitted_via_web   \n",
       "1  2021-03-29T19:41:37                 NaN     []  submitted_via_web   \n",
       "2  2021-03-29T19:41:11                 NaN     []  submitted_via_web   \n",
       "\n",
       "   _submitted_by  _tags  _index  \n",
       "0            NaN    NaN       1  \n",
       "1            NaN    NaN       2  \n",
       "2            NaN    NaN       3  "
      ]
     },
     "execution_count": 4,
     "metadata": {},
     "output_type": "execute_result"
    }
   ],
   "source": [
    "subs = pd.read_excel(FILENAME)\n",
    "subs.head()"
   ]
  },
  {
   "cell_type": "code",
   "execution_count": 5,
   "metadata": {},
   "outputs": [
    {
     "data": {
      "text/plain": [
       "['start',\n",
       " 'end',\n",
       " 'What_is_your_name',\n",
       " '_id',\n",
       " '_uuid',\n",
       " '_submission_time',\n",
       " '_validation_status',\n",
       " '_notes',\n",
       " '_status',\n",
       " '_submitted_by',\n",
       " '_tags',\n",
       " '_index']"
      ]
     },
     "execution_count": 5,
     "metadata": {},
     "output_type": "execute_result"
    }
   ],
   "source": [
    "subs.columns.to_list()"
   ]
  },
  {
   "cell_type": "code",
   "execution_count": 6,
   "metadata": {},
   "outputs": [
    {
     "data": {
      "text/html": [
       "<div>\n",
       "<style scoped>\n",
       "    .dataframe tbody tr th:only-of-type {\n",
       "        vertical-align: middle;\n",
       "    }\n",
       "\n",
       "    .dataframe tbody tr th {\n",
       "        vertical-align: top;\n",
       "    }\n",
       "\n",
       "    .dataframe thead th {\n",
       "        text-align: right;\n",
       "    }\n",
       "</style>\n",
       "<table border=\"1\" class=\"dataframe\">\n",
       "  <thead>\n",
       "    <tr style=\"text-align: right;\">\n",
       "      <th></th>\n",
       "      <th>What_is_your_name</th>\n",
       "      <th>_uuid</th>\n",
       "    </tr>\n",
       "  </thead>\n",
       "  <tbody>\n",
       "    <tr>\n",
       "      <th>0</th>\n",
       "      <td>David</td>\n",
       "      <td>c7c8433c-822e-48cd-9159-aa1e29b3ae45</td>\n",
       "    </tr>\n",
       "    <tr>\n",
       "      <th>1</th>\n",
       "      <td>Naomi</td>\n",
       "      <td>cfa60288-a8cc-4284-896d-daa1627c3b75</td>\n",
       "    </tr>\n",
       "    <tr>\n",
       "      <th>2</th>\n",
       "      <td>Josh</td>\n",
       "      <td>cef09794-91b2-488e-87cc-76ef53057332</td>\n",
       "    </tr>\n",
       "  </tbody>\n",
       "</table>\n",
       "</div>"
      ],
      "text/plain": [
       "  What_is_your_name                                 _uuid\n",
       "0             David  c7c8433c-822e-48cd-9159-aa1e29b3ae45\n",
       "1             Naomi  cfa60288-a8cc-4284-896d-daa1627c3b75\n",
       "2              Josh  cef09794-91b2-488e-87cc-76ef53057332"
      ]
     },
     "execution_count": 6,
     "metadata": {},
     "output_type": "execute_result"
    }
   ],
   "source": [
    "subs_cols = ['What_is_your_name', '_uuid']\n",
    "subs_filtered = subs[subs_cols]\n",
    "subs_filtered.head()"
   ]
  },
  {
   "cell_type": "code",
   "execution_count": 7,
   "metadata": {},
   "outputs": [
    {
     "data": {
      "text/html": [
       "<div>\n",
       "<style scoped>\n",
       "    .dataframe tbody tr th:only-of-type {\n",
       "        vertical-align: middle;\n",
       "    }\n",
       "\n",
       "    .dataframe tbody tr th {\n",
       "        vertical-align: top;\n",
       "    }\n",
       "\n",
       "    .dataframe thead th {\n",
       "        text-align: right;\n",
       "    }\n",
       "</style>\n",
       "<table border=\"1\" class=\"dataframe\">\n",
       "  <thead>\n",
       "    <tr style=\"text-align: right;\">\n",
       "      <th></th>\n",
       "      <th>A_pizza_place_you_like</th>\n",
       "      <th>Your_favourite_toppings_there</th>\n",
       "      <th>Your_favourite_toppings_there/cheese</th>\n",
       "      <th>Your_favourite_toppings_there/pepperoni</th>\n",
       "      <th>Your_favourite_toppings_there/avo</th>\n",
       "      <th>_index</th>\n",
       "      <th>_parent_table_name</th>\n",
       "      <th>_parent_index</th>\n",
       "      <th>_submission__id</th>\n",
       "      <th>_submission__uuid</th>\n",
       "      <th>_submission__submission_time</th>\n",
       "      <th>_submission__validation_status</th>\n",
       "      <th>_submission__notes</th>\n",
       "      <th>_submission__status</th>\n",
       "      <th>_submission__submitted_by</th>\n",
       "      <th>_submission__tags</th>\n",
       "    </tr>\n",
       "  </thead>\n",
       "  <tbody>\n",
       "    <tr>\n",
       "      <th>0</th>\n",
       "      <td>Place 1</td>\n",
       "      <td>cheese pepperoni</td>\n",
       "      <td>1</td>\n",
       "      <td>1</td>\n",
       "      <td>0</td>\n",
       "      <td>1</td>\n",
       "      <td>Repeat groups</td>\n",
       "      <td>1</td>\n",
       "      <td>90550160</td>\n",
       "      <td>c7c8433c-822e-48cd-9159-aa1e29b3ae45</td>\n",
       "      <td>2021-03-29T19:51:54</td>\n",
       "      <td>NaN</td>\n",
       "      <td>[]</td>\n",
       "      <td>submitted_via_web</td>\n",
       "      <td>NaN</td>\n",
       "      <td>[]</td>\n",
       "    </tr>\n",
       "    <tr>\n",
       "      <th>1</th>\n",
       "      <td>Place 2</td>\n",
       "      <td>cheese avo</td>\n",
       "      <td>1</td>\n",
       "      <td>0</td>\n",
       "      <td>1</td>\n",
       "      <td>2</td>\n",
       "      <td>Repeat groups</td>\n",
       "      <td>1</td>\n",
       "      <td>90550160</td>\n",
       "      <td>c7c8433c-822e-48cd-9159-aa1e29b3ae45</td>\n",
       "      <td>2021-03-29T19:51:54</td>\n",
       "      <td>NaN</td>\n",
       "      <td>[]</td>\n",
       "      <td>submitted_via_web</td>\n",
       "      <td>NaN</td>\n",
       "      <td>[]</td>\n",
       "    </tr>\n",
       "    <tr>\n",
       "      <th>2</th>\n",
       "      <td>Place 1</td>\n",
       "      <td>cheese</td>\n",
       "      <td>1</td>\n",
       "      <td>0</td>\n",
       "      <td>0</td>\n",
       "      <td>3</td>\n",
       "      <td>Repeat groups</td>\n",
       "      <td>2</td>\n",
       "      <td>90549293</td>\n",
       "      <td>cfa60288-a8cc-4284-896d-daa1627c3b75</td>\n",
       "      <td>2021-03-29T19:41:37</td>\n",
       "      <td>NaN</td>\n",
       "      <td>[]</td>\n",
       "      <td>submitted_via_web</td>\n",
       "      <td>NaN</td>\n",
       "      <td>[]</td>\n",
       "    </tr>\n",
       "    <tr>\n",
       "      <th>3</th>\n",
       "      <td>Place 1</td>\n",
       "      <td>cheese pepperoni</td>\n",
       "      <td>1</td>\n",
       "      <td>1</td>\n",
       "      <td>0</td>\n",
       "      <td>4</td>\n",
       "      <td>Repeat groups</td>\n",
       "      <td>3</td>\n",
       "      <td>90549280</td>\n",
       "      <td>cef09794-91b2-488e-87cc-76ef53057332</td>\n",
       "      <td>2021-03-29T19:41:11</td>\n",
       "      <td>NaN</td>\n",
       "      <td>[]</td>\n",
       "      <td>submitted_via_web</td>\n",
       "      <td>NaN</td>\n",
       "      <td>[]</td>\n",
       "    </tr>\n",
       "    <tr>\n",
       "      <th>4</th>\n",
       "      <td>Place 2</td>\n",
       "      <td>pepperoni avo</td>\n",
       "      <td>0</td>\n",
       "      <td>1</td>\n",
       "      <td>1</td>\n",
       "      <td>5</td>\n",
       "      <td>Repeat groups</td>\n",
       "      <td>3</td>\n",
       "      <td>90549280</td>\n",
       "      <td>cef09794-91b2-488e-87cc-76ef53057332</td>\n",
       "      <td>2021-03-29T19:41:11</td>\n",
       "      <td>NaN</td>\n",
       "      <td>[]</td>\n",
       "      <td>submitted_via_web</td>\n",
       "      <td>NaN</td>\n",
       "      <td>[]</td>\n",
       "    </tr>\n",
       "  </tbody>\n",
       "</table>\n",
       "</div>"
      ],
      "text/plain": [
       "  A_pizza_place_you_like Your_favourite_toppings_there  \\\n",
       "0                Place 1              cheese pepperoni   \n",
       "1                Place 2                    cheese avo   \n",
       "2                Place 1                        cheese   \n",
       "3                Place 1              cheese pepperoni   \n",
       "4                Place 2                 pepperoni avo   \n",
       "\n",
       "   Your_favourite_toppings_there/cheese  \\\n",
       "0                                     1   \n",
       "1                                     1   \n",
       "2                                     1   \n",
       "3                                     1   \n",
       "4                                     0   \n",
       "\n",
       "   Your_favourite_toppings_there/pepperoni  Your_favourite_toppings_there/avo  \\\n",
       "0                                        1                                  0   \n",
       "1                                        0                                  1   \n",
       "2                                        0                                  0   \n",
       "3                                        1                                  0   \n",
       "4                                        1                                  1   \n",
       "\n",
       "   _index _parent_table_name  _parent_index  _submission__id  \\\n",
       "0       1      Repeat groups              1         90550160   \n",
       "1       2      Repeat groups              1         90550160   \n",
       "2       3      Repeat groups              2         90549293   \n",
       "3       4      Repeat groups              3         90549280   \n",
       "4       5      Repeat groups              3         90549280   \n",
       "\n",
       "                      _submission__uuid _submission__submission_time  \\\n",
       "0  c7c8433c-822e-48cd-9159-aa1e29b3ae45          2021-03-29T19:51:54   \n",
       "1  c7c8433c-822e-48cd-9159-aa1e29b3ae45          2021-03-29T19:51:54   \n",
       "2  cfa60288-a8cc-4284-896d-daa1627c3b75          2021-03-29T19:41:37   \n",
       "3  cef09794-91b2-488e-87cc-76ef53057332          2021-03-29T19:41:11   \n",
       "4  cef09794-91b2-488e-87cc-76ef53057332          2021-03-29T19:41:11   \n",
       "\n",
       "   _submission__validation_status _submission__notes _submission__status  \\\n",
       "0                             NaN                 []   submitted_via_web   \n",
       "1                             NaN                 []   submitted_via_web   \n",
       "2                             NaN                 []   submitted_via_web   \n",
       "3                             NaN                 []   submitted_via_web   \n",
       "4                             NaN                 []   submitted_via_web   \n",
       "\n",
       "   _submission__submitted_by _submission__tags  \n",
       "0                        NaN                []  \n",
       "1                        NaN                []  \n",
       "2                        NaN                []  \n",
       "3                        NaN                []  \n",
       "4                        NaN                []  "
      ]
     },
     "execution_count": 7,
     "metadata": {},
     "output_type": "execute_result"
    }
   ],
   "source": [
    "repeat_subs = pd.read_excel(FILENAME, sheet_name=REPEAT_GROUP_NAME)\n",
    "repeat_subs.head()"
   ]
  },
  {
   "cell_type": "markdown",
   "metadata": {},
   "source": [
    "# Data cleaning"
   ]
  },
  {
   "cell_type": "code",
   "execution_count": 8,
   "metadata": {
    "scrolled": true
   },
   "outputs": [
    {
     "data": {
      "text/html": [
       "<div>\n",
       "<style scoped>\n",
       "    .dataframe tbody tr th:only-of-type {\n",
       "        vertical-align: middle;\n",
       "    }\n",
       "\n",
       "    .dataframe tbody tr th {\n",
       "        vertical-align: top;\n",
       "    }\n",
       "\n",
       "    .dataframe thead th {\n",
       "        text-align: right;\n",
       "    }\n",
       "</style>\n",
       "<table border=\"1\" class=\"dataframe\">\n",
       "  <thead>\n",
       "    <tr style=\"text-align: right;\">\n",
       "      <th></th>\n",
       "      <th>A_pizza_place_you_like</th>\n",
       "      <th>Your_favourite_toppings_there</th>\n",
       "      <th>_submission__uuid</th>\n",
       "    </tr>\n",
       "  </thead>\n",
       "  <tbody>\n",
       "    <tr>\n",
       "      <th>0</th>\n",
       "      <td>Place 1</td>\n",
       "      <td>cheese pepperoni</td>\n",
       "      <td>c7c8433c-822e-48cd-9159-aa1e29b3ae45</td>\n",
       "    </tr>\n",
       "    <tr>\n",
       "      <th>1</th>\n",
       "      <td>Place 2</td>\n",
       "      <td>cheese avo</td>\n",
       "      <td>c7c8433c-822e-48cd-9159-aa1e29b3ae45</td>\n",
       "    </tr>\n",
       "    <tr>\n",
       "      <th>2</th>\n",
       "      <td>Place 1</td>\n",
       "      <td>cheese</td>\n",
       "      <td>cfa60288-a8cc-4284-896d-daa1627c3b75</td>\n",
       "    </tr>\n",
       "    <tr>\n",
       "      <th>3</th>\n",
       "      <td>Place 1</td>\n",
       "      <td>cheese pepperoni</td>\n",
       "      <td>cef09794-91b2-488e-87cc-76ef53057332</td>\n",
       "    </tr>\n",
       "    <tr>\n",
       "      <th>4</th>\n",
       "      <td>Place 2</td>\n",
       "      <td>pepperoni avo</td>\n",
       "      <td>cef09794-91b2-488e-87cc-76ef53057332</td>\n",
       "    </tr>\n",
       "  </tbody>\n",
       "</table>\n",
       "</div>"
      ],
      "text/plain": [
       "  A_pizza_place_you_like Your_favourite_toppings_there  \\\n",
       "0                Place 1              cheese pepperoni   \n",
       "1                Place 2                    cheese avo   \n",
       "2                Place 1                        cheese   \n",
       "3                Place 1              cheese pepperoni   \n",
       "4                Place 2                 pepperoni avo   \n",
       "\n",
       "                      _submission__uuid  \n",
       "0  c7c8433c-822e-48cd-9159-aa1e29b3ae45  \n",
       "1  c7c8433c-822e-48cd-9159-aa1e29b3ae45  \n",
       "2  cfa60288-a8cc-4284-896d-daa1627c3b75  \n",
       "3  cef09794-91b2-488e-87cc-76ef53057332  \n",
       "4  cef09794-91b2-488e-87cc-76ef53057332  "
      ]
     },
     "execution_count": 8,
     "metadata": {},
     "output_type": "execute_result"
    }
   ],
   "source": [
    "repeat_subs_cols = ['A_pizza_place_you_like', 'Your_favourite_toppings_there', '_submission__uuid']\n",
    "repeat_subs_filtered = repeat_subs[repeat_subs_cols]\n",
    "repeat_subs_filtered.head()"
   ]
  },
  {
   "cell_type": "code",
   "execution_count": 9,
   "metadata": {},
   "outputs": [
    {
     "data": {
      "text/plain": [
       "'cef09794-91b2-488e-87cc-76ef53057332'"
      ]
     },
     "execution_count": 9,
     "metadata": {},
     "output_type": "execute_result"
    }
   ],
   "source": [
    "USER = 'Josh'\n",
    "user_uid = subs_filtered[subs_filtered['What_is_your_name'] == USER]['_uuid'].values[0]\n",
    "user_uid"
   ]
  },
  {
   "cell_type": "code",
   "execution_count": 10,
   "metadata": {},
   "outputs": [
    {
     "data": {
      "text/html": [
       "<div>\n",
       "<style scoped>\n",
       "    .dataframe tbody tr th:only-of-type {\n",
       "        vertical-align: middle;\n",
       "    }\n",
       "\n",
       "    .dataframe tbody tr th {\n",
       "        vertical-align: top;\n",
       "    }\n",
       "\n",
       "    .dataframe thead th {\n",
       "        text-align: right;\n",
       "    }\n",
       "</style>\n",
       "<table border=\"1\" class=\"dataframe\">\n",
       "  <thead>\n",
       "    <tr style=\"text-align: right;\">\n",
       "      <th></th>\n",
       "      <th>A_pizza_place_you_like</th>\n",
       "      <th>Your_favourite_toppings_there</th>\n",
       "      <th>_submission__uuid</th>\n",
       "    </tr>\n",
       "  </thead>\n",
       "  <tbody>\n",
       "    <tr>\n",
       "      <th>3</th>\n",
       "      <td>Place 1</td>\n",
       "      <td>cheese pepperoni</td>\n",
       "      <td>cef09794-91b2-488e-87cc-76ef53057332</td>\n",
       "    </tr>\n",
       "    <tr>\n",
       "      <th>4</th>\n",
       "      <td>Place 2</td>\n",
       "      <td>pepperoni avo</td>\n",
       "      <td>cef09794-91b2-488e-87cc-76ef53057332</td>\n",
       "    </tr>\n",
       "    <tr>\n",
       "      <th>5</th>\n",
       "      <td>Place 3</td>\n",
       "      <td>cheese pepperoni avo</td>\n",
       "      <td>cef09794-91b2-488e-87cc-76ef53057332</td>\n",
       "    </tr>\n",
       "  </tbody>\n",
       "</table>\n",
       "</div>"
      ],
      "text/plain": [
       "  A_pizza_place_you_like Your_favourite_toppings_there  \\\n",
       "3                Place 1              cheese pepperoni   \n",
       "4                Place 2                 pepperoni avo   \n",
       "5                Place 3          cheese pepperoni avo   \n",
       "\n",
       "                      _submission__uuid  \n",
       "3  cef09794-91b2-488e-87cc-76ef53057332  \n",
       "4  cef09794-91b2-488e-87cc-76ef53057332  \n",
       "5  cef09794-91b2-488e-87cc-76ef53057332  "
      ]
     },
     "execution_count": 10,
     "metadata": {},
     "output_type": "execute_result"
    }
   ],
   "source": [
    "repeat_subs_for_user = repeat_subs_filtered[repeat_subs_filtered['_submission__uuid'] == user_uid]\n",
    "repeat_subs_for_user"
   ]
  },
  {
   "cell_type": "code",
   "execution_count": 11,
   "metadata": {},
   "outputs": [],
   "source": [
    "def remove_choice(string_choices, choice):\n",
    "    return ' '.join([c for c in string_choices.split() if c != choice])"
   ]
  },
  {
   "cell_type": "code",
   "execution_count": 12,
   "metadata": {},
   "outputs": [],
   "source": [
    "def map_place_names(place):\n",
    "    places = {\n",
    "        'Place 1': 'Limoncello',\n",
    "        'Place 2': 'The Backyard',\n",
    "        'Place 3': 'Pizza Hut'\n",
    "    }\n",
    "    new_place = places.get(place)\n",
    "    return new_place if new_place is not None else place"
   ]
  },
  {
   "cell_type": "code",
   "execution_count": 13,
   "metadata": {},
   "outputs": [],
   "source": [
    "uuids_for_updating = [\n",
    "    'cef09794-91b2-488e-87cc-76ef53057332', \n",
    "    'c7c8433c-822e-48cd-9159-aa1e29b3ae45'\n",
    "]"
   ]
  },
  {
   "cell_type": "code",
   "execution_count": 14,
   "metadata": {},
   "outputs": [],
   "source": [
    "for i, row in repeat_subs_filtered.iterrows():\n",
    "    if row['_submission__uuid'] in uuids_for_updating:\n",
    "        row['Your_favourite_toppings_there'] = remove_choice(row['Your_favourite_toppings_there'], 'pepperoni')\n",
    "    row['A_pizza_place_you_like'] = map_place_names(row['A_pizza_place_you_like'])"
   ]
  },
  {
   "cell_type": "code",
   "execution_count": 15,
   "metadata": {},
   "outputs": [
    {
     "data": {
      "text/html": [
       "<div>\n",
       "<style scoped>\n",
       "    .dataframe tbody tr th:only-of-type {\n",
       "        vertical-align: middle;\n",
       "    }\n",
       "\n",
       "    .dataframe tbody tr th {\n",
       "        vertical-align: top;\n",
       "    }\n",
       "\n",
       "    .dataframe thead th {\n",
       "        text-align: right;\n",
       "    }\n",
       "</style>\n",
       "<table border=\"1\" class=\"dataframe\">\n",
       "  <thead>\n",
       "    <tr style=\"text-align: right;\">\n",
       "      <th></th>\n",
       "      <th>A_pizza_place_you_like</th>\n",
       "      <th>Your_favourite_toppings_there</th>\n",
       "      <th>_submission__uuid</th>\n",
       "    </tr>\n",
       "  </thead>\n",
       "  <tbody>\n",
       "    <tr>\n",
       "      <th>0</th>\n",
       "      <td>Limoncello</td>\n",
       "      <td>cheese</td>\n",
       "      <td>c7c8433c-822e-48cd-9159-aa1e29b3ae45</td>\n",
       "    </tr>\n",
       "    <tr>\n",
       "      <th>1</th>\n",
       "      <td>The Backyard</td>\n",
       "      <td>cheese avo</td>\n",
       "      <td>c7c8433c-822e-48cd-9159-aa1e29b3ae45</td>\n",
       "    </tr>\n",
       "    <tr>\n",
       "      <th>2</th>\n",
       "      <td>Limoncello</td>\n",
       "      <td>cheese</td>\n",
       "      <td>cfa60288-a8cc-4284-896d-daa1627c3b75</td>\n",
       "    </tr>\n",
       "    <tr>\n",
       "      <th>3</th>\n",
       "      <td>Limoncello</td>\n",
       "      <td>cheese</td>\n",
       "      <td>cef09794-91b2-488e-87cc-76ef53057332</td>\n",
       "    </tr>\n",
       "    <tr>\n",
       "      <th>4</th>\n",
       "      <td>The Backyard</td>\n",
       "      <td>avo</td>\n",
       "      <td>cef09794-91b2-488e-87cc-76ef53057332</td>\n",
       "    </tr>\n",
       "    <tr>\n",
       "      <th>5</th>\n",
       "      <td>Pizza Hut</td>\n",
       "      <td>cheese avo</td>\n",
       "      <td>cef09794-91b2-488e-87cc-76ef53057332</td>\n",
       "    </tr>\n",
       "  </tbody>\n",
       "</table>\n",
       "</div>"
      ],
      "text/plain": [
       "  A_pizza_place_you_like Your_favourite_toppings_there  \\\n",
       "0             Limoncello                        cheese   \n",
       "1           The Backyard                    cheese avo   \n",
       "2             Limoncello                        cheese   \n",
       "3             Limoncello                        cheese   \n",
       "4           The Backyard                           avo   \n",
       "5              Pizza Hut                    cheese avo   \n",
       "\n",
       "                      _submission__uuid  \n",
       "0  c7c8433c-822e-48cd-9159-aa1e29b3ae45  \n",
       "1  c7c8433c-822e-48cd-9159-aa1e29b3ae45  \n",
       "2  cfa60288-a8cc-4284-896d-daa1627c3b75  \n",
       "3  cef09794-91b2-488e-87cc-76ef53057332  \n",
       "4  cef09794-91b2-488e-87cc-76ef53057332  \n",
       "5  cef09794-91b2-488e-87cc-76ef53057332  "
      ]
     },
     "execution_count": 15,
     "metadata": {},
     "output_type": "execute_result"
    }
   ],
   "source": [
    "repeat_subs_filtered"
   ]
  },
  {
   "cell_type": "code",
   "execution_count": 16,
   "metadata": {},
   "outputs": [],
   "source": [
    "updated_subs = []\n",
    "for i, subs_row in subs_filtered.iterrows():\n",
    "    sub = {\n",
    "        'What_is_your_name': subs_row['What_is_your_name'],\n",
    "        '_uuid': subs_row['_uuid']\n",
    "    }\n",
    "    \n",
    "    df_repeats = repeat_subs_filtered[repeat_subs_filtered['_submission__uuid'] == sub['_uuid']]\n",
    "    repeat_group = []\n",
    "    for j, repeats_row in df_repeats.iterrows():\n",
    "        repeat_group.append({\n",
    "            'A_pizza_place_you_like': repeats_row['A_pizza_place_you_like'],\n",
    "            'Your_favourite_toppings_there': repeats_row['Your_favourite_toppings_there']\n",
    "        })\n",
    "    sub[REPEAT_GROUP_NAME] = repeat_group\n",
    "    updated_subs.append(sub)"
   ]
  },
  {
   "cell_type": "code",
   "execution_count": 17,
   "metadata": {},
   "outputs": [
    {
     "data": {
      "text/plain": [
       "[{'What_is_your_name': 'David',\n",
       "  '_uuid': 'c7c8433c-822e-48cd-9159-aa1e29b3ae45',\n",
       "  'group_gp3qf47': [{'A_pizza_place_you_like': 'Limoncello',\n",
       "    'Your_favourite_toppings_there': 'cheese'},\n",
       "   {'A_pizza_place_you_like': 'The Backyard',\n",
       "    'Your_favourite_toppings_there': 'cheese avo'}]},\n",
       " {'What_is_your_name': 'Naomi',\n",
       "  '_uuid': 'cfa60288-a8cc-4284-896d-daa1627c3b75',\n",
       "  'group_gp3qf47': [{'A_pizza_place_you_like': 'Limoncello',\n",
       "    'Your_favourite_toppings_there': 'cheese'}]},\n",
       " {'What_is_your_name': 'Josh',\n",
       "  '_uuid': 'cef09794-91b2-488e-87cc-76ef53057332',\n",
       "  'group_gp3qf47': [{'A_pizza_place_you_like': 'Limoncello',\n",
       "    'Your_favourite_toppings_there': 'cheese'},\n",
       "   {'A_pizza_place_you_like': 'The Backyard',\n",
       "    'Your_favourite_toppings_there': 'avo'},\n",
       "   {'A_pizza_place_you_like': 'Pizza Hut',\n",
       "    'Your_favourite_toppings_there': 'cheese avo'}]}]"
      ]
     },
     "execution_count": 17,
     "metadata": {},
     "output_type": "execute_result"
    }
   ],
   "source": [
    "updated_subs"
   ]
  },
  {
   "cell_type": "markdown",
   "metadata": {},
   "source": [
    "# Get submission XML"
   ]
  },
  {
   "cell_type": "code",
   "execution_count": 18,
   "metadata": {},
   "outputs": [],
   "source": [
    "res = requests.get(url=XML_URL, headers=HEADERS, params=PARAMS)"
   ]
  },
  {
   "cell_type": "code",
   "execution_count": 19,
   "metadata": {},
   "outputs": [
    {
     "data": {
      "text/plain": [
       "200"
      ]
     },
     "execution_count": 19,
     "metadata": {},
     "output_type": "execute_result"
    }
   ],
   "source": [
    "res.status_code"
   ]
  },
  {
   "cell_type": "code",
   "execution_count": 20,
   "metadata": {},
   "outputs": [
    {
     "name": "stdout",
     "output_type": "stream",
     "text": [
      "<aN7gj3BsHV9pNPhnDXrKE3 id=\"aN7gj3BsHV9pNPhnDXrKE3\" version=\"1 (2021-03-29 19:40:28)\">\n",
      "          <formhub>\n",
      "            <uuid>0b21fc06052142e4bd7594e20a1e39fb</uuid>\n",
      "          </formhub>\n",
      "          <start>2021-03-29T12:40:41.303-07:00</start>\n",
      "          <end>2021-03-29T12:41:09.523-07:00</end>\n",
      "          <What_is_your_name>Josh</What_is_your_name>\n",
      "          <group_gp3qf47>\n",
      "            <A_pizza_place_you_like>Place 1</A_pizza_place_you_like>\n",
      "            <Your_favourite_toppings_there>cheese pepperoni</Your_favourite_toppings_there>\n",
      "          </group_gp3qf47><group_gp3qf47>\n",
      "            <A_pizza_place_you_like>Place 2</A_pizza_place_you_like>\n",
      "            <Your_favourite_toppings_there>pepperoni avo</Your_favourite_toppings_there>\n",
      "          </group_gp3qf47><group_gp3qf47>\n",
      "            <A_pizza_place_you_like>Place 3</A_pizza_place_you_like>\n",
      "            <Your_favourite_toppings_there>cheese pepperoni avo</Your_favourite_toppings_there>\n",
      "          </group_gp3qf47>\n",
      "          <__version__>vuYnF2nxowu7CQN8LEhTgW</__version__>\n",
      "          <meta>\n",
      "            <instanceID>uuid:cef09794-91b2-488e-87cc-76ef53057332</instanceID>\n",
      "          </meta>\n",
      "        </aN7gj3BsHV9pNPhnDXrKE3>\n"
     ]
    }
   ],
   "source": [
    "parsed_xml = ET.fromstring(res.text)\n",
    "e = parsed_xml.find(f'results/{ASSET_UID}')\n",
    "print(ET.tostring(e).decode())"
   ]
  },
  {
   "cell_type": "code",
   "execution_count": 21,
   "metadata": {},
   "outputs": [
    {
     "data": {
      "text/plain": [
       "[<Element 'group_gp3qf47' at 0x7fc0e9562db0>,\n",
       " <Element 'group_gp3qf47' at 0x7fc0e9562f90>,\n",
       " <Element 'group_gp3qf47' at 0x7fc0e95150e0>]"
      ]
     },
     "execution_count": 21,
     "metadata": {},
     "output_type": "execute_result"
    }
   ],
   "source": [
    "e.findall('group_gp3qf47')"
   ]
  },
  {
   "cell_type": "code",
   "execution_count": 22,
   "metadata": {
    "scrolled": true
   },
   "outputs": [
    {
     "data": {
      "text/plain": [
       "[<Element 'aN7gj3BsHV9pNPhnDXrKE3' at 0x7fc0e9562ae0>,\n",
       " <Element 'aN7gj3BsHV9pNPhnDXrKE3' at 0x7fc0e9515400>,\n",
       " <Element 'aN7gj3BsHV9pNPhnDXrKE3' at 0x7fc0e9515950>]"
      ]
     },
     "execution_count": 22,
     "metadata": {},
     "output_type": "execute_result"
    }
   ],
   "source": [
    "all_xml_subs = parsed_xml.findall(f'results/{ASSET_UID}')\n",
    "all_xml_subs"
   ]
  },
  {
   "cell_type": "code",
   "execution_count": 23,
   "metadata": {},
   "outputs": [],
   "source": [
    "def get_xml_for_submission_uid(submission_uid):\n",
    "    return [x for x in all_xml_subs if x.find('meta/instanceID').text == f'uuid:{submission_uid}'][0]"
   ]
  },
  {
   "cell_type": "code",
   "execution_count": 24,
   "metadata": {
    "scrolled": true
   },
   "outputs": [
    {
     "data": {
      "text/plain": [
       "<Element 'aN7gj3BsHV9pNPhnDXrKE3' at 0x7fc0e9562ae0>"
      ]
     },
     "execution_count": 24,
     "metadata": {},
     "output_type": "execute_result"
    }
   ],
   "source": [
    "tmp_el = get_xml_for_submission_uid('cef09794-91b2-488e-87cc-76ef53057332')\n",
    "tmp_el"
   ]
  },
  {
   "cell_type": "code",
   "execution_count": 25,
   "metadata": {},
   "outputs": [
    {
     "data": {
      "text/plain": [
       "{'id': 'aN7gj3BsHV9pNPhnDXrKE3', 'version': '1 (2021-03-29 19:40:28)'}"
      ]
     },
     "execution_count": 25,
     "metadata": {},
     "output_type": "execute_result"
    }
   ],
   "source": [
    "tmp_el.attrib"
   ]
  },
  {
   "cell_type": "code",
   "execution_count": 26,
   "metadata": {},
   "outputs": [
    {
     "name": "stdout",
     "output_type": "stream",
     "text": [
      "<aN7gj3BsHV9pNPhnDXrKE3 id=\"aN7gj3BsHV9pNPhnDXrKE3\" version=\"1 (2021-03-29 19:40:28)\">\n",
      "          <formhub>\n",
      "            <uuid>0b21fc06052142e4bd7594e20a1e39fb</uuid>\n",
      "          </formhub>\n",
      "          <start>2021-03-29T12:40:41.303-07:00</start>\n",
      "          <end>2021-03-29T12:41:09.523-07:00</end>\n",
      "          <What_is_your_name>Josh</What_is_your_name>\n",
      "          <group_gp3qf47>\n",
      "            <A_pizza_place_you_like>Place 1</A_pizza_place_you_like>\n",
      "            <Your_favourite_toppings_there>cheese pepperoni</Your_favourite_toppings_there>\n",
      "          </group_gp3qf47><group_gp3qf47>\n",
      "            <A_pizza_place_you_like>Place 2</A_pizza_place_you_like>\n",
      "            <Your_favourite_toppings_there>pepperoni avo</Your_favourite_toppings_there>\n",
      "          </group_gp3qf47><group_gp3qf47>\n",
      "            <A_pizza_place_you_like>Place 3</A_pizza_place_you_like>\n",
      "            <Your_favourite_toppings_there>cheese pepperoni avo</Your_favourite_toppings_there>\n",
      "          </group_gp3qf47>\n",
      "          <__version__>vuYnF2nxowu7CQN8LEhTgW</__version__>\n",
      "          <meta>\n",
      "            <instanceID>uuid:cef09794-91b2-488e-87cc-76ef53057332</instanceID>\n",
      "          </meta>\n",
      "        </aN7gj3BsHV9pNPhnDXrKE3>\n"
     ]
    }
   ],
   "source": [
    "print(ET.tostring(tmp_el).decode())"
   ]
  },
  {
   "cell_type": "markdown",
   "metadata": {},
   "source": [
    "# Clone form"
   ]
  },
  {
   "cell_type": "code",
   "execution_count": 27,
   "metadata": {},
   "outputs": [],
   "source": [
    "data = {\n",
    "    'clone_from': ASSET_UID,\n",
    "    'name': f'Test clone from Jupyter {uuid.uuid4()}'\n",
    "}\n",
    "res = requests.post(url=ASSETS_URL, headers=HEADERS, params=PARAMS, data=data)"
   ]
  },
  {
   "cell_type": "code",
   "execution_count": 28,
   "metadata": {},
   "outputs": [
    {
     "data": {
      "text/plain": [
       "201"
      ]
     },
     "execution_count": 28,
     "metadata": {},
     "output_type": "execute_result"
    }
   ],
   "source": [
    "res.status_code"
   ]
  },
  {
   "cell_type": "code",
   "execution_count": 29,
   "metadata": {},
   "outputs": [],
   "source": [
    "cloned_survey = res.json()"
   ]
  },
  {
   "cell_type": "code",
   "execution_count": 30,
   "metadata": {},
   "outputs": [
    {
     "data": {
      "text/plain": [
       "'aCBWsvNKN85P4q38276zC8'"
      ]
     },
     "execution_count": 30,
     "metadata": {},
     "output_type": "execute_result"
    }
   ],
   "source": [
    "cloned_asset_uid = cloned_survey['uid']\n",
    "cloned_asset_uid"
   ]
  },
  {
   "cell_type": "markdown",
   "metadata": {},
   "source": [
    "# Deploy new form"
   ]
  },
  {
   "cell_type": "code",
   "execution_count": 31,
   "metadata": {},
   "outputs": [],
   "source": [
    "data = {\n",
    "    'active': 'true'\n",
    "}\n",
    "res = requests.post(url=_get_deployment_url(cloned_asset_uid), headers=HEADERS, params=PARAMS, data=data)"
   ]
  },
  {
   "cell_type": "code",
   "execution_count": 32,
   "metadata": {},
   "outputs": [
    {
     "data": {
      "text/plain": [
       "200"
      ]
     },
     "execution_count": 32,
     "metadata": {},
     "output_type": "execute_result"
    }
   ],
   "source": [
    "res.status_code"
   ]
  },
  {
   "cell_type": "markdown",
   "metadata": {},
   "source": [
    "# Get new formid"
   ]
  },
  {
   "cell_type": "code",
   "execution_count": 33,
   "metadata": {},
   "outputs": [],
   "source": [
    "res = requests.get(url=FORMS_URL, headers=HEADERS, params=PARAMS)"
   ]
  },
  {
   "cell_type": "code",
   "execution_count": 34,
   "metadata": {},
   "outputs": [
    {
     "data": {
      "text/plain": [
       "200"
      ]
     },
     "execution_count": 34,
     "metadata": {},
     "output_type": "execute_result"
    }
   ],
   "source": [
    "res.status_code"
   ]
  },
  {
   "cell_type": "code",
   "execution_count": 35,
   "metadata": {},
   "outputs": [],
   "source": [
    "all_forms = res.json()"
   ]
  },
  {
   "cell_type": "code",
   "execution_count": 36,
   "metadata": {},
   "outputs": [
    {
     "data": {
      "text/plain": [
       "{'url': 'https://kc.kobotoolbox.org/api/v1/forms/646017?format=json',\n",
       " 'formid': 646017,\n",
       " 'metadata': [],\n",
       " 'owner': 'joshuaberetta',\n",
       " 'public': False,\n",
       " 'public_data': False,\n",
       " 'require_auth': False,\n",
       " 'tags': [],\n",
       " 'title': 'Test clone from Jupyter 35886dc5-45c9-46e1-b448-537b5e02de2e',\n",
       " 'users': [{'user': 'joshuaberetta',\n",
       "   'permissions': ['add_datadictionary',\n",
       "    'add_xform',\n",
       "    'change_datadictionary',\n",
       "    'change_xform',\n",
       "    'delete_data_xform',\n",
       "    'delete_datadictionary',\n",
       "    'delete_xform',\n",
       "    'move_xform',\n",
       "    'report_xform',\n",
       "    'transfer_xform',\n",
       "    'validate_xform',\n",
       "    'view_xform']}],\n",
       " 'hash': 'md5:321a1149d087f94db24790a6e4b2798a',\n",
       " 'has_kpi_hooks': False,\n",
       " 'description': 'Test clone from Jupyter 35886dc5-45c9-46e1-b448-537b5e02de2e',\n",
       " 'downloadable': True,\n",
       " 'allows_sms': False,\n",
       " 'encrypted': False,\n",
       " 'sms_id_string': 'aCBWsvNKN85P4q38276zC8',\n",
       " 'id_string': 'aCBWsvNKN85P4q38276zC8',\n",
       " 'date_created': '2021-03-29T23:54:10.235417Z',\n",
       " 'date_modified': '2021-03-29T23:54:10.378004Z',\n",
       " 'last_submission_time': None,\n",
       " 'uuid': 'e111c5d954064fe4930e334f1f242a87',\n",
       " 'instances_with_geopoints': False,\n",
       " 'num_of_submissions': 0,\n",
       " 'kpi_asset_uid': 'aCBWsvNKN85P4q38276zC8'}"
      ]
     },
     "execution_count": 36,
     "metadata": {},
     "output_type": "execute_result"
    }
   ],
   "source": [
    "latest_form = [f for f in all_forms if f['id_string'] == cloned_asset_uid][0]\n",
    "latest_form"
   ]
  },
  {
   "cell_type": "code",
   "execution_count": 37,
   "metadata": {},
   "outputs": [
    {
     "data": {
      "text/plain": [
       "646017"
      ]
     },
     "execution_count": 37,
     "metadata": {},
     "output_type": "execute_result"
    }
   ],
   "source": [
    "form_id = latest_form['formid']\n",
    "form_id"
   ]
  },
  {
   "cell_type": "markdown",
   "metadata": {},
   "source": [
    "# Get deployent info"
   ]
  },
  {
   "cell_type": "code",
   "execution_count": 38,
   "metadata": {},
   "outputs": [],
   "source": [
    "res = requests.get(f'{ASSETS_URL}{cloned_asset_uid}', headers=HEADERS, params=PARAMS)"
   ]
  },
  {
   "cell_type": "code",
   "execution_count": 39,
   "metadata": {},
   "outputs": [
    {
     "data": {
      "text/plain": [
       "200"
      ]
     },
     "execution_count": 39,
     "metadata": {},
     "output_type": "execute_result"
    }
   ],
   "source": [
    "res.status_code"
   ]
  },
  {
   "cell_type": "code",
   "execution_count": 40,
   "metadata": {},
   "outputs": [],
   "source": [
    "deployed_versions = res.json()['deployed_versions']"
   ]
  },
  {
   "cell_type": "code",
   "execution_count": 41,
   "metadata": {},
   "outputs": [
    {
     "data": {
      "text/plain": [
       "1"
      ]
     },
     "execution_count": 41,
     "metadata": {},
     "output_type": "execute_result"
    }
   ],
   "source": [
    "count = deployed_versions['count']\n",
    "count"
   ]
  },
  {
   "cell_type": "code",
   "execution_count": 42,
   "metadata": {},
   "outputs": [
    {
     "data": {
      "text/plain": [
       "'2021-03-29T23:54:07.528773Z'"
      ]
     },
     "execution_count": 42,
     "metadata": {},
     "output_type": "execute_result"
    }
   ],
   "source": [
    "date_deployed = deployed_versions['results'][0]['date_deployed']\n",
    "date_deployed"
   ]
  },
  {
   "cell_type": "code",
   "execution_count": 43,
   "metadata": {},
   "outputs": [],
   "source": [
    "def format_date_string(date_str):\n",
    "    \"\"\"\n",
    "    goal: \"1 (2021-03-29 19:40:28)\"\n",
    "    \"\"\"\n",
    "    date, time = date_str.split('T')\n",
    "    return f\"{date} {time.split('.')[0]}\""
   ]
  },
  {
   "cell_type": "code",
   "execution_count": 44,
   "metadata": {},
   "outputs": [
    {
     "data": {
      "text/plain": [
       "'2021-03-29 23:54:07'"
      ]
     },
     "execution_count": 44,
     "metadata": {},
     "output_type": "execute_result"
    }
   ],
   "source": [
    "format_date_string(date_deployed)"
   ]
  },
  {
   "cell_type": "markdown",
   "metadata": {},
   "source": [
    "# 🚧 WIP 🚧"
   ]
  },
  {
   "cell_type": "code",
   "execution_count": 45,
   "metadata": {},
   "outputs": [],
   "source": [
    "def submit_data(xml_sub: bytes, _uuid: str) -> str:\n",
    "    \"\"\"\n",
    "    Send the XML to kobo!\n",
    "    \"\"\"\n",
    "    file_tuple = (_uuid, io.BytesIO(xml_sub))\n",
    "    files = {'xml_submission_file': file_tuple}\n",
    "    res = requests.Request(\n",
    "        method='POST', url=SUMISSION_URL, files=files, headers=HEADERS\n",
    "    )\n",
    "    session = requests.Session()\n",
    "    res = session.send(res.prepare())\n",
    "    return res.status_code\n",
    "\n",
    "def format_openrosa_datetime() -> str:\n",
    "    \"\"\"\n",
    "    This is required to get the correct datetime formatting\n",
    "    \"\"\"\n",
    "    return datetime.now(tz=pytz.UTC).isoformat('T', 'milliseconds')\n",
    "\n",
    "def update_element_value(e: ET.Element, name: str, value: str) -> None:\n",
    "    \"\"\"\n",
    "    Get or create a node and give it a value\n",
    "    \"\"\"\n",
    "    el = e.find(name)\n",
    "    if el is None:\n",
    "        el = ET.SubElement(e, name)\n",
    "    el.text = value\n",
    "\n",
    "def create_submissions(subs: list, form_id: int, asset_uid: str) -> list:\n",
    "    \"\"\"\n",
    "    Take a bunch of submissions and send them off\n",
    "    \"\"\"\n",
    "    all_subs = []\n",
    "    for sub in subs:\n",
    "        parsed_xml = get_xml_for_submission_uid(sub['_uuid'])\n",
    "        \n",
    "        _now = format_openrosa_datetime()\n",
    "        _uuid = str(uuid.uuid4())\n",
    "        \n",
    "        for k, v in sub.items():\n",
    "            if isinstance(v, list):\n",
    "                for item in v:\n",
    "                    update_element_value(parsed_xml, item, row[item])\n",
    "            else:\n",
    "                update_element_value()\n",
    "        \n",
    "        # We have to update the instanceID, otherwise there'll be issues\n",
    "        update_element_value(parsed_xml, 'meta/instanceID', f'uuid:{_uuid}')\n",
    "        \n",
    "        # Updating the `start` and `end` times is not really necessary, but \n",
    "        # probably something you'd want to do\n",
    "        update_element_value(parsed_xml, 'start', _now)\n",
    "        update_element_value(parsed_xml, 'end', _now)\n",
    "        \n",
    "        all_subs.append(submit_data(ET.tostring(parsed_xml), _uuid))\n",
    "        \n",
    "        # If you are submitting a large amount of data, please be mindful that it can\n",
    "        # overwhelm the servers if sent in a short span of time. Letting it sleep for\n",
    "        # for a short stint between each upload will be much appreciated\n",
    "        sleep(0.2)\n",
    "        \n",
    "    return all_subs"
   ]
  }
 ],
 "metadata": {
  "kernelspec": {
   "display_name": "Python 3",
   "language": "python",
   "name": "python3"
  },
  "language_info": {
   "codemirror_mode": {
    "name": "ipython",
    "version": 3
   },
   "file_extension": ".py",
   "mimetype": "text/x-python",
   "name": "python",
   "nbconvert_exporter": "python",
   "pygments_lexer": "ipython3",
   "version": "3.8.6"
  }
 },
 "nbformat": 4,
 "nbformat_minor": 4
}
